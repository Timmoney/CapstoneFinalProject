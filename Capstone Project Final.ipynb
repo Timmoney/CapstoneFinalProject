{
 "cells": [
  {
   "cell_type": "markdown",
   "metadata": {},
   "source": [
    "# Introduction\n",
    "As an investor, you have enough money in hand and plan to invest around Toronto area.\n",
    "The following analysis will provide some recommendations about what store to be opened and where it should be opened\n",
    "<br/>\n",
    "<br/>\n",
    "The dataset is from wikipedia and I am going to use the foursquare API for explore location venues.\n",
    "<br/>\n",
    "<br/>\n",
    "The method is K-mean cluster and it help us understand the correlation between neighborhood and its surrounding venues"
   ]
  },
  {
   "cell_type": "markdown",
   "metadata": {},
   "source": [
    "## Part 1 - Preprocessing of data"
   ]
  },
  {
   "cell_type": "code",
   "execution_count": 1,
   "metadata": {
    "collapsed": true,
    "scrolled": false
   },
   "outputs": [],
   "source": [
    "# BeautifulSoup for scrape web data\n",
    "from bs4 import BeautifulSoup\n",
    "\n",
    "# Requests for url\n",
    "import requests\n",
    "\n",
    "# pandas for dataframe\n",
    "import pandas as pd\n",
    "\n",
    "# folium for map\n",
    "import folium\n",
    "\n",
    "# Nominatim for geolocator\n",
    "from geopy.geocoders import Nominatim\n",
    "\n",
    "# numpy for nparray\n",
    "import numpy as np\n",
    "\n",
    "# matplotlib for diaply K\n",
    "import matplotlib.pyplot as plt\n",
    "\n",
    "# cdist for elbow method \n",
    "from scipy.spatial.distance import cdist \n",
    "\n",
    "# KMeans\n",
    "from sklearn.cluster import KMeans\n",
    "\n",
    "# cm for color map\n",
    "import matplotlib.cm as cm\n",
    "\n",
    "# colors\n",
    "import matplotlib.colors as colors"
   ]
  },
  {
   "cell_type": "markdown",
   "metadata": {},
   "source": [
    "### Scrape and Clean the Wikipedia Data\n",
    "source: https://en.wikipedia.org/wiki/List_of_postal_codes_of_Canada:_M"
   ]
  },
  {
   "cell_type": "code",
   "execution_count": 2,
   "metadata": {
    "scrolled": false
   },
   "outputs": [
    {
     "data": {
      "text/html": [
       "<div>\n",
       "<style scoped>\n",
       "    .dataframe tbody tr th:only-of-type {\n",
       "        vertical-align: middle;\n",
       "    }\n",
       "\n",
       "    .dataframe tbody tr th {\n",
       "        vertical-align: top;\n",
       "    }\n",
       "\n",
       "    .dataframe thead th {\n",
       "        text-align: right;\n",
       "    }\n",
       "</style>\n",
       "<table border=\"1\" class=\"dataframe\">\n",
       "  <thead>\n",
       "    <tr style=\"text-align: right;\">\n",
       "      <th></th>\n",
       "      <th>Postcode</th>\n",
       "      <th>Borough</th>\n",
       "      <th>Neighbourhood</th>\n",
       "    </tr>\n",
       "  </thead>\n",
       "  <tbody>\n",
       "    <tr>\n",
       "      <th>0</th>\n",
       "      <td>M1A</td>\n",
       "      <td>Not assigned</td>\n",
       "      <td>Not assigned</td>\n",
       "    </tr>\n",
       "    <tr>\n",
       "      <th>1</th>\n",
       "      <td>M2A</td>\n",
       "      <td>Not assigned</td>\n",
       "      <td>Not assigned</td>\n",
       "    </tr>\n",
       "    <tr>\n",
       "      <th>2</th>\n",
       "      <td>M3A</td>\n",
       "      <td>North York</td>\n",
       "      <td>Parkwoods</td>\n",
       "    </tr>\n",
       "  </tbody>\n",
       "</table>\n",
       "</div>"
      ],
      "text/plain": [
       "  Postcode       Borough Neighbourhood\n",
       "0      M1A  Not assigned  Not assigned\n",
       "1      M2A  Not assigned  Not assigned\n",
       "2      M3A    North York     Parkwoods"
      ]
     },
     "execution_count": 2,
     "metadata": {},
     "output_type": "execute_result"
    }
   ],
   "source": [
    "# Get Url and Create a soup object(HTML) from the source\n",
    "source = requests.get('https://en.wikipedia.org/wiki/List_of_postal_codes_of_Canada:_M').text\n",
    "soup = BeautifulSoup(source, 'lxml')\n",
    "\n",
    "# Search body --> div --> class --> table from soup object(HTML)\n",
    "table = soup.body.find('div', class_ = 'mw-parser-output').find('table')\n",
    "\n",
    "# Parse the soup object to string and read it into panda dataframe: [0] for first index of the list\n",
    "df = pd.read_html(str(table))[0]\n",
    "df.head(3)"
   ]
  },
  {
   "cell_type": "code",
   "execution_count": 3,
   "metadata": {
    "scrolled": false
   },
   "outputs": [
    {
     "data": {
      "text/plain": [
       "(287, 3)"
      ]
     },
     "execution_count": 3,
     "metadata": {},
     "output_type": "execute_result"
    }
   ],
   "source": [
    "df.shape"
   ]
  },
  {
   "cell_type": "code",
   "execution_count": 4,
   "metadata": {
    "scrolled": false
   },
   "outputs": [
    {
     "data": {
      "text/html": [
       "<div>\n",
       "<style scoped>\n",
       "    .dataframe tbody tr th:only-of-type {\n",
       "        vertical-align: middle;\n",
       "    }\n",
       "\n",
       "    .dataframe tbody tr th {\n",
       "        vertical-align: top;\n",
       "    }\n",
       "\n",
       "    .dataframe thead th {\n",
       "        text-align: right;\n",
       "    }\n",
       "</style>\n",
       "<table border=\"1\" class=\"dataframe\">\n",
       "  <thead>\n",
       "    <tr style=\"text-align: right;\">\n",
       "      <th></th>\n",
       "      <th>Postcode</th>\n",
       "      <th>Borough</th>\n",
       "      <th>Neighbourhood</th>\n",
       "    </tr>\n",
       "  </thead>\n",
       "  <tbody>\n",
       "    <tr>\n",
       "      <th>2</th>\n",
       "      <td>M3A</td>\n",
       "      <td>North York</td>\n",
       "      <td>Parkwoods</td>\n",
       "    </tr>\n",
       "    <tr>\n",
       "      <th>3</th>\n",
       "      <td>M4A</td>\n",
       "      <td>North York</td>\n",
       "      <td>Victoria Village</td>\n",
       "    </tr>\n",
       "    <tr>\n",
       "      <th>4</th>\n",
       "      <td>M5A</td>\n",
       "      <td>Downtown Toronto</td>\n",
       "      <td>Harbourfront</td>\n",
       "    </tr>\n",
       "  </tbody>\n",
       "</table>\n",
       "</div>"
      ],
      "text/plain": [
       "  Postcode           Borough     Neighbourhood\n",
       "2      M3A        North York         Parkwoods\n",
       "3      M4A        North York  Victoria Village\n",
       "4      M5A  Downtown Toronto      Harbourfront"
      ]
     },
     "execution_count": 4,
     "metadata": {},
     "output_type": "execute_result"
    }
   ],
   "source": [
    "# Remove 'Not assigned' from Borough column\n",
    "df_clean_Borough = df[df.Borough != 'Not assigned']\n",
    "df_clean_Borough.head(3)"
   ]
  },
  {
   "cell_type": "code",
   "execution_count": 5,
   "metadata": {
    "scrolled": false
   },
   "outputs": [
    {
     "data": {
      "text/html": [
       "<div>\n",
       "<style scoped>\n",
       "    .dataframe tbody tr th:only-of-type {\n",
       "        vertical-align: middle;\n",
       "    }\n",
       "\n",
       "    .dataframe tbody tr th {\n",
       "        vertical-align: top;\n",
       "    }\n",
       "\n",
       "    .dataframe thead th {\n",
       "        text-align: right;\n",
       "    }\n",
       "</style>\n",
       "<table border=\"1\" class=\"dataframe\">\n",
       "  <thead>\n",
       "    <tr style=\"text-align: right;\">\n",
       "      <th></th>\n",
       "      <th>Postcode</th>\n",
       "      <th>Borough</th>\n",
       "      <th>Neighbourhood</th>\n",
       "    </tr>\n",
       "  </thead>\n",
       "  <tbody>\n",
       "    <tr>\n",
       "      <th>0</th>\n",
       "      <td>M1B</td>\n",
       "      <td>Scarborough</td>\n",
       "      <td>Rouge, Malvern</td>\n",
       "    </tr>\n",
       "    <tr>\n",
       "      <th>1</th>\n",
       "      <td>M1C</td>\n",
       "      <td>Scarborough</td>\n",
       "      <td>Highland Creek, Rouge Hill, Port Union</td>\n",
       "    </tr>\n",
       "    <tr>\n",
       "      <th>2</th>\n",
       "      <td>M1E</td>\n",
       "      <td>Scarborough</td>\n",
       "      <td>Guildwood, Morningside, West Hill</td>\n",
       "    </tr>\n",
       "  </tbody>\n",
       "</table>\n",
       "</div>"
      ],
      "text/plain": [
       "  Postcode      Borough                           Neighbourhood\n",
       "0      M1B  Scarborough                          Rouge, Malvern\n",
       "1      M1C  Scarborough  Highland Creek, Rouge Hill, Port Union\n",
       "2      M1E  Scarborough       Guildwood, Morningside, West Hill"
      ]
     },
     "execution_count": 5,
     "metadata": {},
     "output_type": "execute_result"
    }
   ],
   "source": [
    "# Each Borough has many neighbourhoods --> group them together\n",
    "df_group_neigh = df_clean_Borough.groupby('Postcode', as_index = False).agg({'Borough': 'first', 'Neighbourhood': ', '.join })\n",
    "df_group_neigh.head(3)"
   ]
  },
  {
   "cell_type": "code",
   "execution_count": 6,
   "metadata": {
    "scrolled": false
   },
   "outputs": [
    {
     "data": {
      "text/html": [
       "<div>\n",
       "<style scoped>\n",
       "    .dataframe tbody tr th:only-of-type {\n",
       "        vertical-align: middle;\n",
       "    }\n",
       "\n",
       "    .dataframe tbody tr th {\n",
       "        vertical-align: top;\n",
       "    }\n",
       "\n",
       "    .dataframe thead th {\n",
       "        text-align: right;\n",
       "    }\n",
       "</style>\n",
       "<table border=\"1\" class=\"dataframe\">\n",
       "  <thead>\n",
       "    <tr style=\"text-align: right;\">\n",
       "      <th></th>\n",
       "      <th>Postcode</th>\n",
       "      <th>Borough</th>\n",
       "      <th>Neighbourhood</th>\n",
       "    </tr>\n",
       "  </thead>\n",
       "  <tbody>\n",
       "  </tbody>\n",
       "</table>\n",
       "</div>"
      ],
      "text/plain": [
       "Empty DataFrame\n",
       "Columns: [Postcode, Borough, Neighbourhood]\n",
       "Index: []"
      ]
     },
     "execution_count": 6,
     "metadata": {},
     "output_type": "execute_result"
    }
   ],
   "source": [
    "# check if there is any missing neighbourhood --> nothing all good\n",
    "check_df = df_group_neigh.loc[df_group_neigh['Neighbourhood'] == 'Not assigned']\n",
    "check_df"
   ]
  },
  {
   "cell_type": "code",
   "execution_count": 7,
   "metadata": {
    "scrolled": false
   },
   "outputs": [
    {
     "data": {
      "text/plain": [
       "(103, 3)"
      ]
     },
     "execution_count": 7,
     "metadata": {},
     "output_type": "execute_result"
    }
   ],
   "source": [
    "# check size\n",
    "df_group_neigh.shape"
   ]
  },
  {
   "cell_type": "markdown",
   "metadata": {},
   "source": [
    "### Merge Second Dataset with Latitude and Longitude to the Wikipedia Data"
   ]
  },
  {
   "cell_type": "code",
   "execution_count": 8,
   "metadata": {
    "scrolled": false
   },
   "outputs": [
    {
     "data": {
      "text/html": [
       "<div>\n",
       "<style scoped>\n",
       "    .dataframe tbody tr th:only-of-type {\n",
       "        vertical-align: middle;\n",
       "    }\n",
       "\n",
       "    .dataframe tbody tr th {\n",
       "        vertical-align: top;\n",
       "    }\n",
       "\n",
       "    .dataframe thead th {\n",
       "        text-align: right;\n",
       "    }\n",
       "</style>\n",
       "<table border=\"1\" class=\"dataframe\">\n",
       "  <thead>\n",
       "    <tr style=\"text-align: right;\">\n",
       "      <th></th>\n",
       "      <th>Postal Code</th>\n",
       "      <th>Latitude</th>\n",
       "      <th>Longitude</th>\n",
       "    </tr>\n",
       "  </thead>\n",
       "  <tbody>\n",
       "    <tr>\n",
       "      <th>0</th>\n",
       "      <td>M1B</td>\n",
       "      <td>43.806686</td>\n",
       "      <td>-79.194353</td>\n",
       "    </tr>\n",
       "    <tr>\n",
       "      <th>1</th>\n",
       "      <td>M1C</td>\n",
       "      <td>43.784535</td>\n",
       "      <td>-79.160497</td>\n",
       "    </tr>\n",
       "    <tr>\n",
       "      <th>2</th>\n",
       "      <td>M1E</td>\n",
       "      <td>43.763573</td>\n",
       "      <td>-79.188711</td>\n",
       "    </tr>\n",
       "  </tbody>\n",
       "</table>\n",
       "</div>"
      ],
      "text/plain": [
       "  Postal Code   Latitude  Longitude\n",
       "0         M1B  43.806686 -79.194353\n",
       "1         M1C  43.784535 -79.160497\n",
       "2         M1E  43.763573 -79.188711"
      ]
     },
     "execution_count": 8,
     "metadata": {},
     "output_type": "execute_result"
    }
   ],
   "source": [
    "# Second Dataset\n",
    "LL = pd.read_csv('Geospatial_Coordinates.csv')\n",
    "LL.head(3)"
   ]
  },
  {
   "cell_type": "code",
   "execution_count": 9,
   "metadata": {
    "scrolled": false
   },
   "outputs": [
    {
     "data": {
      "text/html": [
       "<div>\n",
       "<style scoped>\n",
       "    .dataframe tbody tr th:only-of-type {\n",
       "        vertical-align: middle;\n",
       "    }\n",
       "\n",
       "    .dataframe tbody tr th {\n",
       "        vertical-align: top;\n",
       "    }\n",
       "\n",
       "    .dataframe thead th {\n",
       "        text-align: right;\n",
       "    }\n",
       "</style>\n",
       "<table border=\"1\" class=\"dataframe\">\n",
       "  <thead>\n",
       "    <tr style=\"text-align: right;\">\n",
       "      <th></th>\n",
       "      <th>Postcode</th>\n",
       "      <th>Latitude</th>\n",
       "      <th>Longitude</th>\n",
       "    </tr>\n",
       "  </thead>\n",
       "  <tbody>\n",
       "    <tr>\n",
       "      <th>0</th>\n",
       "      <td>M1B</td>\n",
       "      <td>43.806686</td>\n",
       "      <td>-79.194353</td>\n",
       "    </tr>\n",
       "    <tr>\n",
       "      <th>1</th>\n",
       "      <td>M1C</td>\n",
       "      <td>43.784535</td>\n",
       "      <td>-79.160497</td>\n",
       "    </tr>\n",
       "    <tr>\n",
       "      <th>2</th>\n",
       "      <td>M1E</td>\n",
       "      <td>43.763573</td>\n",
       "      <td>-79.188711</td>\n",
       "    </tr>\n",
       "  </tbody>\n",
       "</table>\n",
       "</div>"
      ],
      "text/plain": [
       "  Postcode   Latitude  Longitude\n",
       "0      M1B  43.806686 -79.194353\n",
       "1      M1C  43.784535 -79.160497\n",
       "2      M1E  43.763573 -79.188711"
      ]
     },
     "execution_count": 9,
     "metadata": {},
     "output_type": "execute_result"
    }
   ],
   "source": [
    "# Rename 'Postal Code' to 'Postcode'\n",
    "LL = LL.rename(columns={\"Postal Code\": \"Postcode\"})\n",
    "LL.head(3)"
   ]
  },
  {
   "cell_type": "code",
   "execution_count": 10,
   "metadata": {
    "scrolled": false
   },
   "outputs": [
    {
     "data": {
      "text/html": [
       "<div>\n",
       "<style scoped>\n",
       "    .dataframe tbody tr th:only-of-type {\n",
       "        vertical-align: middle;\n",
       "    }\n",
       "\n",
       "    .dataframe tbody tr th {\n",
       "        vertical-align: top;\n",
       "    }\n",
       "\n",
       "    .dataframe thead th {\n",
       "        text-align: right;\n",
       "    }\n",
       "</style>\n",
       "<table border=\"1\" class=\"dataframe\">\n",
       "  <thead>\n",
       "    <tr style=\"text-align: right;\">\n",
       "      <th></th>\n",
       "      <th>Postcode</th>\n",
       "      <th>Borough</th>\n",
       "      <th>Neighbourhood</th>\n",
       "      <th>Latitude</th>\n",
       "      <th>Longitude</th>\n",
       "    </tr>\n",
       "  </thead>\n",
       "  <tbody>\n",
       "    <tr>\n",
       "      <th>0</th>\n",
       "      <td>M1B</td>\n",
       "      <td>Scarborough</td>\n",
       "      <td>Rouge, Malvern</td>\n",
       "      <td>43.806686</td>\n",
       "      <td>-79.194353</td>\n",
       "    </tr>\n",
       "    <tr>\n",
       "      <th>1</th>\n",
       "      <td>M1C</td>\n",
       "      <td>Scarborough</td>\n",
       "      <td>Highland Creek, Rouge Hill, Port Union</td>\n",
       "      <td>43.784535</td>\n",
       "      <td>-79.160497</td>\n",
       "    </tr>\n",
       "    <tr>\n",
       "      <th>2</th>\n",
       "      <td>M1E</td>\n",
       "      <td>Scarborough</td>\n",
       "      <td>Guildwood, Morningside, West Hill</td>\n",
       "      <td>43.763573</td>\n",
       "      <td>-79.188711</td>\n",
       "    </tr>\n",
       "    <tr>\n",
       "      <th>3</th>\n",
       "      <td>M1G</td>\n",
       "      <td>Scarborough</td>\n",
       "      <td>Woburn</td>\n",
       "      <td>43.770992</td>\n",
       "      <td>-79.216917</td>\n",
       "    </tr>\n",
       "    <tr>\n",
       "      <th>4</th>\n",
       "      <td>M1H</td>\n",
       "      <td>Scarborough</td>\n",
       "      <td>Cedarbrae</td>\n",
       "      <td>43.773136</td>\n",
       "      <td>-79.239476</td>\n",
       "    </tr>\n",
       "  </tbody>\n",
       "</table>\n",
       "</div>"
      ],
      "text/plain": [
       "  Postcode      Borough                           Neighbourhood   Latitude  \\\n",
       "0      M1B  Scarborough                          Rouge, Malvern  43.806686   \n",
       "1      M1C  Scarborough  Highland Creek, Rouge Hill, Port Union  43.784535   \n",
       "2      M1E  Scarborough       Guildwood, Morningside, West Hill  43.763573   \n",
       "3      M1G  Scarborough                                  Woburn  43.770992   \n",
       "4      M1H  Scarborough                               Cedarbrae  43.773136   \n",
       "\n",
       "   Longitude  \n",
       "0 -79.194353  \n",
       "1 -79.160497  \n",
       "2 -79.188711  \n",
       "3 -79.216917  \n",
       "4 -79.239476  "
      ]
     },
     "execution_count": 10,
     "metadata": {},
     "output_type": "execute_result"
    }
   ],
   "source": [
    "merge_df = pd.merge(df_group_neigh, LL, on = \"Postcode\")\n",
    "merge_df.head()"
   ]
  },
  {
   "cell_type": "markdown",
   "metadata": {},
   "source": [
    "## Part 2 - Data Explore: Clustering and Visualization"
   ]
  },
  {
   "cell_type": "markdown",
   "metadata": {},
   "source": [
    "### Explore the Borough "
   ]
  },
  {
   "cell_type": "code",
   "execution_count": 11,
   "metadata": {
    "scrolled": false
   },
   "outputs": [
    {
     "data": {
      "text/html": [
       "<div>\n",
       "<style scoped>\n",
       "    .dataframe tbody tr th:only-of-type {\n",
       "        vertical-align: middle;\n",
       "    }\n",
       "\n",
       "    .dataframe tbody tr th {\n",
       "        vertical-align: top;\n",
       "    }\n",
       "\n",
       "    .dataframe thead th {\n",
       "        text-align: right;\n",
       "    }\n",
       "</style>\n",
       "<table border=\"1\" class=\"dataframe\">\n",
       "  <thead>\n",
       "    <tr style=\"text-align: right;\">\n",
       "      <th></th>\n",
       "      <th>Postcode</th>\n",
       "      <th>Borough</th>\n",
       "      <th>Neighbourhood</th>\n",
       "      <th>Latitude</th>\n",
       "      <th>Longitude</th>\n",
       "    </tr>\n",
       "    <tr>\n",
       "      <th>Borough</th>\n",
       "      <th></th>\n",
       "      <th></th>\n",
       "      <th></th>\n",
       "      <th></th>\n",
       "      <th></th>\n",
       "    </tr>\n",
       "  </thead>\n",
       "  <tbody>\n",
       "    <tr>\n",
       "      <th>North York</th>\n",
       "      <td>24</td>\n",
       "      <td>1</td>\n",
       "      <td>24</td>\n",
       "      <td>24</td>\n",
       "      <td>21</td>\n",
       "    </tr>\n",
       "    <tr>\n",
       "      <th>Downtown Toronto</th>\n",
       "      <td>19</td>\n",
       "      <td>1</td>\n",
       "      <td>19</td>\n",
       "      <td>19</td>\n",
       "      <td>18</td>\n",
       "    </tr>\n",
       "    <tr>\n",
       "      <th>Scarborough</th>\n",
       "      <td>17</td>\n",
       "      <td>1</td>\n",
       "      <td>17</td>\n",
       "      <td>17</td>\n",
       "      <td>13</td>\n",
       "    </tr>\n",
       "    <tr>\n",
       "      <th>Etobicoke</th>\n",
       "      <td>12</td>\n",
       "      <td>1</td>\n",
       "      <td>12</td>\n",
       "      <td>12</td>\n",
       "      <td>10</td>\n",
       "    </tr>\n",
       "    <tr>\n",
       "      <th>Central Toronto</th>\n",
       "      <td>9</td>\n",
       "      <td>1</td>\n",
       "      <td>9</td>\n",
       "      <td>9</td>\n",
       "      <td>7</td>\n",
       "    </tr>\n",
       "    <tr>\n",
       "      <th>West Toronto</th>\n",
       "      <td>6</td>\n",
       "      <td>1</td>\n",
       "      <td>6</td>\n",
       "      <td>6</td>\n",
       "      <td>6</td>\n",
       "    </tr>\n",
       "    <tr>\n",
       "      <th>East Toronto</th>\n",
       "      <td>5</td>\n",
       "      <td>1</td>\n",
       "      <td>5</td>\n",
       "      <td>5</td>\n",
       "      <td>5</td>\n",
       "    </tr>\n",
       "    <tr>\n",
       "      <th>East York</th>\n",
       "      <td>5</td>\n",
       "      <td>1</td>\n",
       "      <td>5</td>\n",
       "      <td>5</td>\n",
       "      <td>5</td>\n",
       "    </tr>\n",
       "    <tr>\n",
       "      <th>York</th>\n",
       "      <td>5</td>\n",
       "      <td>1</td>\n",
       "      <td>5</td>\n",
       "      <td>5</td>\n",
       "      <td>5</td>\n",
       "    </tr>\n",
       "    <tr>\n",
       "      <th>Mississauga</th>\n",
       "      <td>1</td>\n",
       "      <td>1</td>\n",
       "      <td>1</td>\n",
       "      <td>1</td>\n",
       "      <td>1</td>\n",
       "    </tr>\n",
       "  </tbody>\n",
       "</table>\n",
       "</div>"
      ],
      "text/plain": [
       "                  Postcode  Borough  Neighbourhood  Latitude  Longitude\n",
       "Borough                                                                \n",
       "North York              24        1             24        24         21\n",
       "Downtown Toronto        19        1             19        19         18\n",
       "Scarborough             17        1             17        17         13\n",
       "Etobicoke               12        1             12        12         10\n",
       "Central Toronto          9        1              9         9          7\n",
       "West Toronto             6        1              6         6          6\n",
       "East Toronto             5        1              5         5          5\n",
       "East York                5        1              5         5          5\n",
       "York                     5        1              5         5          5\n",
       "Mississauga              1        1              1         1          1"
      ]
     },
     "execution_count": 11,
     "metadata": {},
     "output_type": "execute_result"
    }
   ],
   "source": [
    "df = merge_df.groupby('Borough').nunique().sort_values(by=['Neighbourhood'], ascending = False)\n",
    "df"
   ]
  },
  {
   "cell_type": "markdown",
   "metadata": {},
   "source": [
    "#### As we can see that the top 3 Neighbourhood in Toronto are: \n",
    "##### 1. North York\n",
    "##### 2. Downtown Toronto \n",
    "##### 3. Scarborough\n",
    "####  Since we are interested in open a store, we might want to invest in those Boroughs with higher neighbourhoods"
   ]
  },
  {
   "cell_type": "markdown",
   "metadata": {},
   "source": [
    "### Neighbourhoods in North York"
   ]
  },
  {
   "cell_type": "code",
   "execution_count": 12,
   "metadata": {
    "scrolled": false
   },
   "outputs": [
    {
     "data": {
      "text/html": [
       "<div>\n",
       "<style scoped>\n",
       "    .dataframe tbody tr th:only-of-type {\n",
       "        vertical-align: middle;\n",
       "    }\n",
       "\n",
       "    .dataframe tbody tr th {\n",
       "        vertical-align: top;\n",
       "    }\n",
       "\n",
       "    .dataframe thead th {\n",
       "        text-align: right;\n",
       "    }\n",
       "</style>\n",
       "<table border=\"1\" class=\"dataframe\">\n",
       "  <thead>\n",
       "    <tr style=\"text-align: right;\">\n",
       "      <th></th>\n",
       "      <th>Postcode</th>\n",
       "      <th>Borough</th>\n",
       "      <th>Neighbourhood</th>\n",
       "      <th>Latitude</th>\n",
       "      <th>Longitude</th>\n",
       "    </tr>\n",
       "  </thead>\n",
       "  <tbody>\n",
       "    <tr>\n",
       "      <th>0</th>\n",
       "      <td>M2H</td>\n",
       "      <td>North York</td>\n",
       "      <td>Hillcrest Village</td>\n",
       "      <td>43.803762</td>\n",
       "      <td>-79.363452</td>\n",
       "    </tr>\n",
       "    <tr>\n",
       "      <th>1</th>\n",
       "      <td>M2J</td>\n",
       "      <td>North York</td>\n",
       "      <td>Fairview, Henry Farm, Oriole</td>\n",
       "      <td>43.778517</td>\n",
       "      <td>-79.346556</td>\n",
       "    </tr>\n",
       "    <tr>\n",
       "      <th>2</th>\n",
       "      <td>M2K</td>\n",
       "      <td>North York</td>\n",
       "      <td>Bayview Village</td>\n",
       "      <td>43.786947</td>\n",
       "      <td>-79.385975</td>\n",
       "    </tr>\n",
       "  </tbody>\n",
       "</table>\n",
       "</div>"
      ],
      "text/plain": [
       "  Postcode     Borough                 Neighbourhood   Latitude  Longitude\n",
       "0      M2H  North York             Hillcrest Village  43.803762 -79.363452\n",
       "1      M2J  North York  Fairview, Henry Farm, Oriole  43.778517 -79.346556\n",
       "2      M2K  North York               Bayview Village  43.786947 -79.385975"
      ]
     },
     "execution_count": 12,
     "metadata": {},
     "output_type": "execute_result"
    }
   ],
   "source": [
    "# Select North York from dataset\n",
    "north_york_data = merge_df[merge_df['Borough'] == 'North York'].reset_index(drop=True)\n",
    "north_york_data.head(3)"
   ]
  },
  {
   "cell_type": "code",
   "execution_count": 13,
   "metadata": {
    "scrolled": false
   },
   "outputs": [
    {
     "name": "stdout",
     "output_type": "stream",
     "text": [
      "The geograpical coordinate of Scarborough is 43.7543263, -79.44911696639593.\n"
     ]
    }
   ],
   "source": [
    "address = 'North York, CA'\n",
    "\n",
    "geolocator = Nominatim(user_agent=\"ny_explorer\")\n",
    "location = geolocator.geocode(address)\n",
    "latitude = location.latitude\n",
    "longitude = location.longitude\n",
    "print('The geograpical coordinate of Scarborough is {}, {}.'.format(latitude, longitude))"
   ]
  },
  {
   "cell_type": "code",
   "execution_count": 14,
   "metadata": {
    "scrolled": false
   },
   "outputs": [
    {
     "data": {
      "text/html": [
       "<div style=\"width:100%;\"><div style=\"position:relative;width:100%;height:0;padding-bottom:60%;\"><iframe src=\"data:text/html;charset=utf-8;base64,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\" style=\"position:absolute;width:100%;height:100%;left:0;top:0;border:none !important;\" allowfullscreen webkitallowfullscreen mozallowfullscreen></iframe></div></div>"
      ],
      "text/plain": [
       "<folium.folium.Map at 0xa2be5c8>"
      ]
     },
     "execution_count": 14,
     "metadata": {},
     "output_type": "execute_result"
    }
   ],
   "source": [
    "# Set North York coordinate as center and use merge_df dataset for creating circle around it\n",
    "map_north_york = folium.Map(location=[latitude, longitude], zoom_start=11)\n",
    "\n",
    "# add markers to map\n",
    "for lat, lng, borough, neighbourhood in zip(north_york_data['Latitude'], north_york_data['Longitude'], north_york_data['Borough'], north_york_data['Neighbourhood']):\n",
    "    label = '{}, {}'.format(neighbourhood, borough)\n",
    "    label = folium.Popup(label, parse_html=True)\n",
    "    folium.CircleMarker(\n",
    "        [lat, lng],\n",
    "        radius=5,\n",
    "        popup=label,\n",
    "        color='blue',\n",
    "        fill=True,\n",
    "        fill_color='#3186cc',\n",
    "        fill_opacity=0.7,\n",
    "        parse_html=False).add_to(map_north_york)  \n",
    "\n",
    "# Add title\n",
    "title_html = '''\n",
    "             <h3 align=\"center\" style=\"font-size:20px\"><b>Neighbourhoods in North York</b></h3>\n",
    "             '''\n",
    "map_north_york.get_root().html.add_child(folium.Element(title_html))\n",
    "\n",
    "# Display\n",
    "map_north_york"
   ]
  },
  {
   "cell_type": "markdown",
   "metadata": {},
   "source": [
    "### Neighbourhoods in Downtown Toronto"
   ]
  },
  {
   "cell_type": "code",
   "execution_count": 15,
   "metadata": {
    "collapsed": true,
    "scrolled": false
   },
   "outputs": [
    {
     "data": {
      "text/html": [
       "<div>\n",
       "<style scoped>\n",
       "    .dataframe tbody tr th:only-of-type {\n",
       "        vertical-align: middle;\n",
       "    }\n",
       "\n",
       "    .dataframe tbody tr th {\n",
       "        vertical-align: top;\n",
       "    }\n",
       "\n",
       "    .dataframe thead th {\n",
       "        text-align: right;\n",
       "    }\n",
       "</style>\n",
       "<table border=\"1\" class=\"dataframe\">\n",
       "  <thead>\n",
       "    <tr style=\"text-align: right;\">\n",
       "      <th></th>\n",
       "      <th>Postcode</th>\n",
       "      <th>Borough</th>\n",
       "      <th>Neighbourhood</th>\n",
       "      <th>Latitude</th>\n",
       "      <th>Longitude</th>\n",
       "    </tr>\n",
       "  </thead>\n",
       "  <tbody>\n",
       "    <tr>\n",
       "      <th>0</th>\n",
       "      <td>M4W</td>\n",
       "      <td>Downtown Toronto</td>\n",
       "      <td>Rosedale</td>\n",
       "      <td>43.679563</td>\n",
       "      <td>-79.377529</td>\n",
       "    </tr>\n",
       "    <tr>\n",
       "      <th>1</th>\n",
       "      <td>M4X</td>\n",
       "      <td>Downtown Toronto</td>\n",
       "      <td>Cabbagetown, St. James Town</td>\n",
       "      <td>43.667967</td>\n",
       "      <td>-79.367675</td>\n",
       "    </tr>\n",
       "    <tr>\n",
       "      <th>2</th>\n",
       "      <td>M4Y</td>\n",
       "      <td>Downtown Toronto</td>\n",
       "      <td>Church and Wellesley</td>\n",
       "      <td>43.665860</td>\n",
       "      <td>-79.383160</td>\n",
       "    </tr>\n",
       "  </tbody>\n",
       "</table>\n",
       "</div>"
      ],
      "text/plain": [
       "  Postcode           Borough                Neighbourhood   Latitude  \\\n",
       "0      M4W  Downtown Toronto                     Rosedale  43.679563   \n",
       "1      M4X  Downtown Toronto  Cabbagetown, St. James Town  43.667967   \n",
       "2      M4Y  Downtown Toronto         Church and Wellesley  43.665860   \n",
       "\n",
       "   Longitude  \n",
       "0 -79.377529  \n",
       "1 -79.367675  \n",
       "2 -79.383160  "
      ]
     },
     "execution_count": 15,
     "metadata": {},
     "output_type": "execute_result"
    }
   ],
   "source": [
    "# Select Downtown Toronto from dataset\n",
    "downtown_data = merge_df[merge_df['Borough'] == 'Downtown Toronto'].reset_index(drop=True)\n",
    "downtown_data.head(3)"
   ]
  },
  {
   "cell_type": "code",
   "execution_count": 16,
   "metadata": {
    "collapsed": true,
    "scrolled": false
   },
   "outputs": [
    {
     "name": "stdout",
     "output_type": "stream",
     "text": [
      "The geograpical coordinate of Scarborough is 43.6563221, -79.3809161.\n"
     ]
    }
   ],
   "source": [
    "address = 'Downtown Toronto, CA'\n",
    "\n",
    "geolocator = Nominatim(user_agent=\"dt_explorer\")\n",
    "location = geolocator.geocode(address)\n",
    "latitude = location.latitude\n",
    "longitude = location.longitude\n",
    "print('The geograpical coordinate of Scarborough is {}, {}.'.format(latitude, longitude))"
   ]
  },
  {
   "cell_type": "code",
   "execution_count": 17,
   "metadata": {
    "collapsed": true,
    "scrolled": false
   },
   "outputs": [
    {
     "data": {
      "text/html": [
       "<div style=\"width:100%;\"><div style=\"position:relative;width:100%;height:0;padding-bottom:60%;\"><iframe src=\"data:text/html;charset=utf-8;base64,PCFET0NUWVBFIGh0bWw+CjxoZWFkPiAgICAKICAgIDxtZXRhIGh0dHAtZXF1aXY9ImNvbnRlbnQtdHlwZSIgY29udGVudD0idGV4dC9odG1sOyBjaGFyc2V0PVVURi04IiAvPgogICAgCiAgICAgICAgPHNjcmlwdD4KICAgICAgICAgICAgTF9OT19UT1VDSCA9IGZhbHNlOwogICAgICAgICAgICBMX0RJU0FCTEVfM0QgPSBmYWxzZTsKICAgICAgICA8L3NjcmlwdD4KICAgIAogICAgPHNjcmlwdCBzcmM9Imh0dHBzOi8vY2RuLmpzZGVsaXZyLm5ldC9ucG0vbGVhZmxldEAxLjUuMS9kaXN0L2xlYWZsZXQuanMiPjwvc2NyaXB0PgogICAgPHNjcmlwdCBzcmM9Imh0dHBzOi8vY29kZS5qcXVlcnkuY29tL2pxdWVyeS0xLjEyLjQubWluLmpzIj48L3NjcmlwdD4KICAgIDxzY3JpcHQgc3JjPSJodHRwczovL21heGNkbi5ib290c3RyYXBjZG4uY29tL2Jvb3RzdHJhcC8zLjIuMC9qcy9ib290c3RyYXAubWluLmpzIj48L3NjcmlwdD4KICAgIDxzY3JpcHQgc3JjPSJodHRwczovL2NkbmpzLmNsb3VkZmxhcmUuY29tL2FqYXgvbGlicy9MZWFmbGV0LmF3ZXNvbWUtbWFya2Vycy8yLjAuMi9sZWFmbGV0LmF3ZXNvbWUtbWFya2Vycy5qcyI+PC9zY3JpcHQ+CiAgICA8bGluayByZWw9InN0eWxlc2hlZXQiIGhyZWY9Imh0dHBzOi8vY2RuLmpzZGVsaXZyLm5ldC9ucG0vbGVhZmxldEAxLjUuMS9kaXN0L2xlYWZsZXQuY3NzIi8+CiAgICA8bGluayByZWw9InN0eWxlc2hlZXQiIGhyZWY9Imh0dHBzOi8vbWF4Y2RuLmJvb3RzdHJhcGNkbi5jb20vYm9vdHN0cmFwLzMuMi4wL2Nzcy9ib290c3RyYXAubWluLmNzcyIvPgogICAgPGxpbmsgcmVsPSJzdHlsZXNoZWV0IiBocmVmPSJodHRwczovL21heGNkbi5ib290c3RyYXBjZG4uY29tL2Jvb3RzdHJhcC8zLjIuMC9jc3MvYm9vdHN0cmFwLXRoZW1lLm1pbi5jc3MiLz4KICAgIDxsaW5rIHJlbD0ic3R5bGVzaGVldCIgaHJlZj0iaHR0cHM6Ly9tYXhjZG4uYm9vdHN0cmFwY2RuLmNvbS9mb250LWF3ZXNvbWUvNC42LjMvY3NzL2ZvbnQtYXdlc29tZS5taW4uY3NzIi8+CiAgICA8bGluayByZWw9InN0eWxlc2hlZXQiIGhyZWY9Imh0dHBzOi8vY2RuanMuY2xvdWRmbGFyZS5jb20vYWpheC9saWJzL0xlYWZsZXQuYXdlc29tZS1tYXJrZXJzLzIuMC4yL2xlYWZsZXQuYXdlc29tZS1tYXJrZXJzLmNzcyIvPgogICAgPGxpbmsgcmVsPSJzdHlsZXNoZWV0IiBocmVmPSJodHRwczovL3Jhd2Nkbi5naXRoYWNrLmNvbS9weXRob24tdmlzdWFsaXphdGlvbi9mb2xpdW0vbWFzdGVyL2ZvbGl1bS90ZW1wbGF0ZXMvbGVhZmxldC5hd2Vzb21lLnJvdGF0ZS5jc3MiLz4KICAgIDxzdHlsZT5odG1sLCBib2R5IHt3aWR0aDogMTAwJTtoZWlnaHQ6IDEwMCU7bWFyZ2luOiAwO3BhZGRpbmc6IDA7fTwvc3R5bGU+CiAgICA8c3R5bGU+I21hcCB7cG9zaXRpb246YWJzb2x1dGU7dG9wOjA7Ym90dG9tOjA7cmlnaHQ6MDtsZWZ0OjA7fTwvc3R5bGU+CiAgICAKICAgICAgICAgICAgPG1ldGEgbmFtZT0idmlld3BvcnQiIGNvbnRlbnQ9IndpZHRoPWRldmljZS13aWR0aCwKICAgICAgICAgICAgICAgIGluaXRpYWwtc2NhbGU9MS4wLCBtYXhpbXVtLXNjYWxlPTEuMCwgdXNlci1zY2FsYWJsZT1ubyIgLz4KICAgICAgICAgICAgPHN0eWxlPgogICAgICAgICAgICAgICAgI21hcF9lMzY4OTk1ZmQ2YjE0OGVkYTJlMDdhNmU3OTcyODJhZiB7CiAgICAgICAgICAgICAgICAgICAgcG9zaXRpb246IHJlbGF0aXZlOwogICAgICAgICAgICAgICAgICAgIHdpZHRoOiAxMDAuMCU7CiAgICAgICAgICAgICAgICAgICAgaGVpZ2h0OiAxMDAuMCU7CiAgICAgICAgICAgICAgICAgICAgbGVmdDogMC4wJTsKICAgICAgICAgICAgICAgICAgICB0b3A6IDAuMCU7CiAgICAgICAgICAgICAgICB9CiAgICAgICAgICAgIDwvc3R5bGU+CiAgICAgICAgCjwvaGVhZD4KPGJvZHk+ICAgIAogICAgCiAgICAgICAgICAgICA8aDMgYWxpZ249ImNlbnRlciIgc3R5bGU9ImZvbnQtc2l6ZToyMHB4Ij48Yj5Eb3dudG93biBUb3JvbnRvPC9iPjwvaDM+CiAgICAgICAgICAgICAKICAgIAogICAgICAgICAgICA8ZGl2IGNsYXNzPSJmb2xpdW0tbWFwIiBpZD0ibWFwX2UzNjg5OTVmZDZiMTQ4ZWRhMmUwN2E2ZTc5NzI4MmFmIiA+PC9kaXY+CiAgICAgICAgCjwvYm9keT4KPHNjcmlwdD4gICAgCiAgICAKICAgICAgICAgICAgdmFyIG1hcF9lMzY4OTk1ZmQ2YjE0OGVkYTJlMDdhNmU3OTcyODJhZiA9IEwubWFwKAogICAgICAgICAgICAgICAgIm1hcF9lMzY4OTk1ZmQ2YjE0OGVkYTJlMDdhNmU3OTcyODJhZiIsCiAgICAgICAgICAgICAgICB7CiAgICAgICAgICAgICAgICAgICAgY2VudGVyOiBbNDMuNjU2MzIyMSwgLTc5LjM4MDkxNjFdLAogICAgICAgICAgICAgICAgICAgIGNyczogTC5DUlMuRVBTRzM4NTcsCiAgICAgICAgICAgICAgICAgICAgem9vbTogMTEsCiAgICAgICAgICAgICAgICAgICAgem9vbUNvbnRyb2w6IHRydWUsCiAgICAgICAgICAgICAgICAgICAgcHJlZmVyQ2FudmFzOiBmYWxzZSwKICAgICAgICAgICAgICAgIH0KICAgICAgICAgICAgKTsKCiAgICAgICAgICAgIAoKICAgICAgICAKICAgIAogICAgICAgICAgICB2YXIgdGlsZV9sYXllcl82ZjFhYWY3YzZkYWM0OTM1OTYzODdiOGNkZTdjOGYwYiA9IEwudGlsZUxheWVyKAogICAgICAgICAgICAgICAgImh0dHBzOi8ve3N9LnRpbGUub3BlbnN0cmVldG1hcC5vcmcve3p9L3t4fS97eX0ucG5nIiwKICAgICAgICAgICAgICAgIHsiYXR0cmlidXRpb24iOiAiRGF0YSBieSBcdTAwMjZjb3B5OyBcdTAwM2NhIGhyZWY9XCJodHRwOi8vb3BlbnN0cmVldG1hcC5vcmdcIlx1MDAzZU9wZW5TdHJlZXRNYXBcdTAwM2MvYVx1MDAzZSwgdW5kZXIgXHUwMDNjYSBocmVmPVwiaHR0cDovL3d3dy5vcGVuc3RyZWV0bWFwLm9yZy9jb3B5cmlnaHRcIlx1MDAzZU9EYkxcdTAwM2MvYVx1MDAzZS4iLCAiZGV0ZWN0UmV0aW5hIjogZmFsc2UsICJtYXhOYXRpdmVab29tIjogMTgsICJtYXhab29tIjogMTgsICJtaW5ab29tIjogMCwgIm5vV3JhcCI6IGZhbHNlLCAib3BhY2l0eSI6IDEsICJzdWJkb21haW5zIjogImFiYyIsICJ0bXMiOiBmYWxzZX0KICAgICAgICAgICAgKS5hZGRUbyhtYXBfZTM2ODk5NWZkNmIxNDhlZGEyZTA3YTZlNzk3MjgyYWYpOwogICAgICAgIAogICAgCiAgICAgICAgICAgIHZhciBjaXJjbGVfbWFya2VyX2E0YTc0Mzc2MWM5ODQzNzRhMGM5YTU2NGEwYzZiMTVkID0gTC5jaXJjbGVNYXJrZXIoCiAgICAgICAgICAgICAgICBbNDMuNjc5NTYyNiwgLTc5LjM3NzUyOTQwMDAwMDAxXSwKICAgICAgICAgICAgICAgIHsiYnViYmxpbmdNb3VzZUV2ZW50cyI6IHRydWUsICJjb2xvciI6ICJibHVlIiwgImRhc2hBcnJheSI6IG51bGwsICJkYXNoT2Zmc2V0IjogbnVsbCwgImZpbGwiOiB0cnVlLCAiZmlsbENvbG9yIjogIiMzMTg2Y2MiLCAiZmlsbE9wYWNpdHkiOiAwLjcsICJmaWxsUnVsZSI6ICJldmVub2RkIiwgImxpbmVDYXAiOiAicm91bmQiLCAibGluZUpvaW4iOiAicm91bmQiLCAib3BhY2l0eSI6IDEuMCwgInJhZGl1cyI6IDUsICJzdHJva2UiOiB0cnVlLCAid2VpZ2h0IjogM30KICAgICAgICAgICAgKS5hZGRUbyhtYXBfZTM2ODk5NWZkNmIxNDhlZGEyZTA3YTZlNzk3MjgyYWYpOwogICAgICAgIAogICAgCiAgICAgICAgdmFyIHBvcHVwXzdiODU3N2RiMjc4MTQ2YzRiNmM5YWRkOTdkMTEyYTk2ID0gTC5wb3B1cCh7Im1heFdpZHRoIjogIjEwMCUifSk7CgogICAgICAgIAogICAgICAgICAgICB2YXIgaHRtbF9mMjViODRmMzhlZWY0ZGNhYjE3ODIxMGQ5ODg1NjE5MyA9ICQoYDxkaXYgaWQ9Imh0bWxfZjI1Yjg0ZjM4ZWVmNGRjYWIxNzgyMTBkOTg4NTYxOTMiIHN0eWxlPSJ3aWR0aDogMTAwLjAlOyBoZWlnaHQ6IDEwMC4wJTsiPlJvc2VkYWxlLCBEb3dudG93biBUb3JvbnRvPC9kaXY+YClbMF07CiAgICAgICAgICAgIHBvcHVwXzdiODU3N2RiMjc4MTQ2YzRiNmM5YWRkOTdkMTEyYTk2LnNldENvbnRlbnQoaHRtbF9mMjViODRmMzhlZWY0ZGNhYjE3ODIxMGQ5ODg1NjE5Myk7CiAgICAgICAgCgogICAgICAgIGNpcmNsZV9tYXJrZXJfYTRhNzQzNzYxYzk4NDM3NGEwYzlhNTY0YTBjNmIxNWQuYmluZFBvcHVwKHBvcHVwXzdiODU3N2RiMjc4MTQ2YzRiNmM5YWRkOTdkMTEyYTk2KQogICAgICAgIDsKCiAgICAgICAgCiAgICAKICAgIAogICAgICAgICAgICB2YXIgY2lyY2xlX21hcmtlcl9mNTA4ZjlmZTVmNzg0Njc2ODNmOTU4ZjNjMTJiMmEyZiA9IEwuY2lyY2xlTWFya2VyKAogICAgICAgICAgICAgICAgWzQzLjY2Nzk2NywgLTc5LjM2NzY3NTNdLAogICAgICAgICAgICAgICAgeyJidWJibGluZ01vdXNlRXZlbnRzIjogdHJ1ZSwgImNvbG9yIjogImJsdWUiLCAiZGFzaEFycmF5IjogbnVsbCwgImRhc2hPZmZzZXQiOiBudWxsLCAiZmlsbCI6IHRydWUsICJmaWxsQ29sb3IiOiAiIzMxODZjYyIsICJmaWxsT3BhY2l0eSI6IDAuNywgImZpbGxSdWxlIjogImV2ZW5vZGQiLCAibGluZUNhcCI6ICJyb3VuZCIsICJsaW5lSm9pbiI6ICJyb3VuZCIsICJvcGFjaXR5IjogMS4wLCAicmFkaXVzIjogNSwgInN0cm9rZSI6IHRydWUsICJ3ZWlnaHQiOiAzfQogICAgICAgICAgICApLmFkZFRvKG1hcF9lMzY4OTk1ZmQ2YjE0OGVkYTJlMDdhNmU3OTcyODJhZik7CiAgICAgICAgCiAgICAKICAgICAgICB2YXIgcG9wdXBfZGIyODIyOTRmYmI2NGIzYmE2OTgyZDBhMjE1MGRkODcgPSBMLnBvcHVwKHsibWF4V2lkdGgiOiAiMTAwJSJ9KTsKCiAgICAgICAgCiAgICAgICAgICAgIHZhciBodG1sXzQyM2EwNGMwMDU3ZDQ1ZmNhNjdkNTM2ZjE0ZjcwY2EwID0gJChgPGRpdiBpZD0iaHRtbF80MjNhMDRjMDA1N2Q0NWZjYTY3ZDUzNmYxNGY3MGNhMCIgc3R5bGU9IndpZHRoOiAxMDAuMCU7IGhlaWdodDogMTAwLjAlOyI+Q2FiYmFnZXRvd24sIFN0LiBKYW1lcyBUb3duLCBEb3dudG93biBUb3JvbnRvPC9kaXY+YClbMF07CiAgICAgICAgICAgIHBvcHVwX2RiMjgyMjk0ZmJiNjRiM2JhNjk4MmQwYTIxNTBkZDg3LnNldENvbnRlbnQoaHRtbF80MjNhMDRjMDA1N2Q0NWZjYTY3ZDUzNmYxNGY3MGNhMCk7CiAgICAgICAgCgogICAgICAgIGNpcmNsZV9tYXJrZXJfZjUwOGY5ZmU1Zjc4NDY3NjgzZjk1OGYzYzEyYjJhMmYuYmluZFBvcHVwKHBvcHVwX2RiMjgyMjk0ZmJiNjRiM2JhNjk4MmQwYTIxNTBkZDg3KQogICAgICAgIDsKCiAgICAgICAgCiAgICAKICAgIAogICAgICAgICAgICB2YXIgY2lyY2xlX21hcmtlcl8yMjdiZWE4NTQxM2I0MjI0OTA4Y2ZlYjllMTE1YTljOSA9IEwuY2lyY2xlTWFya2VyKAogICAgICAgICAgICAgICAgWzQzLjY2NTg1OTksIC03OS4zODMxNTk5MDAwMDAwMV0sCiAgICAgICAgICAgICAgICB7ImJ1YmJsaW5nTW91c2VFdmVudHMiOiB0cnVlLCAiY29sb3IiOiAiYmx1ZSIsICJkYXNoQXJyYXkiOiBudWxsLCAiZGFzaE9mZnNldCI6IG51bGwsICJmaWxsIjogdHJ1ZSwgImZpbGxDb2xvciI6ICIjMzE4NmNjIiwgImZpbGxPcGFjaXR5IjogMC43LCAiZmlsbFJ1bGUiOiAiZXZlbm9kZCIsICJsaW5lQ2FwIjogInJvdW5kIiwgImxpbmVKb2luIjogInJvdW5kIiwgIm9wYWNpdHkiOiAxLjAsICJyYWRpdXMiOiA1LCAic3Ryb2tlIjogdHJ1ZSwgIndlaWdodCI6IDN9CiAgICAgICAgICAgICkuYWRkVG8obWFwX2UzNjg5OTVmZDZiMTQ4ZWRhMmUwN2E2ZTc5NzI4MmFmKTsKICAgICAgICAKICAgIAogICAgICAgIHZhciBwb3B1cF9lZWQ5Njk0MDBiMDk0ZDk0OTZkOTE0MGE1ZjE2MmYyNiA9IEwucG9wdXAoeyJtYXhXaWR0aCI6ICIxMDAlIn0pOwoKICAgICAgICAKICAgICAgICAgICAgdmFyIGh0bWxfOWFmNDM1MjRjNGUwNGQ1NDk4Zjg3OTQwMTQ0MzgwOTUgPSAkKGA8ZGl2IGlkPSJodG1sXzlhZjQzNTI0YzRlMDRkNTQ5OGY4Nzk0MDE0NDM4MDk1IiBzdHlsZT0id2lkdGg6IDEwMC4wJTsgaGVpZ2h0OiAxMDAuMCU7Ij5DaHVyY2ggYW5kIFdlbGxlc2xleSwgRG93bnRvd24gVG9yb250bzwvZGl2PmApWzBdOwogICAgICAgICAgICBwb3B1cF9lZWQ5Njk0MDBiMDk0ZDk0OTZkOTE0MGE1ZjE2MmYyNi5zZXRDb250ZW50KGh0bWxfOWFmNDM1MjRjNGUwNGQ1NDk4Zjg3OTQwMTQ0MzgwOTUpOwogICAgICAgIAoKICAgICAgICBjaXJjbGVfbWFya2VyXzIyN2JlYTg1NDEzYjQyMjQ5MDhjZmViOWUxMTVhOWM5LmJpbmRQb3B1cChwb3B1cF9lZWQ5Njk0MDBiMDk0ZDk0OTZkOTE0MGE1ZjE2MmYyNikKICAgICAgICA7CgogICAgICAgIAogICAgCiAgICAKICAgICAgICAgICAgdmFyIGNpcmNsZV9tYXJrZXJfMmIyOTM5NDM2YWM5NDAwNGIzZTRlZWFmNDFiMTMxMzAgPSBMLmNpcmNsZU1hcmtlcigKICAgICAgICAgICAgICAgIFs0My42NTQyNTk5LCAtNzkuMzYwNjM1OV0sCiAgICAgICAgICAgICAgICB7ImJ1YmJsaW5nTW91c2VFdmVudHMiOiB0cnVlLCAiY29sb3IiOiAiYmx1ZSIsICJkYXNoQXJyYXkiOiBudWxsLCAiZGFzaE9mZnNldCI6IG51bGwsICJmaWxsIjogdHJ1ZSwgImZpbGxDb2xvciI6ICIjMzE4NmNjIiwgImZpbGxPcGFjaXR5IjogMC43LCAiZmlsbFJ1bGUiOiAiZXZlbm9kZCIsICJsaW5lQ2FwIjogInJvdW5kIiwgImxpbmVKb2luIjogInJvdW5kIiwgIm9wYWNpdHkiOiAxLjAsICJyYWRpdXMiOiA1LCAic3Ryb2tlIjogdHJ1ZSwgIndlaWdodCI6IDN9CiAgICAgICAgICAgICkuYWRkVG8obWFwX2UzNjg5OTVmZDZiMTQ4ZWRhMmUwN2E2ZTc5NzI4MmFmKTsKICAgICAgICAKICAgIAogICAgICAgIHZhciBwb3B1cF9lYjgzMmVlMWZlMmU0ZTFhYmZjOTdkOGQyZTM2ODlmZiA9IEwucG9wdXAoeyJtYXhXaWR0aCI6ICIxMDAlIn0pOwoKICAgICAgICAKICAgICAgICAgICAgdmFyIGh0bWxfMGNkYzg0ZmNmMzMyNGQ5ZTg4MGM3YTI4YWI1MWNjYWEgPSAkKGA8ZGl2IGlkPSJodG1sXzBjZGM4NGZjZjMzMjRkOWU4ODBjN2EyOGFiNTFjY2FhIiBzdHlsZT0id2lkdGg6IDEwMC4wJTsgaGVpZ2h0OiAxMDAuMCU7Ij5IYXJib3VyZnJvbnQsIERvd250b3duIFRvcm9udG88L2Rpdj5gKVswXTsKICAgICAgICAgICAgcG9wdXBfZWI4MzJlZTFmZTJlNGUxYWJmYzk3ZDhkMmUzNjg5ZmYuc2V0Q29udGVudChodG1sXzBjZGM4NGZjZjMzMjRkOWU4ODBjN2EyOGFiNTFjY2FhKTsKICAgICAgICAKCiAgICAgICAgY2lyY2xlX21hcmtlcl8yYjI5Mzk0MzZhYzk0MDA0YjNlNGVlYWY0MWIxMzEzMC5iaW5kUG9wdXAocG9wdXBfZWI4MzJlZTFmZTJlNGUxYWJmYzk3ZDhkMmUzNjg5ZmYpCiAgICAgICAgOwoKICAgICAgICAKICAgIAogICAgCiAgICAgICAgICAgIHZhciBjaXJjbGVfbWFya2VyX2FhMWU5ZjYzZjdkMjQ4NmE5MDY5ZDcxYTc2MjQ0MDRjID0gTC5jaXJjbGVNYXJrZXIoCiAgICAgICAgICAgICAgICBbNDMuNjU3MTYxOCwgLTc5LjM3ODkzNzA5OTk5OTk5XSwKICAgICAgICAgICAgICAgIHsiYnViYmxpbmdNb3VzZUV2ZW50cyI6IHRydWUsICJjb2xvciI6ICJibHVlIiwgImRhc2hBcnJheSI6IG51bGwsICJkYXNoT2Zmc2V0IjogbnVsbCwgImZpbGwiOiB0cnVlLCAiZmlsbENvbG9yIjogIiMzMTg2Y2MiLCAiZmlsbE9wYWNpdHkiOiAwLjcsICJmaWxsUnVsZSI6ICJldmVub2RkIiwgImxpbmVDYXAiOiAicm91bmQiLCAibGluZUpvaW4iOiAicm91bmQiLCAib3BhY2l0eSI6IDEuMCwgInJhZGl1cyI6IDUsICJzdHJva2UiOiB0cnVlLCAid2VpZ2h0IjogM30KICAgICAgICAgICAgKS5hZGRUbyhtYXBfZTM2ODk5NWZkNmIxNDhlZGEyZTA3YTZlNzk3MjgyYWYpOwogICAgICAgIAogICAgCiAgICAgICAgdmFyIHBvcHVwXzFhNDcyNzhkYmI4YjRjMzQ4ZDZiYTZjZjAyZmI2ZmI0ID0gTC5wb3B1cCh7Im1heFdpZHRoIjogIjEwMCUifSk7CgogICAgICAgIAogICAgICAgICAgICB2YXIgaHRtbF9hNWNlMzg5YmZhM2Y0ZmZmYjBhZjRhMmZlOTEwNmM2MyA9ICQoYDxkaXYgaWQ9Imh0bWxfYTVjZTM4OWJmYTNmNGZmZmIwYWY0YTJmZTkxMDZjNjMiIHN0eWxlPSJ3aWR0aDogMTAwLjAlOyBoZWlnaHQ6IDEwMC4wJTsiPlJ5ZXJzb24sIEdhcmRlbiBEaXN0cmljdCwgRG93bnRvd24gVG9yb250bzwvZGl2PmApWzBdOwogICAgICAgICAgICBwb3B1cF8xYTQ3Mjc4ZGJiOGI0YzM0OGQ2YmE2Y2YwMmZiNmZiNC5zZXRDb250ZW50KGh0bWxfYTVjZTM4OWJmYTNmNGZmZmIwYWY0YTJmZTkxMDZjNjMpOwogICAgICAgIAoKICAgICAgICBjaXJjbGVfbWFya2VyX2FhMWU5ZjYzZjdkMjQ4NmE5MDY5ZDcxYTc2MjQ0MDRjLmJpbmRQb3B1cChwb3B1cF8xYTQ3Mjc4ZGJiOGI0YzM0OGQ2YmE2Y2YwMmZiNmZiNCkKICAgICAgICA7CgogICAgICAgIAogICAgCiAgICAKICAgICAgICAgICAgdmFyIGNpcmNsZV9tYXJrZXJfZjBhYmNlY2U1ZTYzNDc5NTk2ZDhmMTI5YTEwYmE0ZDMgPSBMLmNpcmNsZU1hcmtlcigKICAgICAgICAgICAgICAgIFs0My42NTE0OTM5LCAtNzkuMzc1NDE3OV0sCiAgICAgICAgICAgICAgICB7ImJ1YmJsaW5nTW91c2VFdmVudHMiOiB0cnVlLCAiY29sb3IiOiAiYmx1ZSIsICJkYXNoQXJyYXkiOiBudWxsLCAiZGFzaE9mZnNldCI6IG51bGwsICJmaWxsIjogdHJ1ZSwgImZpbGxDb2xvciI6ICIjMzE4NmNjIiwgImZpbGxPcGFjaXR5IjogMC43LCAiZmlsbFJ1bGUiOiAiZXZlbm9kZCIsICJsaW5lQ2FwIjogInJvdW5kIiwgImxpbmVKb2luIjogInJvdW5kIiwgIm9wYWNpdHkiOiAxLjAsICJyYWRpdXMiOiA1LCAic3Ryb2tlIjogdHJ1ZSwgIndlaWdodCI6IDN9CiAgICAgICAgICAgICkuYWRkVG8obWFwX2UzNjg5OTVmZDZiMTQ4ZWRhMmUwN2E2ZTc5NzI4MmFmKTsKICAgICAgICAKICAgIAogICAgICAgIHZhciBwb3B1cF9kYzQ1YjkwOTAxNGU0YjdlODBiMWY3OGE1ZDhkOGQyNCA9IEwucG9wdXAoeyJtYXhXaWR0aCI6ICIxMDAlIn0pOwoKICAgICAgICAKICAgICAgICAgICAgdmFyIGh0bWxfZDM1ZDFlODk4MWM4NDRlMGIyMDE5MWNlMTZmZGFmNTAgPSAkKGA8ZGl2IGlkPSJodG1sX2QzNWQxZTg5ODFjODQ0ZTBiMjAxOTFjZTE2ZmRhZjUwIiBzdHlsZT0id2lkdGg6IDEwMC4wJTsgaGVpZ2h0OiAxMDAuMCU7Ij5TdC4gSmFtZXMgVG93biwgRG93bnRvd24gVG9yb250bzwvZGl2PmApWzBdOwogICAgICAgICAgICBwb3B1cF9kYzQ1YjkwOTAxNGU0YjdlODBiMWY3OGE1ZDhkOGQyNC5zZXRDb250ZW50KGh0bWxfZDM1ZDFlODk4MWM4NDRlMGIyMDE5MWNlMTZmZGFmNTApOwogICAgICAgIAoKICAgICAgICBjaXJjbGVfbWFya2VyX2YwYWJjZWNlNWU2MzQ3OTU5NmQ4ZjEyOWExMGJhNGQzLmJpbmRQb3B1cChwb3B1cF9kYzQ1YjkwOTAxNGU0YjdlODBiMWY3OGE1ZDhkOGQyNCkKICAgICAgICA7CgogICAgICAgIAogICAgCiAgICAKICAgICAgICAgICAgdmFyIGNpcmNsZV9tYXJrZXJfMDExMzNlZmMyYTcxNGU1MmIyNjI3MWQ3NTU5N2JlODYgPSBMLmNpcmNsZU1hcmtlcigKICAgICAgICAgICAgICAgIFs0My42NDQ3NzA3OTk5OTk5OTYsIC03OS4zNzMzMDY0XSwKICAgICAgICAgICAgICAgIHsiYnViYmxpbmdNb3VzZUV2ZW50cyI6IHRydWUsICJjb2xvciI6ICJibHVlIiwgImRhc2hBcnJheSI6IG51bGwsICJkYXNoT2Zmc2V0IjogbnVsbCwgImZpbGwiOiB0cnVlLCAiZmlsbENvbG9yIjogIiMzMTg2Y2MiLCAiZmlsbE9wYWNpdHkiOiAwLjcsICJmaWxsUnVsZSI6ICJldmVub2RkIiwgImxpbmVDYXAiOiAicm91bmQiLCAibGluZUpvaW4iOiAicm91bmQiLCAib3BhY2l0eSI6IDEuMCwgInJhZGl1cyI6IDUsICJzdHJva2UiOiB0cnVlLCAid2VpZ2h0IjogM30KICAgICAgICAgICAgKS5hZGRUbyhtYXBfZTM2ODk5NWZkNmIxNDhlZGEyZTA3YTZlNzk3MjgyYWYpOwogICAgICAgIAogICAgCiAgICAgICAgdmFyIHBvcHVwX2Y2MzM3MzQ4MTc4MzQ3NDNhMTdlOGI0OTlkOTc3YWVhID0gTC5wb3B1cCh7Im1heFdpZHRoIjogIjEwMCUifSk7CgogICAgICAgIAogICAgICAgICAgICB2YXIgaHRtbF9kOGQyMWQyMDk5NjI0MWM0YTAwMjdjNzM1Y2ZkY2I4MyA9ICQoYDxkaXYgaWQ9Imh0bWxfZDhkMjFkMjA5OTYyNDFjNGEwMDI3YzczNWNmZGNiODMiIHN0eWxlPSJ3aWR0aDogMTAwLjAlOyBoZWlnaHQ6IDEwMC4wJTsiPkJlcmN6eSBQYXJrLCBEb3dudG93biBUb3JvbnRvPC9kaXY+YClbMF07CiAgICAgICAgICAgIHBvcHVwX2Y2MzM3MzQ4MTc4MzQ3NDNhMTdlOGI0OTlkOTc3YWVhLnNldENvbnRlbnQoaHRtbF9kOGQyMWQyMDk5NjI0MWM0YTAwMjdjNzM1Y2ZkY2I4Myk7CiAgICAgICAgCgogICAgICAgIGNpcmNsZV9tYXJrZXJfMDExMzNlZmMyYTcxNGU1MmIyNjI3MWQ3NTU5N2JlODYuYmluZFBvcHVwKHBvcHVwX2Y2MzM3MzQ4MTc4MzQ3NDNhMTdlOGI0OTlkOTc3YWVhKQogICAgICAgIDsKCiAgICAgICAgCiAgICAKICAgIAogICAgICAgICAgICB2YXIgY2lyY2xlX21hcmtlcl9mZmQwMTU0ZjA0ZmM0ZmU5OWU1NjE0NjEyODI2MGM3ZCA9IEwuY2lyY2xlTWFya2VyKAogICAgICAgICAgICAgICAgWzQzLjY1Nzk1MjQsIC03OS4zODczODI2XSwKICAgICAgICAgICAgICAgIHsiYnViYmxpbmdNb3VzZUV2ZW50cyI6IHRydWUsICJjb2xvciI6ICJibHVlIiwgImRhc2hBcnJheSI6IG51bGwsICJkYXNoT2Zmc2V0IjogbnVsbCwgImZpbGwiOiB0cnVlLCAiZmlsbENvbG9yIjogIiMzMTg2Y2MiLCAiZmlsbE9wYWNpdHkiOiAwLjcsICJmaWxsUnVsZSI6ICJldmVub2RkIiwgImxpbmVDYXAiOiAicm91bmQiLCAibGluZUpvaW4iOiAicm91bmQiLCAib3BhY2l0eSI6IDEuMCwgInJhZGl1cyI6IDUsICJzdHJva2UiOiB0cnVlLCAid2VpZ2h0IjogM30KICAgICAgICAgICAgKS5hZGRUbyhtYXBfZTM2ODk5NWZkNmIxNDhlZGEyZTA3YTZlNzk3MjgyYWYpOwogICAgICAgIAogICAgCiAgICAgICAgdmFyIHBvcHVwX2RhNzdlMDA0NGMzOTRhODBhNGZlNGM1NzcwNDRiNDNjID0gTC5wb3B1cCh7Im1heFdpZHRoIjogIjEwMCUifSk7CgogICAgICAgIAogICAgICAgICAgICB2YXIgaHRtbF9iYzllY2NhZTM3M2I0MzY0OGUxZWI1ZWNhMmY3MGE2NSA9ICQoYDxkaXYgaWQ9Imh0bWxfYmM5ZWNjYWUzNzNiNDM2NDhlMWViNWVjYTJmNzBhNjUiIHN0eWxlPSJ3aWR0aDogMTAwLjAlOyBoZWlnaHQ6IDEwMC4wJTsiPkNlbnRyYWwgQmF5IFN0cmVldCwgRG93bnRvd24gVG9yb250bzwvZGl2PmApWzBdOwogICAgICAgICAgICBwb3B1cF9kYTc3ZTAwNDRjMzk0YTgwYTRmZTRjNTc3MDQ0YjQzYy5zZXRDb250ZW50KGh0bWxfYmM5ZWNjYWUzNzNiNDM2NDhlMWViNWVjYTJmNzBhNjUpOwogICAgICAgIAoKICAgICAgICBjaXJjbGVfbWFya2VyX2ZmZDAxNTRmMDRmYzRmZTk5ZTU2MTQ2MTI4MjYwYzdkLmJpbmRQb3B1cChwb3B1cF9kYTc3ZTAwNDRjMzk0YTgwYTRmZTRjNTc3MDQ0YjQzYykKICAgICAgICA7CgogICAgICAgIAogICAgCiAgICAKICAgICAgICAgICAgdmFyIGNpcmNsZV9tYXJrZXJfYWZmYTI4YWVjZjE5NDk2OThmZWQzZWE3ZWQ2N2NhNzMgPSBMLmNpcmNsZU1hcmtlcigKICAgICAgICAgICAgICAgIFs0My42NTA1NzEyMDAwMDAwMSwgLTc5LjM4NDU2NzVdLAogICAgICAgICAgICAgICAgeyJidWJibGluZ01vdXNlRXZlbnRzIjogdHJ1ZSwgImNvbG9yIjogImJsdWUiLCAiZGFzaEFycmF5IjogbnVsbCwgImRhc2hPZmZzZXQiOiBudWxsLCAiZmlsbCI6IHRydWUsICJmaWxsQ29sb3IiOiAiIzMxODZjYyIsICJmaWxsT3BhY2l0eSI6IDAuNywgImZpbGxSdWxlIjogImV2ZW5vZGQiLCAibGluZUNhcCI6ICJyb3VuZCIsICJsaW5lSm9pbiI6ICJyb3VuZCIsICJvcGFjaXR5IjogMS4wLCAicmFkaXVzIjogNSwgInN0cm9rZSI6IHRydWUsICJ3ZWlnaHQiOiAzfQogICAgICAgICAgICApLmFkZFRvKG1hcF9lMzY4OTk1ZmQ2YjE0OGVkYTJlMDdhNmU3OTcyODJhZik7CiAgICAgICAgCiAgICAKICAgICAgICB2YXIgcG9wdXBfZWFkODcwNDVkNWViNDU4ZTg0OTU0M2JiM2VmNTQyYjMgPSBMLnBvcHVwKHsibWF4V2lkdGgiOiAiMTAwJSJ9KTsKCiAgICAgICAgCiAgICAgICAgICAgIHZhciBodG1sXzM0ZTM5ZTA5M2JiOTQzOTY4YmE4MzkwYzk4ZjcxZTAzID0gJChgPGRpdiBpZD0iaHRtbF8zNGUzOWUwOTNiYjk0Mzk2OGJhODM5MGM5OGY3MWUwMyIgc3R5bGU9IndpZHRoOiAxMDAuMCU7IGhlaWdodDogMTAwLjAlOyI+QWRlbGFpZGUsIEtpbmcsIFJpY2htb25kLCBEb3dudG93biBUb3JvbnRvPC9kaXY+YClbMF07CiAgICAgICAgICAgIHBvcHVwX2VhZDg3MDQ1ZDVlYjQ1OGU4NDk1NDNiYjNlZjU0MmIzLnNldENvbnRlbnQoaHRtbF8zNGUzOWUwOTNiYjk0Mzk2OGJhODM5MGM5OGY3MWUwMyk7CiAgICAgICAgCgogICAgICAgIGNpcmNsZV9tYXJrZXJfYWZmYTI4YWVjZjE5NDk2OThmZWQzZWE3ZWQ2N2NhNzMuYmluZFBvcHVwKHBvcHVwX2VhZDg3MDQ1ZDVlYjQ1OGU4NDk1NDNiYjNlZjU0MmIzKQogICAgICAgIDsKCiAgICAgICAgCiAgICAKICAgIAogICAgICAgICAgICB2YXIgY2lyY2xlX21hcmtlcl8zNDcyZjZjYTY1NDY0N2VjOWI4ZDk2NTQ2M2NmZmQzYSA9IEwuY2lyY2xlTWFya2VyKAogICAgICAgICAgICAgICAgWzQzLjY0MDgxNTcsIC03OS4zODE3NTIyOTk5OTk5OV0sCiAgICAgICAgICAgICAgICB7ImJ1YmJsaW5nTW91c2VFdmVudHMiOiB0cnVlLCAiY29sb3IiOiAiYmx1ZSIsICJkYXNoQXJyYXkiOiBudWxsLCAiZGFzaE9mZnNldCI6IG51bGwsICJmaWxsIjogdHJ1ZSwgImZpbGxDb2xvciI6ICIjMzE4NmNjIiwgImZpbGxPcGFjaXR5IjogMC43LCAiZmlsbFJ1bGUiOiAiZXZlbm9kZCIsICJsaW5lQ2FwIjogInJvdW5kIiwgImxpbmVKb2luIjogInJvdW5kIiwgIm9wYWNpdHkiOiAxLjAsICJyYWRpdXMiOiA1LCAic3Ryb2tlIjogdHJ1ZSwgIndlaWdodCI6IDN9CiAgICAgICAgICAgICkuYWRkVG8obWFwX2UzNjg5OTVmZDZiMTQ4ZWRhMmUwN2E2ZTc5NzI4MmFmKTsKICAgICAgICAKICAgIAogICAgICAgIHZhciBwb3B1cF8wMjAwZjM1NjZhMGI0YjRlODdiMDI2ZTJhZWJhNTgwZSA9IEwucG9wdXAoeyJtYXhXaWR0aCI6ICIxMDAlIn0pOwoKICAgICAgICAKICAgICAgICAgICAgdmFyIGh0bWxfMjA5ZTA0YTQ4ZjEyNDdjZDkyMmE0YmM3YmM4ZTYzZTkgPSAkKGA8ZGl2IGlkPSJodG1sXzIwOWUwNGE0OGYxMjQ3Y2Q5MjJhNGJjN2JjOGU2M2U5IiBzdHlsZT0id2lkdGg6IDEwMC4wJTsgaGVpZ2h0OiAxMDAuMCU7Ij5IYXJib3VyZnJvbnQgRWFzdCwgVG9yb250byBJc2xhbmRzLCBVbmlvbiBTdGF0aW9uLCBEb3dudG93biBUb3JvbnRvPC9kaXY+YClbMF07CiAgICAgICAgICAgIHBvcHVwXzAyMDBmMzU2NmEwYjRiNGU4N2IwMjZlMmFlYmE1ODBlLnNldENvbnRlbnQoaHRtbF8yMDllMDRhNDhmMTI0N2NkOTIyYTRiYzdiYzhlNjNlOSk7CiAgICAgICAgCgogICAgICAgIGNpcmNsZV9tYXJrZXJfMzQ3MmY2Y2E2NTQ2NDdlYzliOGQ5NjU0NjNjZmZkM2EuYmluZFBvcHVwKHBvcHVwXzAyMDBmMzU2NmEwYjRiNGU4N2IwMjZlMmFlYmE1ODBlKQogICAgICAgIDsKCiAgICAgICAgCiAgICAKICAgIAogICAgICAgICAgICB2YXIgY2lyY2xlX21hcmtlcl84ZTJlYTg4YTMzMDA0Nzk2ODliZmQ3ZjBkMjE3MDQ5ZSA9IEwuY2lyY2xlTWFya2VyKAogICAgICAgICAgICAgICAgWzQzLjY0NzE3NjgsIC03OS4zODE1NzY0MDAwMDAwMV0sCiAgICAgICAgICAgICAgICB7ImJ1YmJsaW5nTW91c2VFdmVudHMiOiB0cnVlLCAiY29sb3IiOiAiYmx1ZSIsICJkYXNoQXJyYXkiOiBudWxsLCAiZGFzaE9mZnNldCI6IG51bGwsICJmaWxsIjogdHJ1ZSwgImZpbGxDb2xvciI6ICIjMzE4NmNjIiwgImZpbGxPcGFjaXR5IjogMC43LCAiZmlsbFJ1bGUiOiAiZXZlbm9kZCIsICJsaW5lQ2FwIjogInJvdW5kIiwgImxpbmVKb2luIjogInJvdW5kIiwgIm9wYWNpdHkiOiAxLjAsICJyYWRpdXMiOiA1LCAic3Ryb2tlIjogdHJ1ZSwgIndlaWdodCI6IDN9CiAgICAgICAgICAgICkuYWRkVG8obWFwX2UzNjg5OTVmZDZiMTQ4ZWRhMmUwN2E2ZTc5NzI4MmFmKTsKICAgICAgICAKICAgIAogICAgICAgIHZhciBwb3B1cF82MDhhNWYzZGQ1YjU0YjZjYmY5MmYwOWFjMjg2YzgxZiA9IEwucG9wdXAoeyJtYXhXaWR0aCI6ICIxMDAlIn0pOwoKICAgICAgICAKICAgICAgICAgICAgdmFyIGh0bWxfOTBhNTM5ZDM2ZWYwNGEyNWJlZjZiYzEzZTBmMGRiNDcgPSAkKGA8ZGl2IGlkPSJodG1sXzkwYTUzOWQzNmVmMDRhMjViZWY2YmMxM2UwZjBkYjQ3IiBzdHlsZT0id2lkdGg6IDEwMC4wJTsgaGVpZ2h0OiAxMDAuMCU7Ij5EZXNpZ24gRXhjaGFuZ2UsIFRvcm9udG8gRG9taW5pb24gQ2VudHJlLCBEb3dudG93biBUb3JvbnRvPC9kaXY+YClbMF07CiAgICAgICAgICAgIHBvcHVwXzYwOGE1ZjNkZDViNTRiNmNiZjkyZjA5YWMyODZjODFmLnNldENvbnRlbnQoaHRtbF85MGE1MzlkMzZlZjA0YTI1YmVmNmJjMTNlMGYwZGI0Nyk7CiAgICAgICAgCgogICAgICAgIGNpcmNsZV9tYXJrZXJfOGUyZWE4OGEzMzAwNDc5Njg5YmZkN2YwZDIxNzA0OWUuYmluZFBvcHVwKHBvcHVwXzYwOGE1ZjNkZDViNTRiNmNiZjkyZjA5YWMyODZjODFmKQogICAgICAgIDsKCiAgICAgICAgCiAgICAKICAgIAogICAgICAgICAgICB2YXIgY2lyY2xlX21hcmtlcl8xNzg0NWFkNjA3NWI0NWMwOGM0MGU0Y2JmM2RjNjk4NCA9IEwuY2lyY2xlTWFya2VyKAogICAgICAgICAgICAgICAgWzQzLjY0ODE5ODUsIC03OS4zNzk4MTY5MDAwMDAwMV0sCiAgICAgICAgICAgICAgICB7ImJ1YmJsaW5nTW91c2VFdmVudHMiOiB0cnVlLCAiY29sb3IiOiAiYmx1ZSIsICJkYXNoQXJyYXkiOiBudWxsLCAiZGFzaE9mZnNldCI6IG51bGwsICJmaWxsIjogdHJ1ZSwgImZpbGxDb2xvciI6ICIjMzE4NmNjIiwgImZpbGxPcGFjaXR5IjogMC43LCAiZmlsbFJ1bGUiOiAiZXZlbm9kZCIsICJsaW5lQ2FwIjogInJvdW5kIiwgImxpbmVKb2luIjogInJvdW5kIiwgIm9wYWNpdHkiOiAxLjAsICJyYWRpdXMiOiA1LCAic3Ryb2tlIjogdHJ1ZSwgIndlaWdodCI6IDN9CiAgICAgICAgICAgICkuYWRkVG8obWFwX2UzNjg5OTVmZDZiMTQ4ZWRhMmUwN2E2ZTc5NzI4MmFmKTsKICAgICAgICAKICAgIAogICAgICAgIHZhciBwb3B1cF9kMmM1MTQ0OTk2ZDY0M2QyYjBiZGY3YWY4MDE1M2I3OCA9IEwucG9wdXAoeyJtYXhXaWR0aCI6ICIxMDAlIn0pOwoKICAgICAgICAKICAgICAgICAgICAgdmFyIGh0bWxfMzM0NjI2N2JiMWQ4NDc5M2IxYjFiM2MyNTNkZWI4NDAgPSAkKGA8ZGl2IGlkPSJodG1sXzMzNDYyNjdiYjFkODQ3OTNiMWIxYjNjMjUzZGViODQwIiBzdHlsZT0id2lkdGg6IDEwMC4wJTsgaGVpZ2h0OiAxMDAuMCU7Ij5Db21tZXJjZSBDb3VydCwgVmljdG9yaWEgSG90ZWwsIERvd250b3duIFRvcm9udG88L2Rpdj5gKVswXTsKICAgICAgICAgICAgcG9wdXBfZDJjNTE0NDk5NmQ2NDNkMmIwYmRmN2FmODAxNTNiNzguc2V0Q29udGVudChodG1sXzMzNDYyNjdiYjFkODQ3OTNiMWIxYjNjMjUzZGViODQwKTsKICAgICAgICAKCiAgICAgICAgY2lyY2xlX21hcmtlcl8xNzg0NWFkNjA3NWI0NWMwOGM0MGU0Y2JmM2RjNjk4NC5iaW5kUG9wdXAocG9wdXBfZDJjNTE0NDk5NmQ2NDNkMmIwYmRmN2FmODAxNTNiNzgpCiAgICAgICAgOwoKICAgICAgICAKICAgIAogICAgCiAgICAgICAgICAgIHZhciBjaXJjbGVfbWFya2VyXzY4ZTMxNGFiNjYwYTQzMjg5ZGVmYTZhY2FhMDg5ZDhmID0gTC5jaXJjbGVNYXJrZXIoCiAgICAgICAgICAgICAgICBbNDMuNjYyNjk1NiwgLTc5LjQwMDA0OTNdLAogICAgICAgICAgICAgICAgeyJidWJibGluZ01vdXNlRXZlbnRzIjogdHJ1ZSwgImNvbG9yIjogImJsdWUiLCAiZGFzaEFycmF5IjogbnVsbCwgImRhc2hPZmZzZXQiOiBudWxsLCAiZmlsbCI6IHRydWUsICJmaWxsQ29sb3IiOiAiIzMxODZjYyIsICJmaWxsT3BhY2l0eSI6IDAuNywgImZpbGxSdWxlIjogImV2ZW5vZGQiLCAibGluZUNhcCI6ICJyb3VuZCIsICJsaW5lSm9pbiI6ICJyb3VuZCIsICJvcGFjaXR5IjogMS4wLCAicmFkaXVzIjogNSwgInN0cm9rZSI6IHRydWUsICJ3ZWlnaHQiOiAzfQogICAgICAgICAgICApLmFkZFRvKG1hcF9lMzY4OTk1ZmQ2YjE0OGVkYTJlMDdhNmU3OTcyODJhZik7CiAgICAgICAgCiAgICAKICAgICAgICB2YXIgcG9wdXBfMjNjMWNkNzg4YzE3NDcwYjkwNDk5ZjM5YzNkZjI3OTcgPSBMLnBvcHVwKHsibWF4V2lkdGgiOiAiMTAwJSJ9KTsKCiAgICAgICAgCiAgICAgICAgICAgIHZhciBodG1sXzQzM2NkYjBhNmQ1YzRhNzhiMjQyZWNiZGM2NDU4NTlhID0gJChgPGRpdiBpZD0iaHRtbF80MzNjZGIwYTZkNWM0YTc4YjI0MmVjYmRjNjQ1ODU5YSIgc3R5bGU9IndpZHRoOiAxMDAuMCU7IGhlaWdodDogMTAwLjAlOyI+SGFyYm9yZCwgVW5pdmVyc2l0eSBvZiBUb3JvbnRvLCBEb3dudG93biBUb3JvbnRvPC9kaXY+YClbMF07CiAgICAgICAgICAgIHBvcHVwXzIzYzFjZDc4OGMxNzQ3MGI5MDQ5OWYzOWMzZGYyNzk3LnNldENvbnRlbnQoaHRtbF80MzNjZGIwYTZkNWM0YTc4YjI0MmVjYmRjNjQ1ODU5YSk7CiAgICAgICAgCgogICAgICAgIGNpcmNsZV9tYXJrZXJfNjhlMzE0YWI2NjBhNDMyODlkZWZhNmFjYWEwODlkOGYuYmluZFBvcHVwKHBvcHVwXzIzYzFjZDc4OGMxNzQ3MGI5MDQ5OWYzOWMzZGYyNzk3KQogICAgICAgIDsKCiAgICAgICAgCiAgICAKICAgIAogICAgICAgICAgICB2YXIgY2lyY2xlX21hcmtlcl85OWI1OTg3NDg3NmU0YmE2YWFmZGE1ODg0NGFkNmQwNSA9IEwuY2lyY2xlTWFya2VyKAogICAgICAgICAgICAgICAgWzQzLjY1MzIwNTcsIC03OS40MDAwNDkzXSwKICAgICAgICAgICAgICAgIHsiYnViYmxpbmdNb3VzZUV2ZW50cyI6IHRydWUsICJjb2xvciI6ICJibHVlIiwgImRhc2hBcnJheSI6IG51bGwsICJkYXNoT2Zmc2V0IjogbnVsbCwgImZpbGwiOiB0cnVlLCAiZmlsbENvbG9yIjogIiMzMTg2Y2MiLCAiZmlsbE9wYWNpdHkiOiAwLjcsICJmaWxsUnVsZSI6ICJldmVub2RkIiwgImxpbmVDYXAiOiAicm91bmQiLCAibGluZUpvaW4iOiAicm91bmQiLCAib3BhY2l0eSI6IDEuMCwgInJhZGl1cyI6IDUsICJzdHJva2UiOiB0cnVlLCAid2VpZ2h0IjogM30KICAgICAgICAgICAgKS5hZGRUbyhtYXBfZTM2ODk5NWZkNmIxNDhlZGEyZTA3YTZlNzk3MjgyYWYpOwogICAgICAgIAogICAgCiAgICAgICAgdmFyIHBvcHVwXzE2MGNhOTc4ZTQzNzQ1YmJhZjgzOTE2ZTdjZjUwYjExID0gTC5wb3B1cCh7Im1heFdpZHRoIjogIjEwMCUifSk7CgogICAgICAgIAogICAgICAgICAgICB2YXIgaHRtbF9mZjI4MDhlMmY0NDM0YWY1YTJkNThkMDExY2ExOTVhYSA9ICQoYDxkaXYgaWQ9Imh0bWxfZmYyODA4ZTJmNDQzNGFmNWEyZDU4ZDAxMWNhMTk1YWEiIHN0eWxlPSJ3aWR0aDogMTAwLjAlOyBoZWlnaHQ6IDEwMC4wJTsiPkNoaW5hdG93biwgR3JhbmdlIFBhcmssIEtlbnNpbmd0b24gTWFya2V0LCBEb3dudG93biBUb3JvbnRvPC9kaXY+YClbMF07CiAgICAgICAgICAgIHBvcHVwXzE2MGNhOTc4ZTQzNzQ1YmJhZjgzOTE2ZTdjZjUwYjExLnNldENvbnRlbnQoaHRtbF9mZjI4MDhlMmY0NDM0YWY1YTJkNThkMDExY2ExOTVhYSk7CiAgICAgICAgCgogICAgICAgIGNpcmNsZV9tYXJrZXJfOTliNTk4NzQ4NzZlNGJhNmFhZmRhNTg4NDRhZDZkMDUuYmluZFBvcHVwKHBvcHVwXzE2MGNhOTc4ZTQzNzQ1YmJhZjgzOTE2ZTdjZjUwYjExKQogICAgICAgIDsKCiAgICAgICAgCiAgICAKICAgIAogICAgICAgICAgICB2YXIgY2lyY2xlX21hcmtlcl83YmVkMDU4YTM2MTA0NTQzODdmNWZhYzRiMTBhNDRiZSA9IEwuY2lyY2xlTWFya2VyKAogICAgICAgICAgICAgICAgWzQzLjYyODk0NjcsIC03OS4zOTQ0MTk5XSwKICAgICAgICAgICAgICAgIHsiYnViYmxpbmdNb3VzZUV2ZW50cyI6IHRydWUsICJjb2xvciI6ICJibHVlIiwgImRhc2hBcnJheSI6IG51bGwsICJkYXNoT2Zmc2V0IjogbnVsbCwgImZpbGwiOiB0cnVlLCAiZmlsbENvbG9yIjogIiMzMTg2Y2MiLCAiZmlsbE9wYWNpdHkiOiAwLjcsICJmaWxsUnVsZSI6ICJldmVub2RkIiwgImxpbmVDYXAiOiAicm91bmQiLCAibGluZUpvaW4iOiAicm91bmQiLCAib3BhY2l0eSI6IDEuMCwgInJhZGl1cyI6IDUsICJzdHJva2UiOiB0cnVlLCAid2VpZ2h0IjogM30KICAgICAgICAgICAgKS5hZGRUbyhtYXBfZTM2ODk5NWZkNmIxNDhlZGEyZTA3YTZlNzk3MjgyYWYpOwogICAgICAgIAogICAgCiAgICAgICAgdmFyIHBvcHVwXzdmMzNkMzM2NTcyNjQ5YWFhNTA5YTE1MWIyZmJhNzJkID0gTC5wb3B1cCh7Im1heFdpZHRoIjogIjEwMCUifSk7CgogICAgICAgIAogICAgICAgICAgICB2YXIgaHRtbF9iNTBiY2YwNmMwYzI0ZmUxYWI2NDgxYTQ1ODBiZjExYiA9ICQoYDxkaXYgaWQ9Imh0bWxfYjUwYmNmMDZjMGMyNGZlMWFiNjQ4MWE0NTgwYmYxMWIiIHN0eWxlPSJ3aWR0aDogMTAwLjAlOyBoZWlnaHQ6IDEwMC4wJTsiPkNOIFRvd2VyLCBCYXRodXJzdCBRdWF5LCBJc2xhbmQgYWlycG9ydCwgSGFyYm91cmZyb250IFdlc3QsIEtpbmcgYW5kIFNwYWRpbmEsIFJhaWx3YXkgTGFuZHMsIFNvdXRoIE5pYWdhcmEsIERvd250b3duIFRvcm9udG88L2Rpdj5gKVswXTsKICAgICAgICAgICAgcG9wdXBfN2YzM2QzMzY1NzI2NDlhYWE1MDlhMTUxYjJmYmE3MmQuc2V0Q29udGVudChodG1sX2I1MGJjZjA2YzBjMjRmZTFhYjY0ODFhNDU4MGJmMTFiKTsKICAgICAgICAKCiAgICAgICAgY2lyY2xlX21hcmtlcl83YmVkMDU4YTM2MTA0NTQzODdmNWZhYzRiMTBhNDRiZS5iaW5kUG9wdXAocG9wdXBfN2YzM2QzMzY1NzI2NDlhYWE1MDlhMTUxYjJmYmE3MmQpCiAgICAgICAgOwoKICAgICAgICAKICAgIAogICAgCiAgICAgICAgICAgIHZhciBjaXJjbGVfbWFya2VyXzczZjYyNjE1ZTIzMDQxY2FhZGRiYzc0OGUxYTE1MjgzID0gTC5jaXJjbGVNYXJrZXIoCiAgICAgICAgICAgICAgICBbNDMuNjQ2NDM1MiwgLTc5LjM3NDg0NTk5OTk5OTk5XSwKICAgICAgICAgICAgICAgIHsiYnViYmxpbmdNb3VzZUV2ZW50cyI6IHRydWUsICJjb2xvciI6ICJibHVlIiwgImRhc2hBcnJheSI6IG51bGwsICJkYXNoT2Zmc2V0IjogbnVsbCwgImZpbGwiOiB0cnVlLCAiZmlsbENvbG9yIjogIiMzMTg2Y2MiLCAiZmlsbE9wYWNpdHkiOiAwLjcsICJmaWxsUnVsZSI6ICJldmVub2RkIiwgImxpbmVDYXAiOiAicm91bmQiLCAibGluZUpvaW4iOiAicm91bmQiLCAib3BhY2l0eSI6IDEuMCwgInJhZGl1cyI6IDUsICJzdHJva2UiOiB0cnVlLCAid2VpZ2h0IjogM30KICAgICAgICAgICAgKS5hZGRUbyhtYXBfZTM2ODk5NWZkNmIxNDhlZGEyZTA3YTZlNzk3MjgyYWYpOwogICAgICAgIAogICAgCiAgICAgICAgdmFyIHBvcHVwX2M1NzE3N2YwNGZhOTQxYTY4MmIzMmNiZjk1NGFkZTU0ID0gTC5wb3B1cCh7Im1heFdpZHRoIjogIjEwMCUifSk7CgogICAgICAgIAogICAgICAgICAgICB2YXIgaHRtbF9jM2RmMWQxOGU2ZmQ0MWFhYThiOTQ3YjFkNmI4Njk3ZCA9ICQoYDxkaXYgaWQ9Imh0bWxfYzNkZjFkMThlNmZkNDFhYWE4Yjk0N2IxZDZiODY5N2QiIHN0eWxlPSJ3aWR0aDogMTAwLjAlOyBoZWlnaHQ6IDEwMC4wJTsiPlN0biBBIFBPIEJveGVzIDI1IFRoZSBFc3BsYW5hZGUsIERvd250b3duIFRvcm9udG88L2Rpdj5gKVswXTsKICAgICAgICAgICAgcG9wdXBfYzU3MTc3ZjA0ZmE5NDFhNjgyYjMyY2JmOTU0YWRlNTQuc2V0Q29udGVudChodG1sX2MzZGYxZDE4ZTZmZDQxYWFhOGI5NDdiMWQ2Yjg2OTdkKTsKICAgICAgICAKCiAgICAgICAgY2lyY2xlX21hcmtlcl83M2Y2MjYxNWUyMzA0MWNhYWRkYmM3NDhlMWExNTI4My5iaW5kUG9wdXAocG9wdXBfYzU3MTc3ZjA0ZmE5NDFhNjgyYjMyY2JmOTU0YWRlNTQpCiAgICAgICAgOwoKICAgICAgICAKICAgIAogICAgCiAgICAgICAgICAgIHZhciBjaXJjbGVfbWFya2VyXzhmNzk2Nzk2MmEzNDQ0ZTFiMTcyNjhhYjY5NWU5OTQxID0gTC5jaXJjbGVNYXJrZXIoCiAgICAgICAgICAgICAgICBbNDMuNjQ4NDI5MiwgLTc5LjM4MjI4MDJdLAogICAgICAgICAgICAgICAgeyJidWJibGluZ01vdXNlRXZlbnRzIjogdHJ1ZSwgImNvbG9yIjogImJsdWUiLCAiZGFzaEFycmF5IjogbnVsbCwgImRhc2hPZmZzZXQiOiBudWxsLCAiZmlsbCI6IHRydWUsICJmaWxsQ29sb3IiOiAiIzMxODZjYyIsICJmaWxsT3BhY2l0eSI6IDAuNywgImZpbGxSdWxlIjogImV2ZW5vZGQiLCAibGluZUNhcCI6ICJyb3VuZCIsICJsaW5lSm9pbiI6ICJyb3VuZCIsICJvcGFjaXR5IjogMS4wLCAicmFkaXVzIjogNSwgInN0cm9rZSI6IHRydWUsICJ3ZWlnaHQiOiAzfQogICAgICAgICAgICApLmFkZFRvKG1hcF9lMzY4OTk1ZmQ2YjE0OGVkYTJlMDdhNmU3OTcyODJhZik7CiAgICAgICAgCiAgICAKICAgICAgICB2YXIgcG9wdXBfNjFhYmE3NjBlNjRjNDVlZjk5MWJiZjMyMjI5NzgwOTUgPSBMLnBvcHVwKHsibWF4V2lkdGgiOiAiMTAwJSJ9KTsKCiAgICAgICAgCiAgICAgICAgICAgIHZhciBodG1sXzc0MGRhOGZmYzY0YzRlNjJhOGFiMDM3NDIzYTAzYTU4ID0gJChgPGRpdiBpZD0iaHRtbF83NDBkYThmZmM2NGM0ZTYyYThhYjAzNzQyM2EwM2E1OCIgc3R5bGU9IndpZHRoOiAxMDAuMCU7IGhlaWdodDogMTAwLjAlOyI+Rmlyc3QgQ2FuYWRpYW4gUGxhY2UsIFVuZGVyZ3JvdW5kIGNpdHksIERvd250b3duIFRvcm9udG88L2Rpdj5gKVswXTsKICAgICAgICAgICAgcG9wdXBfNjFhYmE3NjBlNjRjNDVlZjk5MWJiZjMyMjI5NzgwOTUuc2V0Q29udGVudChodG1sXzc0MGRhOGZmYzY0YzRlNjJhOGFiMDM3NDIzYTAzYTU4KTsKICAgICAgICAKCiAgICAgICAgY2lyY2xlX21hcmtlcl84Zjc5Njc5NjJhMzQ0NGUxYjE3MjY4YWI2OTVlOTk0MS5iaW5kUG9wdXAocG9wdXBfNjFhYmE3NjBlNjRjNDVlZjk5MWJiZjMyMjI5NzgwOTUpCiAgICAgICAgOwoKICAgICAgICAKICAgIAogICAgCiAgICAgICAgICAgIHZhciBjaXJjbGVfbWFya2VyXzgzNDg0NWM2YzRiYjQ0NTBiYmM2ZTVhZmQxNTBiMDE2ID0gTC5jaXJjbGVNYXJrZXIoCiAgICAgICAgICAgICAgICBbNDMuNjY5NTQyLCAtNzkuNDIyNTYzN10sCiAgICAgICAgICAgICAgICB7ImJ1YmJsaW5nTW91c2VFdmVudHMiOiB0cnVlLCAiY29sb3IiOiAiYmx1ZSIsICJkYXNoQXJyYXkiOiBudWxsLCAiZGFzaE9mZnNldCI6IG51bGwsICJmaWxsIjogdHJ1ZSwgImZpbGxDb2xvciI6ICIjMzE4NmNjIiwgImZpbGxPcGFjaXR5IjogMC43LCAiZmlsbFJ1bGUiOiAiZXZlbm9kZCIsICJsaW5lQ2FwIjogInJvdW5kIiwgImxpbmVKb2luIjogInJvdW5kIiwgIm9wYWNpdHkiOiAxLjAsICJyYWRpdXMiOiA1LCAic3Ryb2tlIjogdHJ1ZSwgIndlaWdodCI6IDN9CiAgICAgICAgICAgICkuYWRkVG8obWFwX2UzNjg5OTVmZDZiMTQ4ZWRhMmUwN2E2ZTc5NzI4MmFmKTsKICAgICAgICAKICAgIAogICAgICAgIHZhciBwb3B1cF9iZDc3ZmFjNzQ0ZGE0Y2IxYjYyMzFjMWI1YThkZGRiMSA9IEwucG9wdXAoeyJtYXhXaWR0aCI6ICIxMDAlIn0pOwoKICAgICAgICAKICAgICAgICAgICAgdmFyIGh0bWxfMDdkZjNhY2FlMDFlNGQzMTkzMjk5ZWI3ODQxODZlYjcgPSAkKGA8ZGl2IGlkPSJodG1sXzA3ZGYzYWNhZTAxZTRkMzE5MzI5OWViNzg0MTg2ZWI3IiBzdHlsZT0id2lkdGg6IDEwMC4wJTsgaGVpZ2h0OiAxMDAuMCU7Ij5DaHJpc3RpZSwgRG93bnRvd24gVG9yb250bzwvZGl2PmApWzBdOwogICAgICAgICAgICBwb3B1cF9iZDc3ZmFjNzQ0ZGE0Y2IxYjYyMzFjMWI1YThkZGRiMS5zZXRDb250ZW50KGh0bWxfMDdkZjNhY2FlMDFlNGQzMTkzMjk5ZWI3ODQxODZlYjcpOwogICAgICAgIAoKICAgICAgICBjaXJjbGVfbWFya2VyXzgzNDg0NWM2YzRiYjQ0NTBiYmM2ZTVhZmQxNTBiMDE2LmJpbmRQb3B1cChwb3B1cF9iZDc3ZmFjNzQ0ZGE0Y2IxYjYyMzFjMWI1YThkZGRiMSkKICAgICAgICA7CgogICAgICAgIAogICAgCiAgICAKICAgICAgICAgICAgdmFyIGNpcmNsZV9tYXJrZXJfZjQ4ZmYwYTQzM2IzNDZlYmJlNzExNzY3YmI5N2FkNWMgPSBMLmNpcmNsZU1hcmtlcigKICAgICAgICAgICAgICAgIFs0My42NjIzMDE1LCAtNzkuMzg5NDkzOF0sCiAgICAgICAgICAgICAgICB7ImJ1YmJsaW5nTW91c2VFdmVudHMiOiB0cnVlLCAiY29sb3IiOiAiYmx1ZSIsICJkYXNoQXJyYXkiOiBudWxsLCAiZGFzaE9mZnNldCI6IG51bGwsICJmaWxsIjogdHJ1ZSwgImZpbGxDb2xvciI6ICIjMzE4NmNjIiwgImZpbGxPcGFjaXR5IjogMC43LCAiZmlsbFJ1bGUiOiAiZXZlbm9kZCIsICJsaW5lQ2FwIjogInJvdW5kIiwgImxpbmVKb2luIjogInJvdW5kIiwgIm9wYWNpdHkiOiAxLjAsICJyYWRpdXMiOiA1LCAic3Ryb2tlIjogdHJ1ZSwgIndlaWdodCI6IDN9CiAgICAgICAgICAgICkuYWRkVG8obWFwX2UzNjg5OTVmZDZiMTQ4ZWRhMmUwN2E2ZTc5NzI4MmFmKTsKICAgICAgICAKICAgIAogICAgICAgIHZhciBwb3B1cF8xNWYzMDJhYzY5ZTk0NmM2ODE5M2I2MjZkNDBiY2IxNyA9IEwucG9wdXAoeyJtYXhXaWR0aCI6ICIxMDAlIn0pOwoKICAgICAgICAKICAgICAgICAgICAgdmFyIGh0bWxfMTAxMTlhNjExMWJkNDhjYTgyNTUzZWQwMDc1OWI4NmUgPSAkKGA8ZGl2IGlkPSJodG1sXzEwMTE5YTYxMTFiZDQ4Y2E4MjU1M2VkMDA3NTliODZlIiBzdHlsZT0id2lkdGg6IDEwMC4wJTsgaGVpZ2h0OiAxMDAuMCU7Ij5RdWVlbiYjMzk7cyBQYXJrLCBEb3dudG93biBUb3JvbnRvPC9kaXY+YClbMF07CiAgICAgICAgICAgIHBvcHVwXzE1ZjMwMmFjNjllOTQ2YzY4MTkzYjYyNmQ0MGJjYjE3LnNldENvbnRlbnQoaHRtbF8xMDExOWE2MTExYmQ0OGNhODI1NTNlZDAwNzU5Yjg2ZSk7CiAgICAgICAgCgogICAgICAgIGNpcmNsZV9tYXJrZXJfZjQ4ZmYwYTQzM2IzNDZlYmJlNzExNzY3YmI5N2FkNWMuYmluZFBvcHVwKHBvcHVwXzE1ZjMwMmFjNjllOTQ2YzY4MTkzYjYyNmQ0MGJjYjE3KQogICAgICAgIDsKCiAgICAgICAgCiAgICAKPC9zY3JpcHQ+\" style=\"position:absolute;width:100%;height:100%;left:0;top:0;border:none !important;\" allowfullscreen webkitallowfullscreen mozallowfullscreen></iframe></div></div>"
      ],
      "text/plain": [
       "<folium.folium.Map at 0xa73ad00>"
      ]
     },
     "execution_count": 17,
     "metadata": {},
     "output_type": "execute_result"
    }
   ],
   "source": [
    "# Set Downtown Toronto coordinate as center and use merge_df dataset for creating circle around it\n",
    "map_downtown = folium.Map(location=[latitude, longitude], zoom_start=11)\n",
    "\n",
    "# add markers to map\n",
    "for lat, lng, borough, neighbourhood in zip(downtown_data['Latitude'], downtown_data['Longitude'], downtown_data['Borough'], downtown_data['Neighbourhood']):\n",
    "    label = '{}, {}'.format(neighbourhood, borough)\n",
    "    label = folium.Popup(label, parse_html=True)\n",
    "    folium.CircleMarker(\n",
    "        [lat, lng],\n",
    "        radius=5,\n",
    "        popup=label,\n",
    "        color='blue',\n",
    "        fill=True,\n",
    "        fill_color='#3186cc',\n",
    "        fill_opacity=0.7,\n",
    "        parse_html=False).add_to(map_downtown)  \n",
    "\n",
    "# Add title\n",
    "title_html = '''\n",
    "             <h3 align=\"center\" style=\"font-size:20px\"><b>Downtown Toronto</b></h3>\n",
    "             '''\n",
    "map_downtown.get_root().html.add_child(folium.Element(title_html))\n",
    "    \n",
    "#Display\n",
    "map_downtown"
   ]
  },
  {
   "cell_type": "markdown",
   "metadata": {},
   "source": [
    "### Neighbourhoods in Scarborough"
   ]
  },
  {
   "cell_type": "code",
   "execution_count": 18,
   "metadata": {
    "collapsed": true,
    "scrolled": false
   },
   "outputs": [
    {
     "data": {
      "text/html": [
       "<div>\n",
       "<style scoped>\n",
       "    .dataframe tbody tr th:only-of-type {\n",
       "        vertical-align: middle;\n",
       "    }\n",
       "\n",
       "    .dataframe tbody tr th {\n",
       "        vertical-align: top;\n",
       "    }\n",
       "\n",
       "    .dataframe thead th {\n",
       "        text-align: right;\n",
       "    }\n",
       "</style>\n",
       "<table border=\"1\" class=\"dataframe\">\n",
       "  <thead>\n",
       "    <tr style=\"text-align: right;\">\n",
       "      <th></th>\n",
       "      <th>Postcode</th>\n",
       "      <th>Borough</th>\n",
       "      <th>Neighbourhood</th>\n",
       "      <th>Latitude</th>\n",
       "      <th>Longitude</th>\n",
       "    </tr>\n",
       "  </thead>\n",
       "  <tbody>\n",
       "    <tr>\n",
       "      <th>0</th>\n",
       "      <td>M1B</td>\n",
       "      <td>Scarborough</td>\n",
       "      <td>Rouge, Malvern</td>\n",
       "      <td>43.806686</td>\n",
       "      <td>-79.194353</td>\n",
       "    </tr>\n",
       "    <tr>\n",
       "      <th>1</th>\n",
       "      <td>M1C</td>\n",
       "      <td>Scarborough</td>\n",
       "      <td>Highland Creek, Rouge Hill, Port Union</td>\n",
       "      <td>43.784535</td>\n",
       "      <td>-79.160497</td>\n",
       "    </tr>\n",
       "    <tr>\n",
       "      <th>2</th>\n",
       "      <td>M1E</td>\n",
       "      <td>Scarborough</td>\n",
       "      <td>Guildwood, Morningside, West Hill</td>\n",
       "      <td>43.763573</td>\n",
       "      <td>-79.188711</td>\n",
       "    </tr>\n",
       "  </tbody>\n",
       "</table>\n",
       "</div>"
      ],
      "text/plain": [
       "  Postcode      Borough                           Neighbourhood   Latitude  \\\n",
       "0      M1B  Scarborough                          Rouge, Malvern  43.806686   \n",
       "1      M1C  Scarborough  Highland Creek, Rouge Hill, Port Union  43.784535   \n",
       "2      M1E  Scarborough       Guildwood, Morningside, West Hill  43.763573   \n",
       "\n",
       "   Longitude  \n",
       "0 -79.194353  \n",
       "1 -79.160497  \n",
       "2 -79.188711  "
      ]
     },
     "execution_count": 18,
     "metadata": {},
     "output_type": "execute_result"
    }
   ],
   "source": [
    "# Select Scarborough from dataset\n",
    "scarborough_data = merge_df[merge_df['Borough'] == 'Scarborough'].reset_index(drop=True)\n",
    "scarborough_data.head(3)"
   ]
  },
  {
   "cell_type": "code",
   "execution_count": 19,
   "metadata": {
    "collapsed": true,
    "scrolled": false
   },
   "outputs": [
    {
     "name": "stdout",
     "output_type": "stream",
     "text": [
      "The geograpical coordinate of Scarborough is 43.773077, -79.257774.\n"
     ]
    }
   ],
   "source": [
    "address = 'Scarborough, CA'\n",
    "\n",
    "geolocator = Nominatim(user_agent=\"sc_explorer\")\n",
    "location = geolocator.geocode(address)\n",
    "latitude = location.latitude\n",
    "longitude = location.longitude\n",
    "print('The geograpical coordinate of Scarborough is {}, {}.'.format(latitude, longitude))"
   ]
  },
  {
   "cell_type": "code",
   "execution_count": 20,
   "metadata": {
    "collapsed": true,
    "scrolled": true
   },
   "outputs": [
    {
     "data": {
      "text/html": [
       "<div style=\"width:100%;\"><div style=\"position:relative;width:100%;height:0;padding-bottom:60%;\"><iframe src=\"data:text/html;charset=utf-8;base64,PCFET0NUWVBFIGh0bWw+CjxoZWFkPiAgICAKICAgIDxtZXRhIGh0dHAtZXF1aXY9ImNvbnRlbnQtdHlwZSIgY29udGVudD0idGV4dC9odG1sOyBjaGFyc2V0PVVURi04IiAvPgogICAgCiAgICAgICAgPHNjcmlwdD4KICAgICAgICAgICAgTF9OT19UT1VDSCA9IGZhbHNlOwogICAgICAgICAgICBMX0RJU0FCTEVfM0QgPSBmYWxzZTsKICAgICAgICA8L3NjcmlwdD4KICAgIAogICAgPHNjcmlwdCBzcmM9Imh0dHBzOi8vY2RuLmpzZGVsaXZyLm5ldC9ucG0vbGVhZmxldEAxLjUuMS9kaXN0L2xlYWZsZXQuanMiPjwvc2NyaXB0PgogICAgPHNjcmlwdCBzcmM9Imh0dHBzOi8vY29kZS5qcXVlcnkuY29tL2pxdWVyeS0xLjEyLjQubWluLmpzIj48L3NjcmlwdD4KICAgIDxzY3JpcHQgc3JjPSJodHRwczovL21heGNkbi5ib290c3RyYXBjZG4uY29tL2Jvb3RzdHJhcC8zLjIuMC9qcy9ib290c3RyYXAubWluLmpzIj48L3NjcmlwdD4KICAgIDxzY3JpcHQgc3JjPSJodHRwczovL2NkbmpzLmNsb3VkZmxhcmUuY29tL2FqYXgvbGlicy9MZWFmbGV0LmF3ZXNvbWUtbWFya2Vycy8yLjAuMi9sZWFmbGV0LmF3ZXNvbWUtbWFya2Vycy5qcyI+PC9zY3JpcHQ+CiAgICA8bGluayByZWw9InN0eWxlc2hlZXQiIGhyZWY9Imh0dHBzOi8vY2RuLmpzZGVsaXZyLm5ldC9ucG0vbGVhZmxldEAxLjUuMS9kaXN0L2xlYWZsZXQuY3NzIi8+CiAgICA8bGluayByZWw9InN0eWxlc2hlZXQiIGhyZWY9Imh0dHBzOi8vbWF4Y2RuLmJvb3RzdHJhcGNkbi5jb20vYm9vdHN0cmFwLzMuMi4wL2Nzcy9ib290c3RyYXAubWluLmNzcyIvPgogICAgPGxpbmsgcmVsPSJzdHlsZXNoZWV0IiBocmVmPSJodHRwczovL21heGNkbi5ib290c3RyYXBjZG4uY29tL2Jvb3RzdHJhcC8zLjIuMC9jc3MvYm9vdHN0cmFwLXRoZW1lLm1pbi5jc3MiLz4KICAgIDxsaW5rIHJlbD0ic3R5bGVzaGVldCIgaHJlZj0iaHR0cHM6Ly9tYXhjZG4uYm9vdHN0cmFwY2RuLmNvbS9mb250LWF3ZXNvbWUvNC42LjMvY3NzL2ZvbnQtYXdlc29tZS5taW4uY3NzIi8+CiAgICA8bGluayByZWw9InN0eWxlc2hlZXQiIGhyZWY9Imh0dHBzOi8vY2RuanMuY2xvdWRmbGFyZS5jb20vYWpheC9saWJzL0xlYWZsZXQuYXdlc29tZS1tYXJrZXJzLzIuMC4yL2xlYWZsZXQuYXdlc29tZS1tYXJrZXJzLmNzcyIvPgogICAgPGxpbmsgcmVsPSJzdHlsZXNoZWV0IiBocmVmPSJodHRwczovL3Jhd2Nkbi5naXRoYWNrLmNvbS9weXRob24tdmlzdWFsaXphdGlvbi9mb2xpdW0vbWFzdGVyL2ZvbGl1bS90ZW1wbGF0ZXMvbGVhZmxldC5hd2Vzb21lLnJvdGF0ZS5jc3MiLz4KICAgIDxzdHlsZT5odG1sLCBib2R5IHt3aWR0aDogMTAwJTtoZWlnaHQ6IDEwMCU7bWFyZ2luOiAwO3BhZGRpbmc6IDA7fTwvc3R5bGU+CiAgICA8c3R5bGU+I21hcCB7cG9zaXRpb246YWJzb2x1dGU7dG9wOjA7Ym90dG9tOjA7cmlnaHQ6MDtsZWZ0OjA7fTwvc3R5bGU+CiAgICAKICAgICAgICAgICAgPG1ldGEgbmFtZT0idmlld3BvcnQiIGNvbnRlbnQ9IndpZHRoPWRldmljZS13aWR0aCwKICAgICAgICAgICAgICAgIGluaXRpYWwtc2NhbGU9MS4wLCBtYXhpbXVtLXNjYWxlPTEuMCwgdXNlci1zY2FsYWJsZT1ubyIgLz4KICAgICAgICAgICAgPHN0eWxlPgogICAgICAgICAgICAgICAgI21hcF8xZjQ2MTQxYzEyMzA0YmRjODEyMDg2MDU4N2NjOGFhYSB7CiAgICAgICAgICAgICAgICAgICAgcG9zaXRpb246IHJlbGF0aXZlOwogICAgICAgICAgICAgICAgICAgIHdpZHRoOiAxMDAuMCU7CiAgICAgICAgICAgICAgICAgICAgaGVpZ2h0OiAxMDAuMCU7CiAgICAgICAgICAgICAgICAgICAgbGVmdDogMC4wJTsKICAgICAgICAgICAgICAgICAgICB0b3A6IDAuMCU7CiAgICAgICAgICAgICAgICB9CiAgICAgICAgICAgIDwvc3R5bGU+CiAgICAgICAgCjwvaGVhZD4KPGJvZHk+ICAgIAogICAgCiAgICAgICAgICAgICA8aDMgYWxpZ249ImNlbnRlciIgc3R5bGU9ImZvbnQtc2l6ZToyMHB4Ij48Yj5OZWlnaGJvdXJob29kcyBpbiBTY2FyYm9yb3VnaDwvYj48L2gzPgogICAgICAgICAgICAgCiAgICAKICAgICAgICAgICAgPGRpdiBjbGFzcz0iZm9saXVtLW1hcCIgaWQ9Im1hcF8xZjQ2MTQxYzEyMzA0YmRjODEyMDg2MDU4N2NjOGFhYSIgPjwvZGl2PgogICAgICAgIAo8L2JvZHk+CjxzY3JpcHQ+ICAgIAogICAgCiAgICAgICAgICAgIHZhciBtYXBfMWY0NjE0MWMxMjMwNGJkYzgxMjA4NjA1ODdjYzhhYWEgPSBMLm1hcCgKICAgICAgICAgICAgICAgICJtYXBfMWY0NjE0MWMxMjMwNGJkYzgxMjA4NjA1ODdjYzhhYWEiLAogICAgICAgICAgICAgICAgewogICAgICAgICAgICAgICAgICAgIGNlbnRlcjogWzQzLjc3MzA3NywgLTc5LjI1Nzc3NF0sCiAgICAgICAgICAgICAgICAgICAgY3JzOiBMLkNSUy5FUFNHMzg1NywKICAgICAgICAgICAgICAgICAgICB6b29tOiAxMSwKICAgICAgICAgICAgICAgICAgICB6b29tQ29udHJvbDogdHJ1ZSwKICAgICAgICAgICAgICAgICAgICBwcmVmZXJDYW52YXM6IGZhbHNlLAogICAgICAgICAgICAgICAgfQogICAgICAgICAgICApOwoKICAgICAgICAgICAgCgogICAgICAgIAogICAgCiAgICAgICAgICAgIHZhciB0aWxlX2xheWVyX2QyZGRkYmU4MDk3YzQ2Yjg4ZDIzZTIzMTMxZTA4NjNhID0gTC50aWxlTGF5ZXIoCiAgICAgICAgICAgICAgICAiaHR0cHM6Ly97c30udGlsZS5vcGVuc3RyZWV0bWFwLm9yZy97en0ve3h9L3t5fS5wbmciLAogICAgICAgICAgICAgICAgeyJhdHRyaWJ1dGlvbiI6ICJEYXRhIGJ5IFx1MDAyNmNvcHk7IFx1MDAzY2EgaHJlZj1cImh0dHA6Ly9vcGVuc3RyZWV0bWFwLm9yZ1wiXHUwMDNlT3BlblN0cmVldE1hcFx1MDAzYy9hXHUwMDNlLCB1bmRlciBcdTAwM2NhIGhyZWY9XCJodHRwOi8vd3d3Lm9wZW5zdHJlZXRtYXAub3JnL2NvcHlyaWdodFwiXHUwMDNlT0RiTFx1MDAzYy9hXHUwMDNlLiIsICJkZXRlY3RSZXRpbmEiOiBmYWxzZSwgIm1heE5hdGl2ZVpvb20iOiAxOCwgIm1heFpvb20iOiAxOCwgIm1pblpvb20iOiAwLCAibm9XcmFwIjogZmFsc2UsICJvcGFjaXR5IjogMSwgInN1YmRvbWFpbnMiOiAiYWJjIiwgInRtcyI6IGZhbHNlfQogICAgICAgICAgICApLmFkZFRvKG1hcF8xZjQ2MTQxYzEyMzA0YmRjODEyMDg2MDU4N2NjOGFhYSk7CiAgICAgICAgCiAgICAKICAgICAgICAgICAgdmFyIGNpcmNsZV9tYXJrZXJfOTY4YzZiMzcyYWQwNDM3NDlhMmU4ZWEzNmQ2NmZlOTAgPSBMLmNpcmNsZU1hcmtlcigKICAgICAgICAgICAgICAgIFs0My44MDY2ODYyOTk5OTk5OTYsIC03OS4xOTQzNTM0MDAwMDAwMV0sCiAgICAgICAgICAgICAgICB7ImJ1YmJsaW5nTW91c2VFdmVudHMiOiB0cnVlLCAiY29sb3IiOiAiYmx1ZSIsICJkYXNoQXJyYXkiOiBudWxsLCAiZGFzaE9mZnNldCI6IG51bGwsICJmaWxsIjogdHJ1ZSwgImZpbGxDb2xvciI6ICIjMzE4NmNjIiwgImZpbGxPcGFjaXR5IjogMC43LCAiZmlsbFJ1bGUiOiAiZXZlbm9kZCIsICJsaW5lQ2FwIjogInJvdW5kIiwgImxpbmVKb2luIjogInJvdW5kIiwgIm9wYWNpdHkiOiAxLjAsICJyYWRpdXMiOiA1LCAic3Ryb2tlIjogdHJ1ZSwgIndlaWdodCI6IDN9CiAgICAgICAgICAgICkuYWRkVG8obWFwXzFmNDYxNDFjMTIzMDRiZGM4MTIwODYwNTg3Y2M4YWFhKTsKICAgICAgICAKICAgIAogICAgICAgIHZhciBwb3B1cF84YmFmMjg2MzVkNGQ0NWY2ODc5MWMzOTczNmQzMzQxZiA9IEwucG9wdXAoeyJtYXhXaWR0aCI6ICIxMDAlIn0pOwoKICAgICAgICAKICAgICAgICAgICAgdmFyIGh0bWxfZTAzNDIyM2QyMWY0NDk3YTkwYTg1MjJhY2IwOWU0YzMgPSAkKGA8ZGl2IGlkPSJodG1sX2UwMzQyMjNkMjFmNDQ5N2E5MGE4NTIyYWNiMDllNGMzIiBzdHlsZT0id2lkdGg6IDEwMC4wJTsgaGVpZ2h0OiAxMDAuMCU7Ij5Sb3VnZSwgTWFsdmVybiwgU2NhcmJvcm91Z2g8L2Rpdj5gKVswXTsKICAgICAgICAgICAgcG9wdXBfOGJhZjI4NjM1ZDRkNDVmNjg3OTFjMzk3MzZkMzM0MWYuc2V0Q29udGVudChodG1sX2UwMzQyMjNkMjFmNDQ5N2E5MGE4NTIyYWNiMDllNGMzKTsKICAgICAgICAKCiAgICAgICAgY2lyY2xlX21hcmtlcl85NjhjNmIzNzJhZDA0Mzc0OWEyZThlYTM2ZDY2ZmU5MC5iaW5kUG9wdXAocG9wdXBfOGJhZjI4NjM1ZDRkNDVmNjg3OTFjMzk3MzZkMzM0MWYpCiAgICAgICAgOwoKICAgICAgICAKICAgIAogICAgCiAgICAgICAgICAgIHZhciBjaXJjbGVfbWFya2VyX2Q2ZWE4MGZiZmZiNTRjYWI4MzY5ZjFkNjc0M2Q3OTY3ID0gTC5jaXJjbGVNYXJrZXIoCiAgICAgICAgICAgICAgICBbNDMuNzg0NTM1MSwgLTc5LjE2MDQ5NzA5OTk5OTk5XSwKICAgICAgICAgICAgICAgIHsiYnViYmxpbmdNb3VzZUV2ZW50cyI6IHRydWUsICJjb2xvciI6ICJibHVlIiwgImRhc2hBcnJheSI6IG51bGwsICJkYXNoT2Zmc2V0IjogbnVsbCwgImZpbGwiOiB0cnVlLCAiZmlsbENvbG9yIjogIiMzMTg2Y2MiLCAiZmlsbE9wYWNpdHkiOiAwLjcsICJmaWxsUnVsZSI6ICJldmVub2RkIiwgImxpbmVDYXAiOiAicm91bmQiLCAibGluZUpvaW4iOiAicm91bmQiLCAib3BhY2l0eSI6IDEuMCwgInJhZGl1cyI6IDUsICJzdHJva2UiOiB0cnVlLCAid2VpZ2h0IjogM30KICAgICAgICAgICAgKS5hZGRUbyhtYXBfMWY0NjE0MWMxMjMwNGJkYzgxMjA4NjA1ODdjYzhhYWEpOwogICAgICAgIAogICAgCiAgICAgICAgdmFyIHBvcHVwXzVjY2IxMzUyMjJjZTQ1MDViYjUzODkxOWJmNWEwOTcxID0gTC5wb3B1cCh7Im1heFdpZHRoIjogIjEwMCUifSk7CgogICAgICAgIAogICAgICAgICAgICB2YXIgaHRtbF82MTg2NDJhYzVlZDc0M2JiYmRiNTBhMzgzOGQ4ZGExNCA9ICQoYDxkaXYgaWQ9Imh0bWxfNjE4NjQyYWM1ZWQ3NDNiYmJkYjUwYTM4MzhkOGRhMTQiIHN0eWxlPSJ3aWR0aDogMTAwLjAlOyBoZWlnaHQ6IDEwMC4wJTsiPkhpZ2hsYW5kIENyZWVrLCBSb3VnZSBIaWxsLCBQb3J0IFVuaW9uLCBTY2FyYm9yb3VnaDwvZGl2PmApWzBdOwogICAgICAgICAgICBwb3B1cF81Y2NiMTM1MjIyY2U0NTA1YmI1Mzg5MTliZjVhMDk3MS5zZXRDb250ZW50KGh0bWxfNjE4NjQyYWM1ZWQ3NDNiYmJkYjUwYTM4MzhkOGRhMTQpOwogICAgICAgIAoKICAgICAgICBjaXJjbGVfbWFya2VyX2Q2ZWE4MGZiZmZiNTRjYWI4MzY5ZjFkNjc0M2Q3OTY3LmJpbmRQb3B1cChwb3B1cF81Y2NiMTM1MjIyY2U0NTA1YmI1Mzg5MTliZjVhMDk3MSkKICAgICAgICA7CgogICAgICAgIAogICAgCiAgICAKICAgICAgICAgICAgdmFyIGNpcmNsZV9tYXJrZXJfZmVhOTdmNjhhMDI1NGY2Y2EwYjMxMzc0ZTFhZTQzODYgPSBMLmNpcmNsZU1hcmtlcigKICAgICAgICAgICAgICAgIFs0My43NjM1NzI2LCAtNzkuMTg4NzExNV0sCiAgICAgICAgICAgICAgICB7ImJ1YmJsaW5nTW91c2VFdmVudHMiOiB0cnVlLCAiY29sb3IiOiAiYmx1ZSIsICJkYXNoQXJyYXkiOiBudWxsLCAiZGFzaE9mZnNldCI6IG51bGwsICJmaWxsIjogdHJ1ZSwgImZpbGxDb2xvciI6ICIjMzE4NmNjIiwgImZpbGxPcGFjaXR5IjogMC43LCAiZmlsbFJ1bGUiOiAiZXZlbm9kZCIsICJsaW5lQ2FwIjogInJvdW5kIiwgImxpbmVKb2luIjogInJvdW5kIiwgIm9wYWNpdHkiOiAxLjAsICJyYWRpdXMiOiA1LCAic3Ryb2tlIjogdHJ1ZSwgIndlaWdodCI6IDN9CiAgICAgICAgICAgICkuYWRkVG8obWFwXzFmNDYxNDFjMTIzMDRiZGM4MTIwODYwNTg3Y2M4YWFhKTsKICAgICAgICAKICAgIAogICAgICAgIHZhciBwb3B1cF84MzNiZmRiYTU3OTI0YTMyYmQyODkzZjBjZmJhMzNlZCA9IEwucG9wdXAoeyJtYXhXaWR0aCI6ICIxMDAlIn0pOwoKICAgICAgICAKICAgICAgICAgICAgdmFyIGh0bWxfNGY1NzY3YTA4MGNiNDM0Mzk4ZjdkMzMxNDQ3ZTk1MzIgPSAkKGA8ZGl2IGlkPSJodG1sXzRmNTc2N2EwODBjYjQzNDM5OGY3ZDMzMTQ0N2U5NTMyIiBzdHlsZT0id2lkdGg6IDEwMC4wJTsgaGVpZ2h0OiAxMDAuMCU7Ij5HdWlsZHdvb2QsIE1vcm5pbmdzaWRlLCBXZXN0IEhpbGwsIFNjYXJib3JvdWdoPC9kaXY+YClbMF07CiAgICAgICAgICAgIHBvcHVwXzgzM2JmZGJhNTc5MjRhMzJiZDI4OTNmMGNmYmEzM2VkLnNldENvbnRlbnQoaHRtbF80ZjU3NjdhMDgwY2I0MzQzOThmN2QzMzE0NDdlOTUzMik7CiAgICAgICAgCgogICAgICAgIGNpcmNsZV9tYXJrZXJfZmVhOTdmNjhhMDI1NGY2Y2EwYjMxMzc0ZTFhZTQzODYuYmluZFBvcHVwKHBvcHVwXzgzM2JmZGJhNTc5MjRhMzJiZDI4OTNmMGNmYmEzM2VkKQogICAgICAgIDsKCiAgICAgICAgCiAgICAKICAgIAogICAgICAgICAgICB2YXIgY2lyY2xlX21hcmtlcl83YWY1ZTZkNzAwYzM0ODUxYmFlOGJkYzZiMjQ3NGUzOCA9IEwuY2lyY2xlTWFya2VyKAogICAgICAgICAgICAgICAgWzQzLjc3MDk5MjEsIC03OS4yMTY5MTc0MDAwMDAwMV0sCiAgICAgICAgICAgICAgICB7ImJ1YmJsaW5nTW91c2VFdmVudHMiOiB0cnVlLCAiY29sb3IiOiAiYmx1ZSIsICJkYXNoQXJyYXkiOiBudWxsLCAiZGFzaE9mZnNldCI6IG51bGwsICJmaWxsIjogdHJ1ZSwgImZpbGxDb2xvciI6ICIjMzE4NmNjIiwgImZpbGxPcGFjaXR5IjogMC43LCAiZmlsbFJ1bGUiOiAiZXZlbm9kZCIsICJsaW5lQ2FwIjogInJvdW5kIiwgImxpbmVKb2luIjogInJvdW5kIiwgIm9wYWNpdHkiOiAxLjAsICJyYWRpdXMiOiA1LCAic3Ryb2tlIjogdHJ1ZSwgIndlaWdodCI6IDN9CiAgICAgICAgICAgICkuYWRkVG8obWFwXzFmNDYxNDFjMTIzMDRiZGM4MTIwODYwNTg3Y2M4YWFhKTsKICAgICAgICAKICAgIAogICAgICAgIHZhciBwb3B1cF81YmU4ZTJkNDZlMDI0MjlkYWNiMWFmODk3Y2E5MzhlYyA9IEwucG9wdXAoeyJtYXhXaWR0aCI6ICIxMDAlIn0pOwoKICAgICAgICAKICAgICAgICAgICAgdmFyIGh0bWxfY2I0MjA5N2JmOWIyNDUyMjkxOWUwZjE5ZDA4NjYxYmIgPSAkKGA8ZGl2IGlkPSJodG1sX2NiNDIwOTdiZjliMjQ1MjI5MTllMGYxOWQwODY2MWJiIiBzdHlsZT0id2lkdGg6IDEwMC4wJTsgaGVpZ2h0OiAxMDAuMCU7Ij5Xb2J1cm4sIFNjYXJib3JvdWdoPC9kaXY+YClbMF07CiAgICAgICAgICAgIHBvcHVwXzViZThlMmQ0NmUwMjQyOWRhY2IxYWY4OTdjYTkzOGVjLnNldENvbnRlbnQoaHRtbF9jYjQyMDk3YmY5YjI0NTIyOTE5ZTBmMTlkMDg2NjFiYik7CiAgICAgICAgCgogICAgICAgIGNpcmNsZV9tYXJrZXJfN2FmNWU2ZDcwMGMzNDg1MWJhZThiZGM2YjI0NzRlMzguYmluZFBvcHVwKHBvcHVwXzViZThlMmQ0NmUwMjQyOWRhY2IxYWY4OTdjYTkzOGVjKQogICAgICAgIDsKCiAgICAgICAgCiAgICAKICAgIAogICAgICAgICAgICB2YXIgY2lyY2xlX21hcmtlcl9lOGNjZjVkMjUyZTM0ODgxOWMzN2Y4NjIwZTU5ZmZkYyA9IEwuY2lyY2xlTWFya2VyKAogICAgICAgICAgICAgICAgWzQzLjc3MzEzNiwgLTc5LjIzOTQ3NjA5OTk5OTk5XSwKICAgICAgICAgICAgICAgIHsiYnViYmxpbmdNb3VzZUV2ZW50cyI6IHRydWUsICJjb2xvciI6ICJibHVlIiwgImRhc2hBcnJheSI6IG51bGwsICJkYXNoT2Zmc2V0IjogbnVsbCwgImZpbGwiOiB0cnVlLCAiZmlsbENvbG9yIjogIiMzMTg2Y2MiLCAiZmlsbE9wYWNpdHkiOiAwLjcsICJmaWxsUnVsZSI6ICJldmVub2RkIiwgImxpbmVDYXAiOiAicm91bmQiLCAibGluZUpvaW4iOiAicm91bmQiLCAib3BhY2l0eSI6IDEuMCwgInJhZGl1cyI6IDUsICJzdHJva2UiOiB0cnVlLCAid2VpZ2h0IjogM30KICAgICAgICAgICAgKS5hZGRUbyhtYXBfMWY0NjE0MWMxMjMwNGJkYzgxMjA4NjA1ODdjYzhhYWEpOwogICAgICAgIAogICAgCiAgICAgICAgdmFyIHBvcHVwXzcyMjE5NDI1ZTRmOTRmYTY5MjE2MjViOTU1ZGVkMjk2ID0gTC5wb3B1cCh7Im1heFdpZHRoIjogIjEwMCUifSk7CgogICAgICAgIAogICAgICAgICAgICB2YXIgaHRtbF80ZWE2MDNjNmE1YTU0MzY5YjIwMTUzZjMwNTE4NGMyNiA9ICQoYDxkaXYgaWQ9Imh0bWxfNGVhNjAzYzZhNWE1NDM2OWIyMDE1M2YzMDUxODRjMjYiIHN0eWxlPSJ3aWR0aDogMTAwLjAlOyBoZWlnaHQ6IDEwMC4wJTsiPkNlZGFyYnJhZSwgU2NhcmJvcm91Z2g8L2Rpdj5gKVswXTsKICAgICAgICAgICAgcG9wdXBfNzIyMTk0MjVlNGY5NGZhNjkyMTYyNWI5NTVkZWQyOTYuc2V0Q29udGVudChodG1sXzRlYTYwM2M2YTVhNTQzNjliMjAxNTNmMzA1MTg0YzI2KTsKICAgICAgICAKCiAgICAgICAgY2lyY2xlX21hcmtlcl9lOGNjZjVkMjUyZTM0ODgxOWMzN2Y4NjIwZTU5ZmZkYy5iaW5kUG9wdXAocG9wdXBfNzIyMTk0MjVlNGY5NGZhNjkyMTYyNWI5NTVkZWQyOTYpCiAgICAgICAgOwoKICAgICAgICAKICAgIAogICAgCiAgICAgICAgICAgIHZhciBjaXJjbGVfbWFya2VyXzRmYjUwY2MyNDFlMzQyZTliMmJkOTliNDIwOTZhYmI3ID0gTC5jaXJjbGVNYXJrZXIoCiAgICAgICAgICAgICAgICBbNDMuNzQ0NzM0MiwgLTc5LjIzOTQ3NjA5OTk5OTk5XSwKICAgICAgICAgICAgICAgIHsiYnViYmxpbmdNb3VzZUV2ZW50cyI6IHRydWUsICJjb2xvciI6ICJibHVlIiwgImRhc2hBcnJheSI6IG51bGwsICJkYXNoT2Zmc2V0IjogbnVsbCwgImZpbGwiOiB0cnVlLCAiZmlsbENvbG9yIjogIiMzMTg2Y2MiLCAiZmlsbE9wYWNpdHkiOiAwLjcsICJmaWxsUnVsZSI6ICJldmVub2RkIiwgImxpbmVDYXAiOiAicm91bmQiLCAibGluZUpvaW4iOiAicm91bmQiLCAib3BhY2l0eSI6IDEuMCwgInJhZGl1cyI6IDUsICJzdHJva2UiOiB0cnVlLCAid2VpZ2h0IjogM30KICAgICAgICAgICAgKS5hZGRUbyhtYXBfMWY0NjE0MWMxMjMwNGJkYzgxMjA4NjA1ODdjYzhhYWEpOwogICAgICAgIAogICAgCiAgICAgICAgdmFyIHBvcHVwXzY4YWZkNTQ2ZTFmOTQ5MGRiNjUzMTkzYmYyNjk4ZmI4ID0gTC5wb3B1cCh7Im1heFdpZHRoIjogIjEwMCUifSk7CgogICAgICAgIAogICAgICAgICAgICB2YXIgaHRtbF9lZDdmM2M3ZjUxMjI0OTYzOTdhODA3ODBlOGQwYTdkNSA9ICQoYDxkaXYgaWQ9Imh0bWxfZWQ3ZjNjN2Y1MTIyNDk2Mzk3YTgwNzgwZThkMGE3ZDUiIHN0eWxlPSJ3aWR0aDogMTAwLjAlOyBoZWlnaHQ6IDEwMC4wJTsiPlNjYXJib3JvdWdoIFZpbGxhZ2UsIFNjYXJib3JvdWdoPC9kaXY+YClbMF07CiAgICAgICAgICAgIHBvcHVwXzY4YWZkNTQ2ZTFmOTQ5MGRiNjUzMTkzYmYyNjk4ZmI4LnNldENvbnRlbnQoaHRtbF9lZDdmM2M3ZjUxMjI0OTYzOTdhODA3ODBlOGQwYTdkNSk7CiAgICAgICAgCgogICAgICAgIGNpcmNsZV9tYXJrZXJfNGZiNTBjYzI0MWUzNDJlOWIyYmQ5OWI0MjA5NmFiYjcuYmluZFBvcHVwKHBvcHVwXzY4YWZkNTQ2ZTFmOTQ5MGRiNjUzMTkzYmYyNjk4ZmI4KQogICAgICAgIDsKCiAgICAgICAgCiAgICAKICAgIAogICAgICAgICAgICB2YXIgY2lyY2xlX21hcmtlcl9kZmM1YjI3OWIwNDg0MzljODQyOTUwMmQwODRiZjU3OSA9IEwuY2lyY2xlTWFya2VyKAogICAgICAgICAgICAgICAgWzQzLjcyNzkyOTIsIC03OS4yNjIwMjk0MDAwMDAwMl0sCiAgICAgICAgICAgICAgICB7ImJ1YmJsaW5nTW91c2VFdmVudHMiOiB0cnVlLCAiY29sb3IiOiAiYmx1ZSIsICJkYXNoQXJyYXkiOiBudWxsLCAiZGFzaE9mZnNldCI6IG51bGwsICJmaWxsIjogdHJ1ZSwgImZpbGxDb2xvciI6ICIjMzE4NmNjIiwgImZpbGxPcGFjaXR5IjogMC43LCAiZmlsbFJ1bGUiOiAiZXZlbm9kZCIsICJsaW5lQ2FwIjogInJvdW5kIiwgImxpbmVKb2luIjogInJvdW5kIiwgIm9wYWNpdHkiOiAxLjAsICJyYWRpdXMiOiA1LCAic3Ryb2tlIjogdHJ1ZSwgIndlaWdodCI6IDN9CiAgICAgICAgICAgICkuYWRkVG8obWFwXzFmNDYxNDFjMTIzMDRiZGM4MTIwODYwNTg3Y2M4YWFhKTsKICAgICAgICAKICAgIAogICAgICAgIHZhciBwb3B1cF85MTdkY2ZiOTMyZjQ0MDdkOTQ1NjlhYTE2MmJhODVkMSA9IEwucG9wdXAoeyJtYXhXaWR0aCI6ICIxMDAlIn0pOwoKICAgICAgICAKICAgICAgICAgICAgdmFyIGh0bWxfZTU5OWYwYTAyMmUwNGZjYmE3MjFiNTRmYWFiMGMyNGUgPSAkKGA8ZGl2IGlkPSJodG1sX2U1OTlmMGEwMjJlMDRmY2JhNzIxYjU0ZmFhYjBjMjRlIiBzdHlsZT0id2lkdGg6IDEwMC4wJTsgaGVpZ2h0OiAxMDAuMCU7Ij5FYXN0IEJpcmNobW91bnQgUGFyaywgSW9udmlldywgS2VubmVkeSBQYXJrLCBTY2FyYm9yb3VnaDwvZGl2PmApWzBdOwogICAgICAgICAgICBwb3B1cF85MTdkY2ZiOTMyZjQ0MDdkOTQ1NjlhYTE2MmJhODVkMS5zZXRDb250ZW50KGh0bWxfZTU5OWYwYTAyMmUwNGZjYmE3MjFiNTRmYWFiMGMyNGUpOwogICAgICAgIAoKICAgICAgICBjaXJjbGVfbWFya2VyX2RmYzViMjc5YjA0ODQzOWM4NDI5NTAyZDA4NGJmNTc5LmJpbmRQb3B1cChwb3B1cF85MTdkY2ZiOTMyZjQ0MDdkOTQ1NjlhYTE2MmJhODVkMSkKICAgICAgICA7CgogICAgICAgIAogICAgCiAgICAKICAgICAgICAgICAgdmFyIGNpcmNsZV9tYXJrZXJfZDAzMzM0ZGRhNGU1NDc0ZTk1Yzg2YTM2MWFhOGQ1ZTEgPSBMLmNpcmNsZU1hcmtlcigKICAgICAgICAgICAgICAgIFs0My43MTExMTE3MDAwMDAwMDQsIC03OS4yODQ1NzcyXSwKICAgICAgICAgICAgICAgIHsiYnViYmxpbmdNb3VzZUV2ZW50cyI6IHRydWUsICJjb2xvciI6ICJibHVlIiwgImRhc2hBcnJheSI6IG51bGwsICJkYXNoT2Zmc2V0IjogbnVsbCwgImZpbGwiOiB0cnVlLCAiZmlsbENvbG9yIjogIiMzMTg2Y2MiLCAiZmlsbE9wYWNpdHkiOiAwLjcsICJmaWxsUnVsZSI6ICJldmVub2RkIiwgImxpbmVDYXAiOiAicm91bmQiLCAibGluZUpvaW4iOiAicm91bmQiLCAib3BhY2l0eSI6IDEuMCwgInJhZGl1cyI6IDUsICJzdHJva2UiOiB0cnVlLCAid2VpZ2h0IjogM30KICAgICAgICAgICAgKS5hZGRUbyhtYXBfMWY0NjE0MWMxMjMwNGJkYzgxMjA4NjA1ODdjYzhhYWEpOwogICAgICAgIAogICAgCiAgICAgICAgdmFyIHBvcHVwX2NiNzAxYjY1OTljMzRmZWY4M2E3NDI0YWQ4ZTBlMDU4ID0gTC5wb3B1cCh7Im1heFdpZHRoIjogIjEwMCUifSk7CgogICAgICAgIAogICAgICAgICAgICB2YXIgaHRtbF83MWQ0ZDEzNDhkMWY0ZmU2YmRhZmEwNTRkMGViNThmZSA9ICQoYDxkaXYgaWQ9Imh0bWxfNzFkNGQxMzQ4ZDFmNGZlNmJkYWZhMDU0ZDBlYjU4ZmUiIHN0eWxlPSJ3aWR0aDogMTAwLjAlOyBoZWlnaHQ6IDEwMC4wJTsiPkNsYWlybGVhLCBHb2xkZW4gTWlsZSwgT2FrcmlkZ2UsIFNjYXJib3JvdWdoPC9kaXY+YClbMF07CiAgICAgICAgICAgIHBvcHVwX2NiNzAxYjY1OTljMzRmZWY4M2E3NDI0YWQ4ZTBlMDU4LnNldENvbnRlbnQoaHRtbF83MWQ0ZDEzNDhkMWY0ZmU2YmRhZmEwNTRkMGViNThmZSk7CiAgICAgICAgCgogICAgICAgIGNpcmNsZV9tYXJrZXJfZDAzMzM0ZGRhNGU1NDc0ZTk1Yzg2YTM2MWFhOGQ1ZTEuYmluZFBvcHVwKHBvcHVwX2NiNzAxYjY1OTljMzRmZWY4M2E3NDI0YWQ4ZTBlMDU4KQogICAgICAgIDsKCiAgICAgICAgCiAgICAKICAgIAogICAgICAgICAgICB2YXIgY2lyY2xlX21hcmtlcl82YWMyMThmNTI4YTc0YTVlODgzNDExZGM0MDAxNWQyZSA9IEwuY2lyY2xlTWFya2VyKAogICAgICAgICAgICAgICAgWzQzLjcxNjMxNiwgLTc5LjIzOTQ3NjA5OTk5OTk5XSwKICAgICAgICAgICAgICAgIHsiYnViYmxpbmdNb3VzZUV2ZW50cyI6IHRydWUsICJjb2xvciI6ICJibHVlIiwgImRhc2hBcnJheSI6IG51bGwsICJkYXNoT2Zmc2V0IjogbnVsbCwgImZpbGwiOiB0cnVlLCAiZmlsbENvbG9yIjogIiMzMTg2Y2MiLCAiZmlsbE9wYWNpdHkiOiAwLjcsICJmaWxsUnVsZSI6ICJldmVub2RkIiwgImxpbmVDYXAiOiAicm91bmQiLCAibGluZUpvaW4iOiAicm91bmQiLCAib3BhY2l0eSI6IDEuMCwgInJhZGl1cyI6IDUsICJzdHJva2UiOiB0cnVlLCAid2VpZ2h0IjogM30KICAgICAgICAgICAgKS5hZGRUbyhtYXBfMWY0NjE0MWMxMjMwNGJkYzgxMjA4NjA1ODdjYzhhYWEpOwogICAgICAgIAogICAgCiAgICAgICAgdmFyIHBvcHVwXzdiYjVlYWZmZDFhNDRiMTU5Y2I2MDZhNzYyMTJjYTYwID0gTC5wb3B1cCh7Im1heFdpZHRoIjogIjEwMCUifSk7CgogICAgICAgIAogICAgICAgICAgICB2YXIgaHRtbF8xZTg1ZDk0YmQ0MmM0OTI5ODNlOTM1MmZmOTQ5ZTVmOSA9ICQoYDxkaXYgaWQ9Imh0bWxfMWU4NWQ5NGJkNDJjNDkyOTgzZTkzNTJmZjk0OWU1ZjkiIHN0eWxlPSJ3aWR0aDogMTAwLjAlOyBoZWlnaHQ6IDEwMC4wJTsiPkNsaWZmY3Jlc3QsIENsaWZmc2lkZSwgU2NhcmJvcm91Z2ggVmlsbGFnZSBXZXN0LCBTY2FyYm9yb3VnaDwvZGl2PmApWzBdOwogICAgICAgICAgICBwb3B1cF83YmI1ZWFmZmQxYTQ0YjE1OWNiNjA2YTc2MjEyY2E2MC5zZXRDb250ZW50KGh0bWxfMWU4NWQ5NGJkNDJjNDkyOTgzZTkzNTJmZjk0OWU1ZjkpOwogICAgICAgIAoKICAgICAgICBjaXJjbGVfbWFya2VyXzZhYzIxOGY1MjhhNzRhNWU4ODM0MTFkYzQwMDE1ZDJlLmJpbmRQb3B1cChwb3B1cF83YmI1ZWFmZmQxYTQ0YjE1OWNiNjA2YTc2MjEyY2E2MCkKICAgICAgICA7CgogICAgICAgIAogICAgCiAgICAKICAgICAgICAgICAgdmFyIGNpcmNsZV9tYXJrZXJfODc1MjZjYWY3ZjM4NDM1NDgzNzFlZWIzMWMwNzdmOWUgPSBMLmNpcmNsZU1hcmtlcigKICAgICAgICAgICAgICAgIFs0My42OTI2NTcwMDAwMDAwMDQsIC03OS4yNjQ4NDgxXSwKICAgICAgICAgICAgICAgIHsiYnViYmxpbmdNb3VzZUV2ZW50cyI6IHRydWUsICJjb2xvciI6ICJibHVlIiwgImRhc2hBcnJheSI6IG51bGwsICJkYXNoT2Zmc2V0IjogbnVsbCwgImZpbGwiOiB0cnVlLCAiZmlsbENvbG9yIjogIiMzMTg2Y2MiLCAiZmlsbE9wYWNpdHkiOiAwLjcsICJmaWxsUnVsZSI6ICJldmVub2RkIiwgImxpbmVDYXAiOiAicm91bmQiLCAibGluZUpvaW4iOiAicm91bmQiLCAib3BhY2l0eSI6IDEuMCwgInJhZGl1cyI6IDUsICJzdHJva2UiOiB0cnVlLCAid2VpZ2h0IjogM30KICAgICAgICAgICAgKS5hZGRUbyhtYXBfMWY0NjE0MWMxMjMwNGJkYzgxMjA4NjA1ODdjYzhhYWEpOwogICAgICAgIAogICAgCiAgICAgICAgdmFyIHBvcHVwXzUzOTE4MGZhYzU3ZTQ1YzM4ODUzYzJjZGE5NGI1N2JkID0gTC5wb3B1cCh7Im1heFdpZHRoIjogIjEwMCUifSk7CgogICAgICAgIAogICAgICAgICAgICB2YXIgaHRtbF8yYjQ4MTViY2QyMmQ0NmVkYTM3ODMxYjI2YWYxODIxMSA9ICQoYDxkaXYgaWQ9Imh0bWxfMmI0ODE1YmNkMjJkNDZlZGEzNzgzMWIyNmFmMTgyMTEiIHN0eWxlPSJ3aWR0aDogMTAwLjAlOyBoZWlnaHQ6IDEwMC4wJTsiPkJpcmNoIENsaWZmLCBDbGlmZnNpZGUgV2VzdCwgU2NhcmJvcm91Z2g8L2Rpdj5gKVswXTsKICAgICAgICAgICAgcG9wdXBfNTM5MTgwZmFjNTdlNDVjMzg4NTNjMmNkYTk0YjU3YmQuc2V0Q29udGVudChodG1sXzJiNDgxNWJjZDIyZDQ2ZWRhMzc4MzFiMjZhZjE4MjExKTsKICAgICAgICAKCiAgICAgICAgY2lyY2xlX21hcmtlcl84NzUyNmNhZjdmMzg0MzU0ODM3MWVlYjMxYzA3N2Y5ZS5iaW5kUG9wdXAocG9wdXBfNTM5MTgwZmFjNTdlNDVjMzg4NTNjMmNkYTk0YjU3YmQpCiAgICAgICAgOwoKICAgICAgICAKICAgIAogICAgCiAgICAgICAgICAgIHZhciBjaXJjbGVfbWFya2VyXzg1MjlkNDNkOTM3NDQxNGI5YmUzZWVhMTc2NmRjN2NmID0gTC5jaXJjbGVNYXJrZXIoCiAgICAgICAgICAgICAgICBbNDMuNzU3NDA5NiwgLTc5LjI3MzMwNDAwMDAwMDAxXSwKICAgICAgICAgICAgICAgIHsiYnViYmxpbmdNb3VzZUV2ZW50cyI6IHRydWUsICJjb2xvciI6ICJibHVlIiwgImRhc2hBcnJheSI6IG51bGwsICJkYXNoT2Zmc2V0IjogbnVsbCwgImZpbGwiOiB0cnVlLCAiZmlsbENvbG9yIjogIiMzMTg2Y2MiLCAiZmlsbE9wYWNpdHkiOiAwLjcsICJmaWxsUnVsZSI6ICJldmVub2RkIiwgImxpbmVDYXAiOiAicm91bmQiLCAibGluZUpvaW4iOiAicm91bmQiLCAib3BhY2l0eSI6IDEuMCwgInJhZGl1cyI6IDUsICJzdHJva2UiOiB0cnVlLCAid2VpZ2h0IjogM30KICAgICAgICAgICAgKS5hZGRUbyhtYXBfMWY0NjE0MWMxMjMwNGJkYzgxMjA4NjA1ODdjYzhhYWEpOwogICAgICAgIAogICAgCiAgICAgICAgdmFyIHBvcHVwXzUzYmZlYTA1MDliOTRmODM4ZmYyMDNjODIxOTZjZThmID0gTC5wb3B1cCh7Im1heFdpZHRoIjogIjEwMCUifSk7CgogICAgICAgIAogICAgICAgICAgICB2YXIgaHRtbF9jZTE3MTRhMGU3NDU0MDljODg3NzcwNDg1NjA3N2Q2OCA9ICQoYDxkaXYgaWQ9Imh0bWxfY2UxNzE0YTBlNzQ1NDA5Yzg4Nzc3MDQ4NTYwNzdkNjgiIHN0eWxlPSJ3aWR0aDogMTAwLjAlOyBoZWlnaHQ6IDEwMC4wJTsiPkRvcnNldCBQYXJrLCBTY2FyYm9yb3VnaCBUb3duIENlbnRyZSwgV2V4Zm9yZCBIZWlnaHRzLCBTY2FyYm9yb3VnaDwvZGl2PmApWzBdOwogICAgICAgICAgICBwb3B1cF81M2JmZWEwNTA5Yjk0ZjgzOGZmMjAzYzgyMTk2Y2U4Zi5zZXRDb250ZW50KGh0bWxfY2UxNzE0YTBlNzQ1NDA5Yzg4Nzc3MDQ4NTYwNzdkNjgpOwogICAgICAgIAoKICAgICAgICBjaXJjbGVfbWFya2VyXzg1MjlkNDNkOTM3NDQxNGI5YmUzZWVhMTc2NmRjN2NmLmJpbmRQb3B1cChwb3B1cF81M2JmZWEwNTA5Yjk0ZjgzOGZmMjAzYzgyMTk2Y2U4ZikKICAgICAgICA7CgogICAgICAgIAogICAgCiAgICAKICAgICAgICAgICAgdmFyIGNpcmNsZV9tYXJrZXJfZGYwNjM0MTk3NDRlNDkzOWIwZTNhNDI5MmQxNmM1ZGYgPSBMLmNpcmNsZU1hcmtlcigKICAgICAgICAgICAgICAgIFs0My43NTAwNzE1MDAwMDAwMDQsIC03OS4yOTU4NDkxXSwKICAgICAgICAgICAgICAgIHsiYnViYmxpbmdNb3VzZUV2ZW50cyI6IHRydWUsICJjb2xvciI6ICJibHVlIiwgImRhc2hBcnJheSI6IG51bGwsICJkYXNoT2Zmc2V0IjogbnVsbCwgImZpbGwiOiB0cnVlLCAiZmlsbENvbG9yIjogIiMzMTg2Y2MiLCAiZmlsbE9wYWNpdHkiOiAwLjcsICJmaWxsUnVsZSI6ICJldmVub2RkIiwgImxpbmVDYXAiOiAicm91bmQiLCAibGluZUpvaW4iOiAicm91bmQiLCAib3BhY2l0eSI6IDEuMCwgInJhZGl1cyI6IDUsICJzdHJva2UiOiB0cnVlLCAid2VpZ2h0IjogM30KICAgICAgICAgICAgKS5hZGRUbyhtYXBfMWY0NjE0MWMxMjMwNGJkYzgxMjA4NjA1ODdjYzhhYWEpOwogICAgICAgIAogICAgCiAgICAgICAgdmFyIHBvcHVwXzlmODU0NDI4Yzg2YjQ4MjU5NmIwZjc2ODllYTE0ODA0ID0gTC5wb3B1cCh7Im1heFdpZHRoIjogIjEwMCUifSk7CgogICAgICAgIAogICAgICAgICAgICB2YXIgaHRtbF9mYjI1Y2NmYjQ2N2M0YTM4YmE1M2JkNzU1YjExMGM5MCA9ICQoYDxkaXYgaWQ9Imh0bWxfZmIyNWNjZmI0NjdjNGEzOGJhNTNiZDc1NWIxMTBjOTAiIHN0eWxlPSJ3aWR0aDogMTAwLjAlOyBoZWlnaHQ6IDEwMC4wJTsiPk1hcnl2YWxlLCBXZXhmb3JkLCBTY2FyYm9yb3VnaDwvZGl2PmApWzBdOwogICAgICAgICAgICBwb3B1cF85Zjg1NDQyOGM4NmI0ODI1OTZiMGY3Njg5ZWExNDgwNC5zZXRDb250ZW50KGh0bWxfZmIyNWNjZmI0NjdjNGEzOGJhNTNiZDc1NWIxMTBjOTApOwogICAgICAgIAoKICAgICAgICBjaXJjbGVfbWFya2VyX2RmMDYzNDE5NzQ0ZTQ5MzliMGUzYTQyOTJkMTZjNWRmLmJpbmRQb3B1cChwb3B1cF85Zjg1NDQyOGM4NmI0ODI1OTZiMGY3Njg5ZWExNDgwNCkKICAgICAgICA7CgogICAgICAgIAogICAgCiAgICAKICAgICAgICAgICAgdmFyIGNpcmNsZV9tYXJrZXJfNGVmZDZmYmE1YzVkNDU4NTgyYjRmMzAzNzdlYjQzYzcgPSBMLmNpcmNsZU1hcmtlcigKICAgICAgICAgICAgICAgIFs0My43OTQyMDAzLCAtNzkuMjYyMDI5NDAwMDAwMDJdLAogICAgICAgICAgICAgICAgeyJidWJibGluZ01vdXNlRXZlbnRzIjogdHJ1ZSwgImNvbG9yIjogImJsdWUiLCAiZGFzaEFycmF5IjogbnVsbCwgImRhc2hPZmZzZXQiOiBudWxsLCAiZmlsbCI6IHRydWUsICJmaWxsQ29sb3IiOiAiIzMxODZjYyIsICJmaWxsT3BhY2l0eSI6IDAuNywgImZpbGxSdWxlIjogImV2ZW5vZGQiLCAibGluZUNhcCI6ICJyb3VuZCIsICJsaW5lSm9pbiI6ICJyb3VuZCIsICJvcGFjaXR5IjogMS4wLCAicmFkaXVzIjogNSwgInN0cm9rZSI6IHRydWUsICJ3ZWlnaHQiOiAzfQogICAgICAgICAgICApLmFkZFRvKG1hcF8xZjQ2MTQxYzEyMzA0YmRjODEyMDg2MDU4N2NjOGFhYSk7CiAgICAgICAgCiAgICAKICAgICAgICB2YXIgcG9wdXBfZWYwYzgzZmJkNjAxNGExNjhjNzcyYzM4YjEzNDM1ZGMgPSBMLnBvcHVwKHsibWF4V2lkdGgiOiAiMTAwJSJ9KTsKCiAgICAgICAgCiAgICAgICAgICAgIHZhciBodG1sX2Y4OTViODU2ODRhNTQ3MmFiY2Q1YmFmMGEyZWVkZGYyID0gJChgPGRpdiBpZD0iaHRtbF9mODk1Yjg1Njg0YTU0NzJhYmNkNWJhZjBhMmVlZGRmMiIgc3R5bGU9IndpZHRoOiAxMDAuMCU7IGhlaWdodDogMTAwLjAlOyI+QWdpbmNvdXJ0LCBTY2FyYm9yb3VnaDwvZGl2PmApWzBdOwogICAgICAgICAgICBwb3B1cF9lZjBjODNmYmQ2MDE0YTE2OGM3NzJjMzhiMTM0MzVkYy5zZXRDb250ZW50KGh0bWxfZjg5NWI4NTY4NGE1NDcyYWJjZDViYWYwYTJlZWRkZjIpOwogICAgICAgIAoKICAgICAgICBjaXJjbGVfbWFya2VyXzRlZmQ2ZmJhNWM1ZDQ1ODU4MmI0ZjMwMzc3ZWI0M2M3LmJpbmRQb3B1cChwb3B1cF9lZjBjODNmYmQ2MDE0YTE2OGM3NzJjMzhiMTM0MzVkYykKICAgICAgICA7CgogICAgICAgIAogICAgCiAgICAKICAgICAgICAgICAgdmFyIGNpcmNsZV9tYXJrZXJfMGVhM2U4NDlmMDViNDcwMTkyZmRlNzMwNDVlOTU1OTkgPSBMLmNpcmNsZU1hcmtlcigKICAgICAgICAgICAgICAgIFs0My43ODE2Mzc1LCAtNzkuMzA0MzAyMV0sCiAgICAgICAgICAgICAgICB7ImJ1YmJsaW5nTW91c2VFdmVudHMiOiB0cnVlLCAiY29sb3IiOiAiYmx1ZSIsICJkYXNoQXJyYXkiOiBudWxsLCAiZGFzaE9mZnNldCI6IG51bGwsICJmaWxsIjogdHJ1ZSwgImZpbGxDb2xvciI6ICIjMzE4NmNjIiwgImZpbGxPcGFjaXR5IjogMC43LCAiZmlsbFJ1bGUiOiAiZXZlbm9kZCIsICJsaW5lQ2FwIjogInJvdW5kIiwgImxpbmVKb2luIjogInJvdW5kIiwgIm9wYWNpdHkiOiAxLjAsICJyYWRpdXMiOiA1LCAic3Ryb2tlIjogdHJ1ZSwgIndlaWdodCI6IDN9CiAgICAgICAgICAgICkuYWRkVG8obWFwXzFmNDYxNDFjMTIzMDRiZGM4MTIwODYwNTg3Y2M4YWFhKTsKICAgICAgICAKICAgIAogICAgICAgIHZhciBwb3B1cF9mMzIzMjA1OTFjODI0MDJhYThkNThlYTMwZjI0M2UxNyA9IEwucG9wdXAoeyJtYXhXaWR0aCI6ICIxMDAlIn0pOwoKICAgICAgICAKICAgICAgICAgICAgdmFyIGh0bWxfZjQxODMzODRlY2QwNDM3ZWE4NWM1MDI3NDhjOTBlZWQgPSAkKGA8ZGl2IGlkPSJodG1sX2Y0MTgzMzg0ZWNkMDQzN2VhODVjNTAyNzQ4YzkwZWVkIiBzdHlsZT0id2lkdGg6IDEwMC4wJTsgaGVpZ2h0OiAxMDAuMCU7Ij5DbGFya3MgQ29ybmVycywgU3VsbGl2YW4sIFRhbSBPJiMzOTtTaGFudGVyLCBTY2FyYm9yb3VnaDwvZGl2PmApWzBdOwogICAgICAgICAgICBwb3B1cF9mMzIzMjA1OTFjODI0MDJhYThkNThlYTMwZjI0M2UxNy5zZXRDb250ZW50KGh0bWxfZjQxODMzODRlY2QwNDM3ZWE4NWM1MDI3NDhjOTBlZWQpOwogICAgICAgIAoKICAgICAgICBjaXJjbGVfbWFya2VyXzBlYTNlODQ5ZjA1YjQ3MDE5MmZkZTczMDQ1ZTk1NTk5LmJpbmRQb3B1cChwb3B1cF9mMzIzMjA1OTFjODI0MDJhYThkNThlYTMwZjI0M2UxNykKICAgICAgICA7CgogICAgICAgIAogICAgCiAgICAKICAgICAgICAgICAgdmFyIGNpcmNsZV9tYXJrZXJfODg0Y2IyZWZhZGRlNGRkNzhmM2E3NDhhMzM3OGJjNzUgPSBMLmNpcmNsZU1hcmtlcigKICAgICAgICAgICAgICAgIFs0My44MTUyNTIyLCAtNzkuMjg0NTc3Ml0sCiAgICAgICAgICAgICAgICB7ImJ1YmJsaW5nTW91c2VFdmVudHMiOiB0cnVlLCAiY29sb3IiOiAiYmx1ZSIsICJkYXNoQXJyYXkiOiBudWxsLCAiZGFzaE9mZnNldCI6IG51bGwsICJmaWxsIjogdHJ1ZSwgImZpbGxDb2xvciI6ICIjMzE4NmNjIiwgImZpbGxPcGFjaXR5IjogMC43LCAiZmlsbFJ1bGUiOiAiZXZlbm9kZCIsICJsaW5lQ2FwIjogInJvdW5kIiwgImxpbmVKb2luIjogInJvdW5kIiwgIm9wYWNpdHkiOiAxLjAsICJyYWRpdXMiOiA1LCAic3Ryb2tlIjogdHJ1ZSwgIndlaWdodCI6IDN9CiAgICAgICAgICAgICkuYWRkVG8obWFwXzFmNDYxNDFjMTIzMDRiZGM4MTIwODYwNTg3Y2M4YWFhKTsKICAgICAgICAKICAgIAogICAgICAgIHZhciBwb3B1cF8yYTBlZmJhYjM5MjA0MTUzODQ4NjUwZjhmNjExOGEyMSA9IEwucG9wdXAoeyJtYXhXaWR0aCI6ICIxMDAlIn0pOwoKICAgICAgICAKICAgICAgICAgICAgdmFyIGh0bWxfY2FhNjJiMDNiOWJiNDM0MDkxNzllNzVkZmJjYzAwNmEgPSAkKGA8ZGl2IGlkPSJodG1sX2NhYTYyYjAzYjliYjQzNDA5MTc5ZTc1ZGZiY2MwMDZhIiBzdHlsZT0id2lkdGg6IDEwMC4wJTsgaGVpZ2h0OiAxMDAuMCU7Ij5BZ2luY291cnQgTm9ydGgsIEwmIzM5O0Ftb3JlYXV4IEVhc3QsIE1pbGxpa2VuLCBTdGVlbGVzIEVhc3QsIFNjYXJib3JvdWdoPC9kaXY+YClbMF07CiAgICAgICAgICAgIHBvcHVwXzJhMGVmYmFiMzkyMDQxNTM4NDg2NTBmOGY2MTE4YTIxLnNldENvbnRlbnQoaHRtbF9jYWE2MmIwM2I5YmI0MzQwOTE3OWU3NWRmYmNjMDA2YSk7CiAgICAgICAgCgogICAgICAgIGNpcmNsZV9tYXJrZXJfODg0Y2IyZWZhZGRlNGRkNzhmM2E3NDhhMzM3OGJjNzUuYmluZFBvcHVwKHBvcHVwXzJhMGVmYmFiMzkyMDQxNTM4NDg2NTBmOGY2MTE4YTIxKQogICAgICAgIDsKCiAgICAgICAgCiAgICAKICAgIAogICAgICAgICAgICB2YXIgY2lyY2xlX21hcmtlcl8zZGFkMmViNGQ4MTc0ZmU3OWJmYjAxNTcwZjU5ZjJmYyA9IEwuY2lyY2xlTWFya2VyKAogICAgICAgICAgICAgICAgWzQzLjc5OTUyNTIwMDAwMDAwNSwgLTc5LjMxODM4ODddLAogICAgICAgICAgICAgICAgeyJidWJibGluZ01vdXNlRXZlbnRzIjogdHJ1ZSwgImNvbG9yIjogImJsdWUiLCAiZGFzaEFycmF5IjogbnVsbCwgImRhc2hPZmZzZXQiOiBudWxsLCAiZmlsbCI6IHRydWUsICJmaWxsQ29sb3IiOiAiIzMxODZjYyIsICJmaWxsT3BhY2l0eSI6IDAuNywgImZpbGxSdWxlIjogImV2ZW5vZGQiLCAibGluZUNhcCI6ICJyb3VuZCIsICJsaW5lSm9pbiI6ICJyb3VuZCIsICJvcGFjaXR5IjogMS4wLCAicmFkaXVzIjogNSwgInN0cm9rZSI6IHRydWUsICJ3ZWlnaHQiOiAzfQogICAgICAgICAgICApLmFkZFRvKG1hcF8xZjQ2MTQxYzEyMzA0YmRjODEyMDg2MDU4N2NjOGFhYSk7CiAgICAgICAgCiAgICAKICAgICAgICB2YXIgcG9wdXBfNTM2NzFlMjA3ZmIyNDAxMmFkMzk0NzE1MzFhZGEzNDEgPSBMLnBvcHVwKHsibWF4V2lkdGgiOiAiMTAwJSJ9KTsKCiAgICAgICAgCiAgICAgICAgICAgIHZhciBodG1sXzRlMzg4YmJkZjU5MjQ4YzU4NTZjZjQ1N2M1YWY5MWVlID0gJChgPGRpdiBpZD0iaHRtbF80ZTM4OGJiZGY1OTI0OGM1ODU2Y2Y0NTdjNWFmOTFlZSIgc3R5bGU9IndpZHRoOiAxMDAuMCU7IGhlaWdodDogMTAwLjAlOyI+TCYjMzk7QW1vcmVhdXggV2VzdCwgU2NhcmJvcm91Z2g8L2Rpdj5gKVswXTsKICAgICAgICAgICAgcG9wdXBfNTM2NzFlMjA3ZmIyNDAxMmFkMzk0NzE1MzFhZGEzNDEuc2V0Q29udGVudChodG1sXzRlMzg4YmJkZjU5MjQ4YzU4NTZjZjQ1N2M1YWY5MWVlKTsKICAgICAgICAKCiAgICAgICAgY2lyY2xlX21hcmtlcl8zZGFkMmViNGQ4MTc0ZmU3OWJmYjAxNTcwZjU5ZjJmYy5iaW5kUG9wdXAocG9wdXBfNTM2NzFlMjA3ZmIyNDAxMmFkMzk0NzE1MzFhZGEzNDEpCiAgICAgICAgOwoKICAgICAgICAKICAgIAogICAgCiAgICAgICAgICAgIHZhciBjaXJjbGVfbWFya2VyXzViNDQ3ODkyZDE2ZjQ1NDNiNjI2NTU2N2E3YjhiYjBkID0gTC5jaXJjbGVNYXJrZXIoCiAgICAgICAgICAgICAgICBbNDMuODM2MTI0NzAwMDAwMDA2LCAtNzkuMjA1NjM2MDk5OTk5OTldLAogICAgICAgICAgICAgICAgeyJidWJibGluZ01vdXNlRXZlbnRzIjogdHJ1ZSwgImNvbG9yIjogImJsdWUiLCAiZGFzaEFycmF5IjogbnVsbCwgImRhc2hPZmZzZXQiOiBudWxsLCAiZmlsbCI6IHRydWUsICJmaWxsQ29sb3IiOiAiIzMxODZjYyIsICJmaWxsT3BhY2l0eSI6IDAuNywgImZpbGxSdWxlIjogImV2ZW5vZGQiLCAibGluZUNhcCI6ICJyb3VuZCIsICJsaW5lSm9pbiI6ICJyb3VuZCIsICJvcGFjaXR5IjogMS4wLCAicmFkaXVzIjogNSwgInN0cm9rZSI6IHRydWUsICJ3ZWlnaHQiOiAzfQogICAgICAgICAgICApLmFkZFRvKG1hcF8xZjQ2MTQxYzEyMzA0YmRjODEyMDg2MDU4N2NjOGFhYSk7CiAgICAgICAgCiAgICAKICAgICAgICB2YXIgcG9wdXBfNWQ4YjVjMjczZTJiNDFiOGEwODA0NDM4ZDkyYmVmZTIgPSBMLnBvcHVwKHsibWF4V2lkdGgiOiAiMTAwJSJ9KTsKCiAgICAgICAgCiAgICAgICAgICAgIHZhciBodG1sXzI5YTZjMTNjMmE1MjRlMGJiOWRkM2EyMmQ4ZWZmZjNmID0gJChgPGRpdiBpZD0iaHRtbF8yOWE2YzEzYzJhNTI0ZTBiYjlkZDNhMjJkOGVmZmYzZiIgc3R5bGU9IndpZHRoOiAxMDAuMCU7IGhlaWdodDogMTAwLjAlOyI+VXBwZXIgUm91Z2UsIFNjYXJib3JvdWdoPC9kaXY+YClbMF07CiAgICAgICAgICAgIHBvcHVwXzVkOGI1YzI3M2UyYjQxYjhhMDgwNDQzOGQ5MmJlZmUyLnNldENvbnRlbnQoaHRtbF8yOWE2YzEzYzJhNTI0ZTBiYjlkZDNhMjJkOGVmZmYzZik7CiAgICAgICAgCgogICAgICAgIGNpcmNsZV9tYXJrZXJfNWI0NDc4OTJkMTZmNDU0M2I2MjY1NTY3YTdiOGJiMGQuYmluZFBvcHVwKHBvcHVwXzVkOGI1YzI3M2UyYjQxYjhhMDgwNDQzOGQ5MmJlZmUyKQogICAgICAgIDsKCiAgICAgICAgCiAgICAKPC9zY3JpcHQ+\" style=\"position:absolute;width:100%;height:100%;left:0;top:0;border:none !important;\" allowfullscreen webkitallowfullscreen mozallowfullscreen></iframe></div></div>"
      ],
      "text/plain": [
       "<folium.folium.Map at 0xa764a30>"
      ]
     },
     "execution_count": 20,
     "metadata": {},
     "output_type": "execute_result"
    }
   ],
   "source": [
    "# Set Scarborough coordinate as center and use merge_df dataset for creating circle around it\n",
    "map_scarborough = folium.Map(location=[latitude, longitude], zoom_start=11)\n",
    "\n",
    "# add markers to map\n",
    "for lat, lng, borough, neighbourhood in zip(scarborough_data['Latitude'], scarborough_data['Longitude'], scarborough_data['Borough'], scarborough_data['Neighbourhood']):\n",
    "    label = '{}, {}'.format(neighbourhood, borough)\n",
    "    label = folium.Popup(label, parse_html=True)\n",
    "    folium.CircleMarker(\n",
    "        [lat, lng],\n",
    "        radius=5,\n",
    "        popup=label,\n",
    "        color='blue',\n",
    "        fill=True,\n",
    "        fill_color='#3186cc',\n",
    "        fill_opacity=0.7,\n",
    "        parse_html=False).add_to(map_scarborough)  \n",
    "\n",
    "# Add title\n",
    "title_html = '''\n",
    "             <h3 align=\"center\" style=\"font-size:20px\"><b>Neighbourhoods in Scarborough</b></h3>\n",
    "             '''\n",
    "map_scarborough.get_root().html.add_child(folium.Element(title_html))\n",
    "\n",
    "# Display\n",
    "map_scarborough"
   ]
  },
  {
   "cell_type": "markdown",
   "metadata": {},
   "source": [
    "## Part 3 - Data Description"
   ]
  },
  {
   "cell_type": "markdown",
   "metadata": {},
   "source": [
    "From those three folium maps, we notice that the neighbourhoods are much spread out in <b>North York</b> and <b>Scarborough</b> compared with <b>Downtown Toronto</b>. If we want to open a new store, we might as well open a store with more concentrated neighbourhood to increase our visibility to the market. Hence, going forward, we are interesting in explore more about the <b>Downtown Toronto</b> neighbourhood"
   ]
  },
  {
   "cell_type": "markdown",
   "metadata": {},
   "source": [
    "## Part 4 - Apply Foursquare API"
   ]
  },
  {
   "cell_type": "code",
   "execution_count": 21,
   "metadata": {
    "collapsed": true,
    "scrolled": false
   },
   "outputs": [
    {
     "name": "stdout",
     "output_type": "stream",
     "text": [
      "Your credentails:\n",
      "CLIENT_ID: LO0LHYN0LVIRFQR1OR03TIT1U1UVX13QUGH2IVJII50BYIIZ\n",
      "CLIENT_SECRET:K5F3FI41WQIHBNEM2RC1MVWMY4LEW0NA3BM5ZZ0VXKK1RUS4\n"
     ]
    }
   ],
   "source": [
    "# Foursquare credentials\n",
    "CLIENT_ID = 'LO0LHYN0LVIRFQR1OR03TIT1U1UVX13QUGH2IVJII50BYIIZ' # your Foursquare ID\n",
    "CLIENT_SECRET = 'K5F3FI41WQIHBNEM2RC1MVWMY4LEW0NA3BM5ZZ0VXKK1RUS4' # your Foursquare Secret\n",
    "VERSION = '20180605' # Foursquare API version\n",
    "\n",
    "print('Your credentails:')\n",
    "print('CLIENT_ID: ' + CLIENT_ID)\n",
    "print('CLIENT_SECRET:' + CLIENT_SECRET)"
   ]
  },
  {
   "cell_type": "markdown",
   "metadata": {},
   "source": [
    "### Function gets all the neighbourhoods \n",
    "The function shows top 100 venues within a radius of 500"
   ]
  },
  {
   "cell_type": "code",
   "execution_count": 22,
   "metadata": {
    "collapsed": true,
    "scrolled": false
   },
   "outputs": [],
   "source": [
    "# Get upper bound 100\n",
    "LIMIT = 100\n",
    "def getNearbyVenues(names, latitudes, longitudes, radius=500):\n",
    "    \n",
    "    venues_list=[]\n",
    "    for name, lat, lng in zip(names, latitudes, longitudes):\n",
    "        print(name)\n",
    "            \n",
    "        # create the API request URL\n",
    "        url = 'https://api.foursquare.com/v2/venues/explore?&client_id={}&client_secret={}&v={}&ll={},{}&radius={}&limit={}'.format(\n",
    "            CLIENT_ID, \n",
    "            CLIENT_SECRET, \n",
    "            VERSION, \n",
    "            lat, \n",
    "            lng, \n",
    "            radius, \n",
    "            LIMIT)\n",
    "            \n",
    "        # make the GET request\n",
    "        results = requests.get(url).json()[\"response\"]['groups'][0]['items']\n",
    "        \n",
    "        # return only relevant information for each nearby venue\n",
    "        venues_list.append([(\n",
    "            name, \n",
    "            lat, \n",
    "            lng, \n",
    "            v['venue']['name'], \n",
    "            v['venue']['location']['lat'], \n",
    "            v['venue']['location']['lng'],  \n",
    "            v['venue']['categories'][0]['name']) for v in results])\n",
    "\n",
    "    nearby_venues = pd.DataFrame([item for venue_list in venues_list for item in venue_list])\n",
    "    nearby_venues.columns = ['Neighbourhood', \n",
    "                  'Neighbourhood Latitude', \n",
    "                  'Neighbourhood Longitude', \n",
    "                  'Venue', \n",
    "                  'Venue Latitude', \n",
    "                  'Venue Longitude', \n",
    "                  'Venue Category']\n",
    "    \n",
    "    return(nearby_venues)"
   ]
  },
  {
   "cell_type": "markdown",
   "metadata": {},
   "source": [
    "### All Downtown Toronto Venues from Foursquare API\n",
    "From the foursquare API we got <b>1315 venues</b> , <b>206 categories</b> in those venues and <b>19 unique neighbourhood</b> in Downtown Toronto "
   ]
  },
  {
   "cell_type": "code",
   "execution_count": 23,
   "metadata": {
    "collapsed": true,
    "scrolled": false
   },
   "outputs": [
    {
     "name": "stdout",
     "output_type": "stream",
     "text": [
      "Rosedale\n",
      "Cabbagetown, St. James Town\n",
      "Church and Wellesley\n",
      "Harbourfront\n",
      "Ryerson, Garden District\n",
      "St. James Town\n",
      "Berczy Park\n",
      "Central Bay Street\n",
      "Adelaide, King, Richmond\n",
      "Harbourfront East, Toronto Islands, Union Station\n",
      "Design Exchange, Toronto Dominion Centre\n",
      "Commerce Court, Victoria Hotel\n",
      "Harbord, University of Toronto\n",
      "Chinatown, Grange Park, Kensington Market\n",
      "CN Tower, Bathurst Quay, Island airport, Harbourfront West, King and Spadina, Railway Lands, South Niagara\n",
      "Stn A PO Boxes 25 The Esplanade\n",
      "First Canadian Place, Underground city\n",
      "Christie\n",
      "Queen's Park\n"
     ]
    }
   ],
   "source": [
    "downtown_venues = getNearbyVenues(names=downtown_data['Neighbourhood'],\n",
    "                                   latitudes=downtown_data['Latitude'],\n",
    "                                   longitudes=downtown_data['Longitude']\n",
    "                                  )"
   ]
  },
  {
   "cell_type": "code",
   "execution_count": 24,
   "metadata": {
    "collapsed": true,
    "scrolled": false
   },
   "outputs": [
    {
     "name": "stdout",
     "output_type": "stream",
     "text": [
      "(1315, 7)\n"
     ]
    },
    {
     "data": {
      "text/html": [
       "<div>\n",
       "<style scoped>\n",
       "    .dataframe tbody tr th:only-of-type {\n",
       "        vertical-align: middle;\n",
       "    }\n",
       "\n",
       "    .dataframe tbody tr th {\n",
       "        vertical-align: top;\n",
       "    }\n",
       "\n",
       "    .dataframe thead th {\n",
       "        text-align: right;\n",
       "    }\n",
       "</style>\n",
       "<table border=\"1\" class=\"dataframe\">\n",
       "  <thead>\n",
       "    <tr style=\"text-align: right;\">\n",
       "      <th></th>\n",
       "      <th>Neighbourhood</th>\n",
       "      <th>Neighbourhood Latitude</th>\n",
       "      <th>Neighbourhood Longitude</th>\n",
       "      <th>Venue</th>\n",
       "      <th>Venue Latitude</th>\n",
       "      <th>Venue Longitude</th>\n",
       "      <th>Venue Category</th>\n",
       "    </tr>\n",
       "  </thead>\n",
       "  <tbody>\n",
       "    <tr>\n",
       "      <th>0</th>\n",
       "      <td>Rosedale</td>\n",
       "      <td>43.679563</td>\n",
       "      <td>-79.377529</td>\n",
       "      <td>Rosedale Park</td>\n",
       "      <td>43.682328</td>\n",
       "      <td>-79.378934</td>\n",
       "      <td>Playground</td>\n",
       "    </tr>\n",
       "    <tr>\n",
       "      <th>1</th>\n",
       "      <td>Rosedale</td>\n",
       "      <td>43.679563</td>\n",
       "      <td>-79.377529</td>\n",
       "      <td>Whitney Park</td>\n",
       "      <td>43.682036</td>\n",
       "      <td>-79.373788</td>\n",
       "      <td>Park</td>\n",
       "    </tr>\n",
       "    <tr>\n",
       "      <th>2</th>\n",
       "      <td>Rosedale</td>\n",
       "      <td>43.679563</td>\n",
       "      <td>-79.377529</td>\n",
       "      <td>Alex Murray Parkette</td>\n",
       "      <td>43.678300</td>\n",
       "      <td>-79.382773</td>\n",
       "      <td>Park</td>\n",
       "    </tr>\n",
       "  </tbody>\n",
       "</table>\n",
       "</div>"
      ],
      "text/plain": [
       "  Neighbourhood  Neighbourhood Latitude  Neighbourhood Longitude  \\\n",
       "0      Rosedale               43.679563               -79.377529   \n",
       "1      Rosedale               43.679563               -79.377529   \n",
       "2      Rosedale               43.679563               -79.377529   \n",
       "\n",
       "                  Venue  Venue Latitude  Venue Longitude Venue Category  \n",
       "0         Rosedale Park       43.682328       -79.378934     Playground  \n",
       "1          Whitney Park       43.682036       -79.373788           Park  \n",
       "2  Alex Murray Parkette       43.678300       -79.382773           Park  "
      ]
     },
     "execution_count": 24,
     "metadata": {},
     "output_type": "execute_result"
    }
   ],
   "source": [
    "# check the result size\n",
    "print(downtown_venues.shape)\n",
    "downtown_venues.head(3)"
   ]
  },
  {
   "cell_type": "code",
   "execution_count": 25,
   "metadata": {
    "scrolled": false
   },
   "outputs": [
    {
     "name": "stdout",
     "output_type": "stream",
     "text": [
      "There are 1315 venues in Downtown Toronto\n",
      "There are 205 uniques categories.\n",
      "There are 19 unique heighbourhood in Downtown Toronto\n"
     ]
    }
   ],
   "source": [
    "x = downtown_venues['Venue'].count()\n",
    "print('There are {} venues in Downtown Toronto'.format(x))\n",
    "\n",
    "y = len(downtown_venues['Venue Category'].unique())\n",
    "print('There are {} uniques categories.'.format(y))\n",
    "\n",
    "z = downtown_venues['Neighbourhood'].nunique()\n",
    "print('There are {} unique heighbourhood in Downtown Toronto'.format(z))"
   ]
  },
  {
   "cell_type": "markdown",
   "metadata": {},
   "source": [
    "### Examinate the Neighbourhood\n",
    "The chart is listed from high venue neighbourhood to low venue neighbourhood.\n",
    "<br>We set top 100 venues, and there are <b>7</b> neighbourhood reach that limit"
   ]
  },
  {
   "cell_type": "code",
   "execution_count": 34,
   "metadata": {
    "scrolled": false
   },
   "outputs": [
    {
     "data": {
      "text/html": [
       "<div>\n",
       "<style scoped>\n",
       "    .dataframe tbody tr th:only-of-type {\n",
       "        vertical-align: middle;\n",
       "    }\n",
       "\n",
       "    .dataframe tbody tr th {\n",
       "        vertical-align: top;\n",
       "    }\n",
       "\n",
       "    .dataframe thead th {\n",
       "        text-align: right;\n",
       "    }\n",
       "</style>\n",
       "<table border=\"1\" class=\"dataframe\">\n",
       "  <thead>\n",
       "    <tr style=\"text-align: right;\">\n",
       "      <th></th>\n",
       "      <th>Venue</th>\n",
       "    </tr>\n",
       "    <tr>\n",
       "      <th>Neighbourhood</th>\n",
       "      <th></th>\n",
       "    </tr>\n",
       "  </thead>\n",
       "  <tbody>\n",
       "    <tr>\n",
       "      <th>Adelaide, King, Richmond</th>\n",
       "      <td>100</td>\n",
       "    </tr>\n",
       "    <tr>\n",
       "      <th>Commerce Court, Victoria Hotel</th>\n",
       "      <td>100</td>\n",
       "    </tr>\n",
       "    <tr>\n",
       "      <th>St. James Town</th>\n",
       "      <td>100</td>\n",
       "    </tr>\n",
       "    <tr>\n",
       "      <th>Ryerson, Garden District</th>\n",
       "      <td>100</td>\n",
       "    </tr>\n",
       "    <tr>\n",
       "      <th>Harbourfront East, Toronto Islands, Union Station</th>\n",
       "      <td>100</td>\n",
       "    </tr>\n",
       "    <tr>\n",
       "      <th>First Canadian Place, Underground city</th>\n",
       "      <td>100</td>\n",
       "    </tr>\n",
       "    <tr>\n",
       "      <th>Design Exchange, Toronto Dominion Centre</th>\n",
       "      <td>100</td>\n",
       "    </tr>\n",
       "    <tr>\n",
       "      <th>Stn A PO Boxes 25 The Esplanade</th>\n",
       "      <td>95</td>\n",
       "    </tr>\n",
       "    <tr>\n",
       "      <th>Church and Wellesley</th>\n",
       "      <td>86</td>\n",
       "    </tr>\n",
       "    <tr>\n",
       "      <th>Chinatown, Grange Park, Kensington Market</th>\n",
       "      <td>86</td>\n",
       "    </tr>\n",
       "    <tr>\n",
       "      <th>Central Bay Street</th>\n",
       "      <td>82</td>\n",
       "    </tr>\n",
       "    <tr>\n",
       "      <th>Berczy Park</th>\n",
       "      <td>56</td>\n",
       "    </tr>\n",
       "    <tr>\n",
       "      <th>Harbourfront</th>\n",
       "      <td>48</td>\n",
       "    </tr>\n",
       "    <tr>\n",
       "      <th>Cabbagetown, St. James Town</th>\n",
       "      <td>48</td>\n",
       "    </tr>\n",
       "    <tr>\n",
       "      <th>Queen's Park</th>\n",
       "      <td>41</td>\n",
       "    </tr>\n",
       "    <tr>\n",
       "      <th>Harbord, University of Toronto</th>\n",
       "      <td>35</td>\n",
       "    </tr>\n",
       "    <tr>\n",
       "      <th>Christie</th>\n",
       "      <td>18</td>\n",
       "    </tr>\n",
       "    <tr>\n",
       "      <th>CN Tower, Bathurst Quay, Island airport, Harbourfront West, King and Spadina, Railway Lands, South Niagara</th>\n",
       "      <td>16</td>\n",
       "    </tr>\n",
       "    <tr>\n",
       "      <th>Rosedale</th>\n",
       "      <td>4</td>\n",
       "    </tr>\n",
       "  </tbody>\n",
       "</table>\n",
       "</div>"
      ],
      "text/plain": [
       "                                                    Venue\n",
       "Neighbourhood                                            \n",
       "Adelaide, King, Richmond                              100\n",
       "Commerce Court, Victoria Hotel                        100\n",
       "St. James Town                                        100\n",
       "Ryerson, Garden District                              100\n",
       "Harbourfront East, Toronto Islands, Union Station     100\n",
       "First Canadian Place, Underground city                100\n",
       "Design Exchange, Toronto Dominion Centre              100\n",
       "Stn A PO Boxes 25 The Esplanade                        95\n",
       "Church and Wellesley                                   86\n",
       "Chinatown, Grange Park, Kensington Market              86\n",
       "Central Bay Street                                     82\n",
       "Berczy Park                                            56\n",
       "Harbourfront                                           48\n",
       "Cabbagetown, St. James Town                            48\n",
       "Queen's Park                                           41\n",
       "Harbord, University of Toronto                         35\n",
       "Christie                                               18\n",
       "CN Tower, Bathurst Quay, Island airport, Harbou...     16\n",
       "Rosedale                                                4"
      ]
     },
     "execution_count": 34,
     "metadata": {},
     "output_type": "execute_result"
    }
   ],
   "source": [
    "x=downtown_venues.groupby('Neighbourhood').count().sort_values(by=['Venue'], ascending = False)\n",
    "x[['Venue']]"
   ]
  },
  {
   "cell_type": "markdown",
   "metadata": {},
   "source": [
    "## Part 5 - Methodology"
   ]
  },
  {
   "cell_type": "markdown",
   "metadata": {},
   "source": [
    "### We use one-hot encoding to identify each category\n",
    "Creating a dummy dataframe and spread out the category as each column\n",
    "<br>Then, assign each venues to its correponding column (category)"
   ]
  },
  {
   "cell_type": "code",
   "execution_count": 38,
   "metadata": {
    "scrolled": false
   },
   "outputs": [
    {
     "data": {
      "text/html": [
       "<div>\n",
       "<style scoped>\n",
       "    .dataframe tbody tr th:only-of-type {\n",
       "        vertical-align: middle;\n",
       "    }\n",
       "\n",
       "    .dataframe tbody tr th {\n",
       "        vertical-align: top;\n",
       "    }\n",
       "\n",
       "    .dataframe thead th {\n",
       "        text-align: right;\n",
       "    }\n",
       "</style>\n",
       "<table border=\"1\" class=\"dataframe\">\n",
       "  <thead>\n",
       "    <tr style=\"text-align: right;\">\n",
       "      <th></th>\n",
       "      <th>Neighbourhood</th>\n",
       "      <th>Afghan Restaurant</th>\n",
       "      <th>Airport</th>\n",
       "      <th>Airport Food Court</th>\n",
       "      <th>Airport Lounge</th>\n",
       "      <th>Airport Service</th>\n",
       "      <th>Airport Terminal</th>\n",
       "      <th>American Restaurant</th>\n",
       "      <th>Antique Shop</th>\n",
       "      <th>Aquarium</th>\n",
       "      <th>...</th>\n",
       "      <th>Trail</th>\n",
       "      <th>Train Station</th>\n",
       "      <th>Vegetarian / Vegan Restaurant</th>\n",
       "      <th>Video Game Store</th>\n",
       "      <th>Vietnamese Restaurant</th>\n",
       "      <th>Wine Bar</th>\n",
       "      <th>Wine Shop</th>\n",
       "      <th>Wings Joint</th>\n",
       "      <th>Women's Store</th>\n",
       "      <th>Yoga Studio</th>\n",
       "    </tr>\n",
       "  </thead>\n",
       "  <tbody>\n",
       "    <tr>\n",
       "      <th>0</th>\n",
       "      <td>Rosedale</td>\n",
       "      <td>0</td>\n",
       "      <td>0</td>\n",
       "      <td>0</td>\n",
       "      <td>0</td>\n",
       "      <td>0</td>\n",
       "      <td>0</td>\n",
       "      <td>0</td>\n",
       "      <td>0</td>\n",
       "      <td>0</td>\n",
       "      <td>...</td>\n",
       "      <td>0</td>\n",
       "      <td>0</td>\n",
       "      <td>0</td>\n",
       "      <td>0</td>\n",
       "      <td>0</td>\n",
       "      <td>0</td>\n",
       "      <td>0</td>\n",
       "      <td>0</td>\n",
       "      <td>0</td>\n",
       "      <td>0</td>\n",
       "    </tr>\n",
       "    <tr>\n",
       "      <th>1</th>\n",
       "      <td>Rosedale</td>\n",
       "      <td>0</td>\n",
       "      <td>0</td>\n",
       "      <td>0</td>\n",
       "      <td>0</td>\n",
       "      <td>0</td>\n",
       "      <td>0</td>\n",
       "      <td>0</td>\n",
       "      <td>0</td>\n",
       "      <td>0</td>\n",
       "      <td>...</td>\n",
       "      <td>0</td>\n",
       "      <td>0</td>\n",
       "      <td>0</td>\n",
       "      <td>0</td>\n",
       "      <td>0</td>\n",
       "      <td>0</td>\n",
       "      <td>0</td>\n",
       "      <td>0</td>\n",
       "      <td>0</td>\n",
       "      <td>0</td>\n",
       "    </tr>\n",
       "    <tr>\n",
       "      <th>2</th>\n",
       "      <td>Rosedale</td>\n",
       "      <td>0</td>\n",
       "      <td>0</td>\n",
       "      <td>0</td>\n",
       "      <td>0</td>\n",
       "      <td>0</td>\n",
       "      <td>0</td>\n",
       "      <td>0</td>\n",
       "      <td>0</td>\n",
       "      <td>0</td>\n",
       "      <td>...</td>\n",
       "      <td>0</td>\n",
       "      <td>0</td>\n",
       "      <td>0</td>\n",
       "      <td>0</td>\n",
       "      <td>0</td>\n",
       "      <td>0</td>\n",
       "      <td>0</td>\n",
       "      <td>0</td>\n",
       "      <td>0</td>\n",
       "      <td>0</td>\n",
       "    </tr>\n",
       "  </tbody>\n",
       "</table>\n",
       "<p>3 rows × 206 columns</p>\n",
       "</div>"
      ],
      "text/plain": [
       "  Neighbourhood  Afghan Restaurant  Airport  Airport Food Court  \\\n",
       "0      Rosedale                  0        0                   0   \n",
       "1      Rosedale                  0        0                   0   \n",
       "2      Rosedale                  0        0                   0   \n",
       "\n",
       "   Airport Lounge  Airport Service  Airport Terminal  American Restaurant  \\\n",
       "0               0                0                 0                    0   \n",
       "1               0                0                 0                    0   \n",
       "2               0                0                 0                    0   \n",
       "\n",
       "   Antique Shop  Aquarium  ...  Trail  Train Station  \\\n",
       "0             0         0  ...      0              0   \n",
       "1             0         0  ...      0              0   \n",
       "2             0         0  ...      0              0   \n",
       "\n",
       "   Vegetarian / Vegan Restaurant  Video Game Store  Vietnamese Restaurant  \\\n",
       "0                              0                 0                      0   \n",
       "1                              0                 0                      0   \n",
       "2                              0                 0                      0   \n",
       "\n",
       "   Wine Bar  Wine Shop  Wings Joint  Women's Store  Yoga Studio  \n",
       "0         0          0            0              0            0  \n",
       "1         0          0            0              0            0  \n",
       "2         0          0            0              0            0  \n",
       "\n",
       "[3 rows x 206 columns]"
      ]
     },
     "execution_count": 38,
     "metadata": {},
     "output_type": "execute_result"
    }
   ],
   "source": [
    "# one hot encoding\n",
    "downtown_onehot = pd.get_dummies(downtown_venues[['Venue Category']], prefix=\"\", prefix_sep=\"\")\n",
    "\n",
    "# add neighbourhood column back to dataframe\n",
    "downtown_onehot['Neighbourhood'] = downtown_venues['Neighbourhood'] \n",
    "\n",
    "# move neighbourhood column to the first column\n",
    "fixed_columns = [downtown_onehot.columns[-1]] + list(downtown_onehot.columns[:-1])\n",
    "downtown_onehot = downtown_onehot[fixed_columns]\n",
    "\n",
    "downtown_onehot.head(3)"
   ]
  },
  {
   "cell_type": "code",
   "execution_count": 39,
   "metadata": {
    "scrolled": false
   },
   "outputs": [
    {
     "data": {
      "text/plain": [
       "(1315, 206)"
      ]
     },
     "execution_count": 39,
     "metadata": {},
     "output_type": "execute_result"
    }
   ],
   "source": [
    "# check for the shape\n",
    "downtown_onehot.shape"
   ]
  },
  {
   "cell_type": "markdown",
   "metadata": {},
   "source": [
    "### Group neighbourhood and taking mean frequency on each category\n",
    "Group each neighbourhood and calculate their <b>mean frequency</b> on each category"
   ]
  },
  {
   "cell_type": "code",
   "execution_count": 40,
   "metadata": {
    "scrolled": false
   },
   "outputs": [
    {
     "data": {
      "text/html": [
       "<div>\n",
       "<style scoped>\n",
       "    .dataframe tbody tr th:only-of-type {\n",
       "        vertical-align: middle;\n",
       "    }\n",
       "\n",
       "    .dataframe tbody tr th {\n",
       "        vertical-align: top;\n",
       "    }\n",
       "\n",
       "    .dataframe thead th {\n",
       "        text-align: right;\n",
       "    }\n",
       "</style>\n",
       "<table border=\"1\" class=\"dataframe\">\n",
       "  <thead>\n",
       "    <tr style=\"text-align: right;\">\n",
       "      <th></th>\n",
       "      <th>Neighbourhood</th>\n",
       "      <th>Afghan Restaurant</th>\n",
       "      <th>Airport</th>\n",
       "      <th>Airport Food Court</th>\n",
       "      <th>Airport Lounge</th>\n",
       "      <th>Airport Service</th>\n",
       "      <th>Airport Terminal</th>\n",
       "      <th>American Restaurant</th>\n",
       "      <th>Antique Shop</th>\n",
       "      <th>Aquarium</th>\n",
       "      <th>...</th>\n",
       "      <th>Trail</th>\n",
       "      <th>Train Station</th>\n",
       "      <th>Vegetarian / Vegan Restaurant</th>\n",
       "      <th>Video Game Store</th>\n",
       "      <th>Vietnamese Restaurant</th>\n",
       "      <th>Wine Bar</th>\n",
       "      <th>Wine Shop</th>\n",
       "      <th>Wings Joint</th>\n",
       "      <th>Women's Store</th>\n",
       "      <th>Yoga Studio</th>\n",
       "    </tr>\n",
       "  </thead>\n",
       "  <tbody>\n",
       "    <tr>\n",
       "      <th>0</th>\n",
       "      <td>Adelaide, King, Richmond</td>\n",
       "      <td>0.0</td>\n",
       "      <td>0.0000</td>\n",
       "      <td>0.0000</td>\n",
       "      <td>0.000</td>\n",
       "      <td>0.0000</td>\n",
       "      <td>0.000</td>\n",
       "      <td>0.02</td>\n",
       "      <td>0.0</td>\n",
       "      <td>0.0</td>\n",
       "      <td>...</td>\n",
       "      <td>0.0</td>\n",
       "      <td>0.0</td>\n",
       "      <td>0.020000</td>\n",
       "      <td>0.0</td>\n",
       "      <td>0.0</td>\n",
       "      <td>0.01</td>\n",
       "      <td>0.0</td>\n",
       "      <td>0.0</td>\n",
       "      <td>0.01</td>\n",
       "      <td>0.0</td>\n",
       "    </tr>\n",
       "    <tr>\n",
       "      <th>1</th>\n",
       "      <td>Berczy Park</td>\n",
       "      <td>0.0</td>\n",
       "      <td>0.0000</td>\n",
       "      <td>0.0000</td>\n",
       "      <td>0.000</td>\n",
       "      <td>0.0000</td>\n",
       "      <td>0.000</td>\n",
       "      <td>0.00</td>\n",
       "      <td>0.0</td>\n",
       "      <td>0.0</td>\n",
       "      <td>...</td>\n",
       "      <td>0.0</td>\n",
       "      <td>0.0</td>\n",
       "      <td>0.017857</td>\n",
       "      <td>0.0</td>\n",
       "      <td>0.0</td>\n",
       "      <td>0.00</td>\n",
       "      <td>0.0</td>\n",
       "      <td>0.0</td>\n",
       "      <td>0.00</td>\n",
       "      <td>0.0</td>\n",
       "    </tr>\n",
       "    <tr>\n",
       "      <th>2</th>\n",
       "      <td>CN Tower, Bathurst Quay, Island airport, Harbo...</td>\n",
       "      <td>0.0</td>\n",
       "      <td>0.0625</td>\n",
       "      <td>0.0625</td>\n",
       "      <td>0.125</td>\n",
       "      <td>0.1875</td>\n",
       "      <td>0.125</td>\n",
       "      <td>0.00</td>\n",
       "      <td>0.0</td>\n",
       "      <td>0.0</td>\n",
       "      <td>...</td>\n",
       "      <td>0.0</td>\n",
       "      <td>0.0</td>\n",
       "      <td>0.000000</td>\n",
       "      <td>0.0</td>\n",
       "      <td>0.0</td>\n",
       "      <td>0.00</td>\n",
       "      <td>0.0</td>\n",
       "      <td>0.0</td>\n",
       "      <td>0.00</td>\n",
       "      <td>0.0</td>\n",
       "    </tr>\n",
       "  </tbody>\n",
       "</table>\n",
       "<p>3 rows × 206 columns</p>\n",
       "</div>"
      ],
      "text/plain": [
       "                                       Neighbourhood  Afghan Restaurant  \\\n",
       "0                           Adelaide, King, Richmond                0.0   \n",
       "1                                        Berczy Park                0.0   \n",
       "2  CN Tower, Bathurst Quay, Island airport, Harbo...                0.0   \n",
       "\n",
       "   Airport  Airport Food Court  Airport Lounge  Airport Service  \\\n",
       "0   0.0000              0.0000           0.000           0.0000   \n",
       "1   0.0000              0.0000           0.000           0.0000   \n",
       "2   0.0625              0.0625           0.125           0.1875   \n",
       "\n",
       "   Airport Terminal  American Restaurant  Antique Shop  Aquarium  ...  Trail  \\\n",
       "0             0.000                 0.02           0.0       0.0  ...    0.0   \n",
       "1             0.000                 0.00           0.0       0.0  ...    0.0   \n",
       "2             0.125                 0.00           0.0       0.0  ...    0.0   \n",
       "\n",
       "   Train Station  Vegetarian / Vegan Restaurant  Video Game Store  \\\n",
       "0            0.0                       0.020000               0.0   \n",
       "1            0.0                       0.017857               0.0   \n",
       "2            0.0                       0.000000               0.0   \n",
       "\n",
       "   Vietnamese Restaurant  Wine Bar  Wine Shop  Wings Joint  Women's Store  \\\n",
       "0                    0.0      0.01        0.0          0.0           0.01   \n",
       "1                    0.0      0.00        0.0          0.0           0.00   \n",
       "2                    0.0      0.00        0.0          0.0           0.00   \n",
       "\n",
       "   Yoga Studio  \n",
       "0          0.0  \n",
       "1          0.0  \n",
       "2          0.0  \n",
       "\n",
       "[3 rows x 206 columns]"
      ]
     },
     "execution_count": 40,
     "metadata": {},
     "output_type": "execute_result"
    }
   ],
   "source": [
    "downtown_grouped = downtown_onehot.groupby('Neighbourhood').mean().reset_index()\n",
    "downtown_grouped.head(3)"
   ]
  },
  {
   "cell_type": "code",
   "execution_count": 41,
   "metadata": {
    "scrolled": false
   },
   "outputs": [
    {
     "data": {
      "text/plain": [
       "(19, 206)"
      ]
     },
     "execution_count": 41,
     "metadata": {},
     "output_type": "execute_result"
    }
   ],
   "source": [
    "# check size\n",
    "downtown_grouped.shape"
   ]
  },
  {
   "cell_type": "markdown",
   "metadata": {},
   "source": [
    "### Display the top 3 venues in each neighbourhood in print form"
   ]
  },
  {
   "cell_type": "code",
   "execution_count": 50,
   "metadata": {
    "scrolled": false
   },
   "outputs": [
    {
     "name": "stdout",
     "output_type": "stream",
     "text": [
      "----Adelaide, King, Richmond----\n",
      "         venue  freq\n",
      "0  Coffee Shop  0.07\n",
      "1   Restaurant  0.05\n",
      "2         Café  0.04\n",
      "\n",
      "\n",
      "----Berczy Park----\n",
      "         venue  freq\n",
      "0  Coffee Shop  0.09\n",
      "1         Café  0.04\n",
      "2       Bakery  0.04\n",
      "\n",
      "\n",
      "----CN Tower, Bathurst Quay, Island airport, Harbourfront West, King and Spadina, Railway Lands, South Niagara----\n",
      "              venue  freq\n",
      "0   Airport Service  0.19\n",
      "1    Airport Lounge  0.12\n",
      "2  Airport Terminal  0.12\n",
      "\n",
      "\n",
      "----Cabbagetown, St. James Town----\n",
      "         venue  freq\n",
      "0  Coffee Shop  0.06\n",
      "1   Restaurant  0.06\n",
      "2         Café  0.06\n",
      "\n",
      "\n",
      "----Central Bay Street----\n",
      "                venue  freq\n",
      "0         Coffee Shop  0.16\n",
      "1  Italian Restaurant  0.05\n",
      "2      Sandwich Place  0.04\n",
      "\n",
      "\n",
      "----Chinatown, Grange Park, Kensington Market----\n",
      "                   venue  freq\n",
      "0                    Bar  0.07\n",
      "1  Vietnamese Restaurant  0.06\n",
      "2                   Café  0.05\n",
      "\n",
      "\n",
      "----Christie----\n",
      "           venue  freq\n",
      "0  Grocery Store  0.22\n",
      "1           Café  0.17\n",
      "2           Park  0.11\n",
      "\n",
      "\n",
      "----Church and Wellesley----\n",
      "                 venue  freq\n",
      "0          Coffee Shop  0.08\n",
      "1  Japanese Restaurant  0.07\n",
      "2           Restaurant  0.03\n",
      "\n",
      "\n",
      "----Commerce Court, Victoria Hotel----\n",
      "         venue  freq\n",
      "0  Coffee Shop  0.11\n",
      "1         Café  0.07\n",
      "2   Restaurant  0.07\n",
      "\n",
      "\n",
      "----Design Exchange, Toronto Dominion Centre----\n",
      "         venue  freq\n",
      "0  Coffee Shop  0.12\n",
      "1         Café  0.08\n",
      "2   Restaurant  0.06\n",
      "\n",
      "\n",
      "----First Canadian Place, Underground city----\n",
      "         venue  freq\n",
      "0  Coffee Shop  0.12\n",
      "1         Café  0.07\n",
      "2   Restaurant  0.06\n",
      "\n",
      "\n",
      "----Harbord, University of Toronto----\n",
      "                 venue  freq\n",
      "0                 Café  0.14\n",
      "1   Italian Restaurant  0.06\n",
      "2  Japanese Restaurant  0.06\n",
      "\n",
      "\n",
      "----Harbourfront----\n",
      "         venue  freq\n",
      "0  Coffee Shop  0.17\n",
      "1         Café  0.06\n",
      "2       Bakery  0.06\n",
      "\n",
      "\n",
      "----Harbourfront East, Toronto Islands, Union Station----\n",
      "         venue  freq\n",
      "0  Coffee Shop  0.12\n",
      "1     Aquarium  0.05\n",
      "2         Café  0.04\n",
      "\n",
      "\n",
      "----Queen's Park----\n",
      "          venue  freq\n",
      "0   Coffee Shop  0.22\n",
      "1  Burger Joint  0.05\n",
      "2          Park  0.05\n",
      "\n",
      "\n",
      "----Rosedale----\n",
      "        venue  freq\n",
      "0        Park  0.50\n",
      "1  Playground  0.25\n",
      "2       Trail  0.25\n",
      "\n",
      "\n",
      "----Ryerson, Garden District----\n",
      "                 venue  freq\n",
      "0          Coffee Shop  0.09\n",
      "1       Clothing Store  0.08\n",
      "2  Japanese Restaurant  0.03\n",
      "\n",
      "\n",
      "----St. James Town----\n",
      "         venue  freq\n",
      "0  Coffee Shop  0.07\n",
      "1         Café  0.06\n",
      "2   Restaurant  0.05\n",
      "\n",
      "\n",
      "----Stn A PO Boxes 25 The Esplanade----\n",
      "         venue  freq\n",
      "0  Coffee Shop  0.12\n",
      "1         Café  0.04\n",
      "2   Restaurant  0.04\n",
      "\n",
      "\n"
     ]
    }
   ],
   "source": [
    "# Display in a print form\n",
    "num_top_venues = 3\n",
    "\n",
    "for hood in downtown_grouped['Neighbourhood']:\n",
    "    print(\"----\"+hood+\"----\")\n",
    "    temp = downtown_grouped[downtown_grouped['Neighbourhood'] == hood].T.reset_index()\n",
    "    temp.columns = ['venue','freq']\n",
    "    temp = temp.iloc[1:]\n",
    "    temp['freq'] = temp['freq'].astype(float)\n",
    "    temp = temp.round({'freq': 2})\n",
    "    print(temp.sort_values('freq', ascending=False).reset_index(drop=True).head(num_top_venues))\n",
    "    print('\\n')"
   ]
  },
  {
   "cell_type": "markdown",
   "metadata": {},
   "source": [
    "### Transform the print form to dataframe"
   ]
  },
  {
   "cell_type": "code",
   "execution_count": 43,
   "metadata": {
    "scrolled": false
   },
   "outputs": [],
   "source": [
    "# function for most common venues\n",
    "def return_most_common_venues(row, num_top_venues):\n",
    "    row_categories = row.iloc[1:]\n",
    "    row_categories_sorted = row_categories.sort_values(ascending=False)\n",
    "    \n",
    "    return row_categories_sorted.index.values[0:num_top_venues]"
   ]
  },
  {
   "cell_type": "code",
   "execution_count": 44,
   "metadata": {
    "scrolled": false
   },
   "outputs": [
    {
     "data": {
      "text/html": [
       "<div>\n",
       "<style scoped>\n",
       "    .dataframe tbody tr th:only-of-type {\n",
       "        vertical-align: middle;\n",
       "    }\n",
       "\n",
       "    .dataframe tbody tr th {\n",
       "        vertical-align: top;\n",
       "    }\n",
       "\n",
       "    .dataframe thead th {\n",
       "        text-align: right;\n",
       "    }\n",
       "</style>\n",
       "<table border=\"1\" class=\"dataframe\">\n",
       "  <thead>\n",
       "    <tr style=\"text-align: right;\">\n",
       "      <th></th>\n",
       "      <th>Neighbourhood</th>\n",
       "      <th>1st Most Common Venue</th>\n",
       "      <th>2nd Most Common Venue</th>\n",
       "      <th>3rd Most Common Venue</th>\n",
       "    </tr>\n",
       "  </thead>\n",
       "  <tbody>\n",
       "    <tr>\n",
       "      <th>0</th>\n",
       "      <td>Adelaide, King, Richmond</td>\n",
       "      <td>Coffee Shop</td>\n",
       "      <td>Restaurant</td>\n",
       "      <td>Café</td>\n",
       "    </tr>\n",
       "    <tr>\n",
       "      <th>1</th>\n",
       "      <td>Berczy Park</td>\n",
       "      <td>Coffee Shop</td>\n",
       "      <td>Farmers Market</td>\n",
       "      <td>Seafood Restaurant</td>\n",
       "    </tr>\n",
       "    <tr>\n",
       "      <th>2</th>\n",
       "      <td>CN Tower, Bathurst Quay, Island airport, Harbo...</td>\n",
       "      <td>Airport Service</td>\n",
       "      <td>Airport Lounge</td>\n",
       "      <td>Airport Terminal</td>\n",
       "    </tr>\n",
       "    <tr>\n",
       "      <th>3</th>\n",
       "      <td>Cabbagetown, St. James Town</td>\n",
       "      <td>Café</td>\n",
       "      <td>Coffee Shop</td>\n",
       "      <td>Restaurant</td>\n",
       "    </tr>\n",
       "    <tr>\n",
       "      <th>4</th>\n",
       "      <td>Central Bay Street</td>\n",
       "      <td>Coffee Shop</td>\n",
       "      <td>Italian Restaurant</td>\n",
       "      <td>Japanese Restaurant</td>\n",
       "    </tr>\n",
       "    <tr>\n",
       "      <th>5</th>\n",
       "      <td>Chinatown, Grange Park, Kensington Market</td>\n",
       "      <td>Bar</td>\n",
       "      <td>Vietnamese Restaurant</td>\n",
       "      <td>Bakery</td>\n",
       "    </tr>\n",
       "    <tr>\n",
       "      <th>6</th>\n",
       "      <td>Christie</td>\n",
       "      <td>Grocery Store</td>\n",
       "      <td>Café</td>\n",
       "      <td>Park</td>\n",
       "    </tr>\n",
       "    <tr>\n",
       "      <th>7</th>\n",
       "      <td>Church and Wellesley</td>\n",
       "      <td>Coffee Shop</td>\n",
       "      <td>Japanese Restaurant</td>\n",
       "      <td>Burger Joint</td>\n",
       "    </tr>\n",
       "    <tr>\n",
       "      <th>8</th>\n",
       "      <td>Commerce Court, Victoria Hotel</td>\n",
       "      <td>Coffee Shop</td>\n",
       "      <td>Café</td>\n",
       "      <td>Restaurant</td>\n",
       "    </tr>\n",
       "    <tr>\n",
       "      <th>9</th>\n",
       "      <td>Design Exchange, Toronto Dominion Centre</td>\n",
       "      <td>Coffee Shop</td>\n",
       "      <td>Café</td>\n",
       "      <td>Restaurant</td>\n",
       "    </tr>\n",
       "    <tr>\n",
       "      <th>10</th>\n",
       "      <td>First Canadian Place, Underground city</td>\n",
       "      <td>Coffee Shop</td>\n",
       "      <td>Café</td>\n",
       "      <td>Restaurant</td>\n",
       "    </tr>\n",
       "    <tr>\n",
       "      <th>11</th>\n",
       "      <td>Harbord, University of Toronto</td>\n",
       "      <td>Café</td>\n",
       "      <td>Restaurant</td>\n",
       "      <td>Bookstore</td>\n",
       "    </tr>\n",
       "    <tr>\n",
       "      <th>12</th>\n",
       "      <td>Harbourfront</td>\n",
       "      <td>Coffee Shop</td>\n",
       "      <td>Park</td>\n",
       "      <td>Café</td>\n",
       "    </tr>\n",
       "    <tr>\n",
       "      <th>13</th>\n",
       "      <td>Harbourfront East, Toronto Islands, Union Station</td>\n",
       "      <td>Coffee Shop</td>\n",
       "      <td>Aquarium</td>\n",
       "      <td>Café</td>\n",
       "    </tr>\n",
       "    <tr>\n",
       "      <th>14</th>\n",
       "      <td>Queen's Park</td>\n",
       "      <td>Coffee Shop</td>\n",
       "      <td>Park</td>\n",
       "      <td>Burger Joint</td>\n",
       "    </tr>\n",
       "    <tr>\n",
       "      <th>15</th>\n",
       "      <td>Rosedale</td>\n",
       "      <td>Park</td>\n",
       "      <td>Playground</td>\n",
       "      <td>Trail</td>\n",
       "    </tr>\n",
       "    <tr>\n",
       "      <th>16</th>\n",
       "      <td>Ryerson, Garden District</td>\n",
       "      <td>Coffee Shop</td>\n",
       "      <td>Clothing Store</td>\n",
       "      <td>Middle Eastern Restaurant</td>\n",
       "    </tr>\n",
       "    <tr>\n",
       "      <th>17</th>\n",
       "      <td>St. James Town</td>\n",
       "      <td>Coffee Shop</td>\n",
       "      <td>Café</td>\n",
       "      <td>Restaurant</td>\n",
       "    </tr>\n",
       "    <tr>\n",
       "      <th>18</th>\n",
       "      <td>Stn A PO Boxes 25 The Esplanade</td>\n",
       "      <td>Coffee Shop</td>\n",
       "      <td>Restaurant</td>\n",
       "      <td>Café</td>\n",
       "    </tr>\n",
       "  </tbody>\n",
       "</table>\n",
       "</div>"
      ],
      "text/plain": [
       "                                        Neighbourhood 1st Most Common Venue  \\\n",
       "0                            Adelaide, King, Richmond           Coffee Shop   \n",
       "1                                         Berczy Park           Coffee Shop   \n",
       "2   CN Tower, Bathurst Quay, Island airport, Harbo...       Airport Service   \n",
       "3                         Cabbagetown, St. James Town                  Café   \n",
       "4                                  Central Bay Street           Coffee Shop   \n",
       "5           Chinatown, Grange Park, Kensington Market                   Bar   \n",
       "6                                            Christie         Grocery Store   \n",
       "7                                Church and Wellesley           Coffee Shop   \n",
       "8                      Commerce Court, Victoria Hotel           Coffee Shop   \n",
       "9            Design Exchange, Toronto Dominion Centre           Coffee Shop   \n",
       "10             First Canadian Place, Underground city           Coffee Shop   \n",
       "11                     Harbord, University of Toronto                  Café   \n",
       "12                                       Harbourfront           Coffee Shop   \n",
       "13  Harbourfront East, Toronto Islands, Union Station           Coffee Shop   \n",
       "14                                       Queen's Park           Coffee Shop   \n",
       "15                                           Rosedale                  Park   \n",
       "16                           Ryerson, Garden District           Coffee Shop   \n",
       "17                                     St. James Town           Coffee Shop   \n",
       "18                    Stn A PO Boxes 25 The Esplanade           Coffee Shop   \n",
       "\n",
       "    2nd Most Common Venue      3rd Most Common Venue  \n",
       "0              Restaurant                       Café  \n",
       "1          Farmers Market         Seafood Restaurant  \n",
       "2          Airport Lounge           Airport Terminal  \n",
       "3             Coffee Shop                 Restaurant  \n",
       "4      Italian Restaurant        Japanese Restaurant  \n",
       "5   Vietnamese Restaurant                     Bakery  \n",
       "6                    Café                       Park  \n",
       "7     Japanese Restaurant               Burger Joint  \n",
       "8                    Café                 Restaurant  \n",
       "9                    Café                 Restaurant  \n",
       "10                   Café                 Restaurant  \n",
       "11             Restaurant                  Bookstore  \n",
       "12                   Park                       Café  \n",
       "13               Aquarium                       Café  \n",
       "14                   Park               Burger Joint  \n",
       "15             Playground                      Trail  \n",
       "16         Clothing Store  Middle Eastern Restaurant  \n",
       "17                   Café                 Restaurant  \n",
       "18             Restaurant                       Café  "
      ]
     },
     "execution_count": 44,
     "metadata": {},
     "output_type": "execute_result"
    }
   ],
   "source": [
    "num_top_venues = 3\n",
    "\n",
    "indicators = ['st', 'nd', 'rd']\n",
    "\n",
    "# create columns according to number of top venues\n",
    "columns = ['Neighbourhood']\n",
    "for ind in np.arange(num_top_venues):\n",
    "    try:\n",
    "        columns.append('{}{} Most Common Venue'.format(ind+1, indicators[ind]))\n",
    "    except:\n",
    "        columns.append('{}th Most Common Venue'.format(ind+1))\n",
    "\n",
    "# create a new dataframe\n",
    "neighbourhoods_venues_sorted = pd.DataFrame(columns=columns)\n",
    "neighbourhoods_venues_sorted['Neighbourhood'] = downtown_grouped['Neighbourhood']\n",
    "\n",
    "for ind in np.arange(downtown_grouped.shape[0]):\n",
    "    neighbourhoods_venues_sorted.iloc[ind, 1:] = return_most_common_venues(downtown_grouped.iloc[ind, :], num_top_venues)\n",
    "\n",
    "neighbourhoods_venues_sorted"
   ]
  },
  {
   "cell_type": "markdown",
   "metadata": {},
   "source": [
    "### Result\n",
    "As we go through each 19 Neighbourhood, we find some interesting facts.\n",
    "<br/>\n",
    "<br><b>First</b>, most common venues are coffee shops which are occupied 16 out of 19 neighbourhood, cafe will be the second popular ones.\n",
    "<br/>\n",
    "<br><b>Second</b>, in those 16 neighbourhoods of common venue of coffee shop, the top 3 are\n",
    "    <br>1. Queen's Park --------> 0.22\n",
    "    <br>2. Harbourfront --> 0.17\n",
    "    <br>3. Central Bay Street ----------> 0.16\n",
    "<br/>\n",
    "<br><b>Third</b>, Rosedale most occupied by park, playground and trail. No stores in its top 3 common venue \n"
   ]
  },
  {
   "cell_type": "markdown",
   "metadata": {},
   "source": [
    "### Apply K - Mean Method\n",
    "First we have to determine what is the optimal K for our clustering and we test K for 1 to 9.\n",
    "<br/>\n",
    "<br>I use <b>distortion in Elbow method</b> for K-mean to find optimal K"
   ]
  },
  {
   "cell_type": "code",
   "execution_count": 45,
   "metadata": {
    "scrolled": false
   },
   "outputs": [],
   "source": [
    "# Drop 'neighbourhood' column \n",
    "X = downtown_grouped.drop('Neighbourhood', 1)\n",
    "\n",
    "distortions = [] \n",
    "inertias = [] \n",
    "mapping1 = {} \n",
    "mapping2 = {} \n",
    "K = range(1,10) \n",
    "  \n",
    "for k in K: \n",
    "    #Building and fitting the model \n",
    "    kmeanModel = KMeans(n_clusters=k).fit(X) \n",
    "    kmeanModel.fit(X)     \n",
    "      \n",
    "    distortions.append(sum(np.min(cdist(X, kmeanModel.cluster_centers_, \n",
    "                      'euclidean'),axis=1)) / X.shape[0]) \n",
    "    inertias.append(kmeanModel.inertia_) \n",
    "  \n",
    "    mapping1[k] = sum(np.min(cdist(X, kmeanModel.cluster_centers_, \n",
    "                 'euclidean'),axis=1)) / X.shape[0] \n",
    "    mapping2[k] = kmeanModel.inertia_ "
   ]
  },
  {
   "cell_type": "code",
   "execution_count": 46,
   "metadata": {
    "scrolled": false
   },
   "outputs": [
    {
     "name": "stdout",
     "output_type": "stream",
     "text": [
      "1 : 0.16833070881128903\n",
      "2 : 0.133185840061368\n",
      "3 : 0.11551716053569301\n",
      "4 : 0.0986480425626375\n",
      "5 : 0.08875748874948948\n",
      "6 : 0.08098554713939014\n",
      "7 : 0.0746224196253336\n",
      "8 : 0.06554047319213041\n",
      "9 : 0.056988157151479306\n"
     ]
    }
   ],
   "source": [
    "for key,val in mapping1.items(): \n",
    "    print(str(key)+' : '+str(val)) "
   ]
  },
  {
   "cell_type": "code",
   "execution_count": 47,
   "metadata": {
    "scrolled": false
   },
   "outputs": [
    {
     "data": {
      "image/png": "[encoded data removed]",
      "text/plain": [
       "<Figure size 432x288 with 1 Axes>"
      ]
     },
     "metadata": {
      "needs_background": "light"
     },
     "output_type": "display_data"
    }
   ],
   "source": [
    "plt.plot(K, distortions, 'bx-') \n",
    "plt.xlabel('Values of K') \n",
    "plt.ylabel('Distortion') \n",
    "plt.title('The Elbow Method using Distortion') \n",
    "plt.show() "
   ]
  },
  {
   "cell_type": "markdown",
   "metadata": {},
   "source": [
    "### Result\n",
    "As you can see the slight sharp turing elbow point is around K=4, so we choose K = 4 "
   ]
  },
  {
   "cell_type": "code",
   "execution_count": 48,
   "metadata": {
    "scrolled": false
   },
   "outputs": [
    {
     "data": {
      "text/plain": [
       "array([0, 0, 2, 0, 0, 0, 3, 0, 0, 0, 0, 0, 0, 0, 0, 1, 0, 0, 0])"
      ]
     },
     "execution_count": 48,
     "metadata": {},
     "output_type": "execute_result"
    }
   ],
   "source": [
    "# set number of clusters\n",
    "kclusters = 4\n",
    "\n",
    "# run k-means clustering\n",
    "kmeans = KMeans(n_clusters=kclusters, random_state=0).fit(X)\n",
    "\n",
    "# check cluster labels generated for each row in the dataframe\n",
    "kmeans.labels_[0:] "
   ]
  },
  {
   "cell_type": "code",
   "execution_count": 49,
   "metadata": {
    "scrolled": false
   },
   "outputs": [
    {
     "data": {
      "text/html": [
       "<div>\n",
       "<style scoped>\n",
       "    .dataframe tbody tr th:only-of-type {\n",
       "        vertical-align: middle;\n",
       "    }\n",
       "\n",
       "    .dataframe tbody tr th {\n",
       "        vertical-align: top;\n",
       "    }\n",
       "\n",
       "    .dataframe thead th {\n",
       "        text-align: right;\n",
       "    }\n",
       "</style>\n",
       "<table border=\"1\" class=\"dataframe\">\n",
       "  <thead>\n",
       "    <tr style=\"text-align: right;\">\n",
       "      <th></th>\n",
       "      <th>Postcode</th>\n",
       "      <th>Borough</th>\n",
       "      <th>Neighbourhood</th>\n",
       "      <th>Latitude</th>\n",
       "      <th>Longitude</th>\n",
       "      <th>Cluster Labels</th>\n",
       "      <th>1st Most Common Venue</th>\n",
       "      <th>2nd Most Common Venue</th>\n",
       "      <th>3rd Most Common Venue</th>\n",
       "    </tr>\n",
       "  </thead>\n",
       "  <tbody>\n",
       "    <tr>\n",
       "      <th>0</th>\n",
       "      <td>M4W</td>\n",
       "      <td>Downtown Toronto</td>\n",
       "      <td>Rosedale</td>\n",
       "      <td>43.679563</td>\n",
       "      <td>-79.377529</td>\n",
       "      <td>1</td>\n",
       "      <td>Park</td>\n",
       "      <td>Playground</td>\n",
       "      <td>Trail</td>\n",
       "    </tr>\n",
       "    <tr>\n",
       "      <th>1</th>\n",
       "      <td>M4X</td>\n",
       "      <td>Downtown Toronto</td>\n",
       "      <td>Cabbagetown, St. James Town</td>\n",
       "      <td>43.667967</td>\n",
       "      <td>-79.367675</td>\n",
       "      <td>0</td>\n",
       "      <td>Café</td>\n",
       "      <td>Coffee Shop</td>\n",
       "      <td>Restaurant</td>\n",
       "    </tr>\n",
       "    <tr>\n",
       "      <th>2</th>\n",
       "      <td>M4Y</td>\n",
       "      <td>Downtown Toronto</td>\n",
       "      <td>Church and Wellesley</td>\n",
       "      <td>43.665860</td>\n",
       "      <td>-79.383160</td>\n",
       "      <td>0</td>\n",
       "      <td>Coffee Shop</td>\n",
       "      <td>Japanese Restaurant</td>\n",
       "      <td>Burger Joint</td>\n",
       "    </tr>\n",
       "    <tr>\n",
       "      <th>3</th>\n",
       "      <td>M5A</td>\n",
       "      <td>Downtown Toronto</td>\n",
       "      <td>Harbourfront</td>\n",
       "      <td>43.654260</td>\n",
       "      <td>-79.360636</td>\n",
       "      <td>0</td>\n",
       "      <td>Coffee Shop</td>\n",
       "      <td>Park</td>\n",
       "      <td>Café</td>\n",
       "    </tr>\n",
       "    <tr>\n",
       "      <th>4</th>\n",
       "      <td>M5B</td>\n",
       "      <td>Downtown Toronto</td>\n",
       "      <td>Ryerson, Garden District</td>\n",
       "      <td>43.657162</td>\n",
       "      <td>-79.378937</td>\n",
       "      <td>0</td>\n",
       "      <td>Coffee Shop</td>\n",
       "      <td>Clothing Store</td>\n",
       "      <td>Middle Eastern Restaurant</td>\n",
       "    </tr>\n",
       "    <tr>\n",
       "      <th>5</th>\n",
       "      <td>M5C</td>\n",
       "      <td>Downtown Toronto</td>\n",
       "      <td>St. James Town</td>\n",
       "      <td>43.651494</td>\n",
       "      <td>-79.375418</td>\n",
       "      <td>0</td>\n",
       "      <td>Coffee Shop</td>\n",
       "      <td>Café</td>\n",
       "      <td>Restaurant</td>\n",
       "    </tr>\n",
       "    <tr>\n",
       "      <th>6</th>\n",
       "      <td>M5E</td>\n",
       "      <td>Downtown Toronto</td>\n",
       "      <td>Berczy Park</td>\n",
       "      <td>43.644771</td>\n",
       "      <td>-79.373306</td>\n",
       "      <td>0</td>\n",
       "      <td>Coffee Shop</td>\n",
       "      <td>Farmers Market</td>\n",
       "      <td>Seafood Restaurant</td>\n",
       "    </tr>\n",
       "    <tr>\n",
       "      <th>7</th>\n",
       "      <td>M5G</td>\n",
       "      <td>Downtown Toronto</td>\n",
       "      <td>Central Bay Street</td>\n",
       "      <td>43.657952</td>\n",
       "      <td>-79.387383</td>\n",
       "      <td>0</td>\n",
       "      <td>Coffee Shop</td>\n",
       "      <td>Italian Restaurant</td>\n",
       "      <td>Japanese Restaurant</td>\n",
       "    </tr>\n",
       "    <tr>\n",
       "      <th>8</th>\n",
       "      <td>M5H</td>\n",
       "      <td>Downtown Toronto</td>\n",
       "      <td>Adelaide, King, Richmond</td>\n",
       "      <td>43.650571</td>\n",
       "      <td>-79.384568</td>\n",
       "      <td>0</td>\n",
       "      <td>Coffee Shop</td>\n",
       "      <td>Restaurant</td>\n",
       "      <td>Café</td>\n",
       "    </tr>\n",
       "    <tr>\n",
       "      <th>9</th>\n",
       "      <td>M5J</td>\n",
       "      <td>Downtown Toronto</td>\n",
       "      <td>Harbourfront East, Toronto Islands, Union Station</td>\n",
       "      <td>43.640816</td>\n",
       "      <td>-79.381752</td>\n",
       "      <td>0</td>\n",
       "      <td>Coffee Shop</td>\n",
       "      <td>Aquarium</td>\n",
       "      <td>Café</td>\n",
       "    </tr>\n",
       "    <tr>\n",
       "      <th>10</th>\n",
       "      <td>M5K</td>\n",
       "      <td>Downtown Toronto</td>\n",
       "      <td>Design Exchange, Toronto Dominion Centre</td>\n",
       "      <td>43.647177</td>\n",
       "      <td>-79.381576</td>\n",
       "      <td>0</td>\n",
       "      <td>Coffee Shop</td>\n",
       "      <td>Café</td>\n",
       "      <td>Restaurant</td>\n",
       "    </tr>\n",
       "    <tr>\n",
       "      <th>11</th>\n",
       "      <td>M5L</td>\n",
       "      <td>Downtown Toronto</td>\n",
       "      <td>Commerce Court, Victoria Hotel</td>\n",
       "      <td>43.648198</td>\n",
       "      <td>-79.379817</td>\n",
       "      <td>0</td>\n",
       "      <td>Coffee Shop</td>\n",
       "      <td>Café</td>\n",
       "      <td>Restaurant</td>\n",
       "    </tr>\n",
       "    <tr>\n",
       "      <th>12</th>\n",
       "      <td>M5S</td>\n",
       "      <td>Downtown Toronto</td>\n",
       "      <td>Harbord, University of Toronto</td>\n",
       "      <td>43.662696</td>\n",
       "      <td>-79.400049</td>\n",
       "      <td>0</td>\n",
       "      <td>Café</td>\n",
       "      <td>Restaurant</td>\n",
       "      <td>Bookstore</td>\n",
       "    </tr>\n",
       "    <tr>\n",
       "      <th>13</th>\n",
       "      <td>M5T</td>\n",
       "      <td>Downtown Toronto</td>\n",
       "      <td>Chinatown, Grange Park, Kensington Market</td>\n",
       "      <td>43.653206</td>\n",
       "      <td>-79.400049</td>\n",
       "      <td>0</td>\n",
       "      <td>Bar</td>\n",
       "      <td>Vietnamese Restaurant</td>\n",
       "      <td>Bakery</td>\n",
       "    </tr>\n",
       "    <tr>\n",
       "      <th>14</th>\n",
       "      <td>M5V</td>\n",
       "      <td>Downtown Toronto</td>\n",
       "      <td>CN Tower, Bathurst Quay, Island airport, Harbo...</td>\n",
       "      <td>43.628947</td>\n",
       "      <td>-79.394420</td>\n",
       "      <td>2</td>\n",
       "      <td>Airport Service</td>\n",
       "      <td>Airport Lounge</td>\n",
       "      <td>Airport Terminal</td>\n",
       "    </tr>\n",
       "    <tr>\n",
       "      <th>15</th>\n",
       "      <td>M5W</td>\n",
       "      <td>Downtown Toronto</td>\n",
       "      <td>Stn A PO Boxes 25 The Esplanade</td>\n",
       "      <td>43.646435</td>\n",
       "      <td>-79.374846</td>\n",
       "      <td>0</td>\n",
       "      <td>Coffee Shop</td>\n",
       "      <td>Restaurant</td>\n",
       "      <td>Café</td>\n",
       "    </tr>\n",
       "    <tr>\n",
       "      <th>16</th>\n",
       "      <td>M5X</td>\n",
       "      <td>Downtown Toronto</td>\n",
       "      <td>First Canadian Place, Underground city</td>\n",
       "      <td>43.648429</td>\n",
       "      <td>-79.382280</td>\n",
       "      <td>0</td>\n",
       "      <td>Coffee Shop</td>\n",
       "      <td>Café</td>\n",
       "      <td>Restaurant</td>\n",
       "    </tr>\n",
       "    <tr>\n",
       "      <th>17</th>\n",
       "      <td>M6G</td>\n",
       "      <td>Downtown Toronto</td>\n",
       "      <td>Christie</td>\n",
       "      <td>43.669542</td>\n",
       "      <td>-79.422564</td>\n",
       "      <td>3</td>\n",
       "      <td>Grocery Store</td>\n",
       "      <td>Café</td>\n",
       "      <td>Park</td>\n",
       "    </tr>\n",
       "    <tr>\n",
       "      <th>18</th>\n",
       "      <td>M7A</td>\n",
       "      <td>Downtown Toronto</td>\n",
       "      <td>Queen's Park</td>\n",
       "      <td>43.662301</td>\n",
       "      <td>-79.389494</td>\n",
       "      <td>0</td>\n",
       "      <td>Coffee Shop</td>\n",
       "      <td>Park</td>\n",
       "      <td>Burger Joint</td>\n",
       "    </tr>\n",
       "  </tbody>\n",
       "</table>\n",
       "</div>"
      ],
      "text/plain": [
       "   Postcode           Borough  \\\n",
       "0       M4W  Downtown Toronto   \n",
       "1       M4X  Downtown Toronto   \n",
       "2       M4Y  Downtown Toronto   \n",
       "3       M5A  Downtown Toronto   \n",
       "4       M5B  Downtown Toronto   \n",
       "5       M5C  Downtown Toronto   \n",
       "6       M5E  Downtown Toronto   \n",
       "7       M5G  Downtown Toronto   \n",
       "8       M5H  Downtown Toronto   \n",
       "9       M5J  Downtown Toronto   \n",
       "10      M5K  Downtown Toronto   \n",
       "11      M5L  Downtown Toronto   \n",
       "12      M5S  Downtown Toronto   \n",
       "13      M5T  Downtown Toronto   \n",
       "14      M5V  Downtown Toronto   \n",
       "15      M5W  Downtown Toronto   \n",
       "16      M5X  Downtown Toronto   \n",
       "17      M6G  Downtown Toronto   \n",
       "18      M7A  Downtown Toronto   \n",
       "\n",
       "                                        Neighbourhood   Latitude  Longitude  \\\n",
       "0                                            Rosedale  43.679563 -79.377529   \n",
       "1                         Cabbagetown, St. James Town  43.667967 -79.367675   \n",
       "2                                Church and Wellesley  43.665860 -79.383160   \n",
       "3                                        Harbourfront  43.654260 -79.360636   \n",
       "4                            Ryerson, Garden District  43.657162 -79.378937   \n",
       "5                                      St. James Town  43.651494 -79.375418   \n",
       "6                                         Berczy Park  43.644771 -79.373306   \n",
       "7                                  Central Bay Street  43.657952 -79.387383   \n",
       "8                            Adelaide, King, Richmond  43.650571 -79.384568   \n",
       "9   Harbourfront East, Toronto Islands, Union Station  43.640816 -79.381752   \n",
       "10           Design Exchange, Toronto Dominion Centre  43.647177 -79.381576   \n",
       "11                     Commerce Court, Victoria Hotel  43.648198 -79.379817   \n",
       "12                     Harbord, University of Toronto  43.662696 -79.400049   \n",
       "13          Chinatown, Grange Park, Kensington Market  43.653206 -79.400049   \n",
       "14  CN Tower, Bathurst Quay, Island airport, Harbo...  43.628947 -79.394420   \n",
       "15                    Stn A PO Boxes 25 The Esplanade  43.646435 -79.374846   \n",
       "16             First Canadian Place, Underground city  43.648429 -79.382280   \n",
       "17                                           Christie  43.669542 -79.422564   \n",
       "18                                       Queen's Park  43.662301 -79.389494   \n",
       "\n",
       "    Cluster Labels 1st Most Common Venue  2nd Most Common Venue  \\\n",
       "0                1                  Park             Playground   \n",
       "1                0                  Café            Coffee Shop   \n",
       "2                0           Coffee Shop    Japanese Restaurant   \n",
       "3                0           Coffee Shop                   Park   \n",
       "4                0           Coffee Shop         Clothing Store   \n",
       "5                0           Coffee Shop                   Café   \n",
       "6                0           Coffee Shop         Farmers Market   \n",
       "7                0           Coffee Shop     Italian Restaurant   \n",
       "8                0           Coffee Shop             Restaurant   \n",
       "9                0           Coffee Shop               Aquarium   \n",
       "10               0           Coffee Shop                   Café   \n",
       "11               0           Coffee Shop                   Café   \n",
       "12               0                  Café             Restaurant   \n",
       "13               0                   Bar  Vietnamese Restaurant   \n",
       "14               2       Airport Service         Airport Lounge   \n",
       "15               0           Coffee Shop             Restaurant   \n",
       "16               0           Coffee Shop                   Café   \n",
       "17               3         Grocery Store                   Café   \n",
       "18               0           Coffee Shop                   Park   \n",
       "\n",
       "        3rd Most Common Venue  \n",
       "0                       Trail  \n",
       "1                  Restaurant  \n",
       "2                Burger Joint  \n",
       "3                        Café  \n",
       "4   Middle Eastern Restaurant  \n",
       "5                  Restaurant  \n",
       "6          Seafood Restaurant  \n",
       "7         Japanese Restaurant  \n",
       "8                        Café  \n",
       "9                        Café  \n",
       "10                 Restaurant  \n",
       "11                 Restaurant  \n",
       "12                  Bookstore  \n",
       "13                     Bakery  \n",
       "14           Airport Terminal  \n",
       "15                       Café  \n",
       "16                 Restaurant  \n",
       "17                       Park  \n",
       "18               Burger Joint  "
      ]
     },
     "execution_count": 49,
     "metadata": {},
     "output_type": "execute_result"
    }
   ],
   "source": [
    "# add clustering labels\n",
    "neighbourhoods_venues_sorted.insert(0, 'Cluster Labels', kmeans.labels_)\n",
    "\n",
    "downtown_merged = downtown_data\n",
    "\n",
    "# merge toronto_grouped with toronto_data to add latitude/longitude for each neighbourhood\n",
    "downtown_merged = downtown_merged.join(neighbourhoods_venues_sorted.set_index('Neighbourhood'), on='Neighbourhood')\n",
    "\n",
    "downtown_merged"
   ]
  },
  {
   "cell_type": "code",
   "execution_count": 39,
   "metadata": {
    "scrolled": false
   },
   "outputs": [
    {
     "data": {
      "text/html": [
       "<div style=\"width:100%;\"><div style=\"position:relative;width:100%;height:0;padding-bottom:60%;\"><iframe src=\"data:text/html;charset=utf-8;base64,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\" style=\"position:absolute;width:100%;height:100%;left:0;top:0;border:none !important;\" allowfullscreen webkitallowfullscreen mozallowfullscreen></iframe></div></div>"
      ],
      "text/plain": [
       "<folium.folium.Map at 0xe583b8>"
      ]
     },
     "execution_count": 39,
     "metadata": {},
     "output_type": "execute_result"
    }
   ],
   "source": [
    "# create map\n",
    "map_clusters = folium.Map(location=[latitude, longitude], zoom_start=11)\n",
    "\n",
    "# set color scheme for the clusters\n",
    "x = np.arange(kclusters)\n",
    "ys = [i + x + (i*x)**2 for i in range(kclusters)]\n",
    "colors_array = cm.rainbow(np.linspace(0, 1, len(ys)))\n",
    "rainbow = [colors.rgb2hex(i) for i in colors_array]\n",
    "\n",
    "# add markers to the map\n",
    "markers_colors = []\n",
    "for lat, lon, poi, cluster in zip(downtown_merged['Latitude'], downtown_merged['Longitude'], downtown_merged['Neighbourhood'], downtown_merged['Cluster Labels']):\n",
    "    label = folium.Popup(str(poi) + ' Cluster ' + str(cluster), parse_html=True)\n",
    "    folium.CircleMarker(\n",
    "        [lat, lon],\n",
    "        radius=5,\n",
    "        popup=label,\n",
    "        color=rainbow[cluster-1],\n",
    "        fill=True,\n",
    "        fill_color=rainbow[cluster-1],\n",
    "        fill_opacity=0.7).add_to(map_clusters)\n",
    "       \n",
    "map_clusters"
   ]
  },
  {
   "cell_type": "markdown",
   "metadata": {},
   "source": [
    "### Result\n",
    "As we can the purple circle group is concentrated around the center of downtown Toronto. The red, yellow, and green circle group are far away from the center. Although, all the groups are belong to downtown Toronto "
   ]
  },
  {
   "cell_type": "markdown",
   "metadata": {},
   "source": [
    "### Cluster 1"
   ]
  },
  {
   "cell_type": "code",
   "execution_count": 40,
   "metadata": {
    "scrolled": false
   },
   "outputs": [
    {
     "data": {
      "text/html": [
       "<div>\n",
       "<style scoped>\n",
       "    .dataframe tbody tr th:only-of-type {\n",
       "        vertical-align: middle;\n",
       "    }\n",
       "\n",
       "    .dataframe tbody tr th {\n",
       "        vertical-align: top;\n",
       "    }\n",
       "\n",
       "    .dataframe thead th {\n",
       "        text-align: right;\n",
       "    }\n",
       "</style>\n",
       "<table border=\"1\" class=\"dataframe\">\n",
       "  <thead>\n",
       "    <tr style=\"text-align: right;\">\n",
       "      <th></th>\n",
       "      <th>Borough</th>\n",
       "      <th>Longitude</th>\n",
       "      <th>Cluster Labels</th>\n",
       "      <th>1st Most Common Venue</th>\n",
       "      <th>2nd Most Common Venue</th>\n",
       "      <th>3rd Most Common Venue</th>\n",
       "    </tr>\n",
       "  </thead>\n",
       "  <tbody>\n",
       "    <tr>\n",
       "      <th>14</th>\n",
       "      <td>Downtown Toronto</td>\n",
       "      <td>-79.39442</td>\n",
       "      <td>0</td>\n",
       "      <td>Airport Service</td>\n",
       "      <td>Airport Lounge</td>\n",
       "      <td>Airport Terminal</td>\n",
       "    </tr>\n",
       "  </tbody>\n",
       "</table>\n",
       "</div>"
      ],
      "text/plain": [
       "             Borough  Longitude  Cluster Labels 1st Most Common Venue  \\\n",
       "14  Downtown Toronto  -79.39442               0       Airport Service   \n",
       "\n",
       "   2nd Most Common Venue 3rd Most Common Venue  \n",
       "14        Airport Lounge      Airport Terminal  "
      ]
     },
     "execution_count": 40,
     "metadata": {},
     "output_type": "execute_result"
    }
   ],
   "source": [
    "downtown_merged.loc[downtown_merged['Cluster Labels'] == 0, downtown_merged.columns[[1] + list(range(4, downtown_merged.shape[1]))]]"
   ]
  },
  {
   "cell_type": "markdown",
   "metadata": {},
   "source": [
    "#### Description\n",
    "The group 1 seems belong to the red group which is south from the downtown. The top 3 common venues are all related to Airport service. If you want to start a bussiness close to this cluster. I suggest to invest in airport services."
   ]
  },
  {
   "cell_type": "markdown",
   "metadata": {},
   "source": [
    "### Cluster 2"
   ]
  },
  {
   "cell_type": "code",
   "execution_count": 41,
   "metadata": {
    "scrolled": true
   },
   "outputs": [
    {
     "data": {
      "text/html": [
       "<div>\n",
       "<style scoped>\n",
       "    .dataframe tbody tr th:only-of-type {\n",
       "        vertical-align: middle;\n",
       "    }\n",
       "\n",
       "    .dataframe tbody tr th {\n",
       "        vertical-align: top;\n",
       "    }\n",
       "\n",
       "    .dataframe thead th {\n",
       "        text-align: right;\n",
       "    }\n",
       "</style>\n",
       "<table border=\"1\" class=\"dataframe\">\n",
       "  <thead>\n",
       "    <tr style=\"text-align: right;\">\n",
       "      <th></th>\n",
       "      <th>Borough</th>\n",
       "      <th>Longitude</th>\n",
       "      <th>Cluster Labels</th>\n",
       "      <th>1st Most Common Venue</th>\n",
       "      <th>2nd Most Common Venue</th>\n",
       "      <th>3rd Most Common Venue</th>\n",
       "    </tr>\n",
       "  </thead>\n",
       "  <tbody>\n",
       "    <tr>\n",
       "      <th>1</th>\n",
       "      <td>Downtown Toronto</td>\n",
       "      <td>-79.367675</td>\n",
       "      <td>1</td>\n",
       "      <td>Coffee Shop</td>\n",
       "      <td>Bakery</td>\n",
       "      <td>Pizza Place</td>\n",
       "    </tr>\n",
       "    <tr>\n",
       "      <th>2</th>\n",
       "      <td>Downtown Toronto</td>\n",
       "      <td>-79.383160</td>\n",
       "      <td>1</td>\n",
       "      <td>Coffee Shop</td>\n",
       "      <td>Japanese Restaurant</td>\n",
       "      <td>Gay Bar</td>\n",
       "    </tr>\n",
       "    <tr>\n",
       "      <th>3</th>\n",
       "      <td>Downtown Toronto</td>\n",
       "      <td>-79.360636</td>\n",
       "      <td>1</td>\n",
       "      <td>Coffee Shop</td>\n",
       "      <td>Park</td>\n",
       "      <td>Pub</td>\n",
       "    </tr>\n",
       "    <tr>\n",
       "      <th>4</th>\n",
       "      <td>Downtown Toronto</td>\n",
       "      <td>-79.378937</td>\n",
       "      <td>1</td>\n",
       "      <td>Coffee Shop</td>\n",
       "      <td>Clothing Store</td>\n",
       "      <td>Café</td>\n",
       "    </tr>\n",
       "    <tr>\n",
       "      <th>5</th>\n",
       "      <td>Downtown Toronto</td>\n",
       "      <td>-79.375418</td>\n",
       "      <td>1</td>\n",
       "      <td>Coffee Shop</td>\n",
       "      <td>Café</td>\n",
       "      <td>Restaurant</td>\n",
       "    </tr>\n",
       "    <tr>\n",
       "      <th>6</th>\n",
       "      <td>Downtown Toronto</td>\n",
       "      <td>-79.373306</td>\n",
       "      <td>1</td>\n",
       "      <td>Coffee Shop</td>\n",
       "      <td>Cocktail Bar</td>\n",
       "      <td>Café</td>\n",
       "    </tr>\n",
       "    <tr>\n",
       "      <th>7</th>\n",
       "      <td>Downtown Toronto</td>\n",
       "      <td>-79.387383</td>\n",
       "      <td>1</td>\n",
       "      <td>Coffee Shop</td>\n",
       "      <td>Italian Restaurant</td>\n",
       "      <td>Sandwich Place</td>\n",
       "    </tr>\n",
       "    <tr>\n",
       "      <th>8</th>\n",
       "      <td>Downtown Toronto</td>\n",
       "      <td>-79.384568</td>\n",
       "      <td>1</td>\n",
       "      <td>Coffee Shop</td>\n",
       "      <td>Café</td>\n",
       "      <td>Bar</td>\n",
       "    </tr>\n",
       "    <tr>\n",
       "      <th>9</th>\n",
       "      <td>Downtown Toronto</td>\n",
       "      <td>-79.381752</td>\n",
       "      <td>1</td>\n",
       "      <td>Coffee Shop</td>\n",
       "      <td>Aquarium</td>\n",
       "      <td>Café</td>\n",
       "    </tr>\n",
       "    <tr>\n",
       "      <th>10</th>\n",
       "      <td>Downtown Toronto</td>\n",
       "      <td>-79.381576</td>\n",
       "      <td>1</td>\n",
       "      <td>Coffee Shop</td>\n",
       "      <td>Café</td>\n",
       "      <td>Hotel</td>\n",
       "    </tr>\n",
       "    <tr>\n",
       "      <th>11</th>\n",
       "      <td>Downtown Toronto</td>\n",
       "      <td>-79.379817</td>\n",
       "      <td>1</td>\n",
       "      <td>Coffee Shop</td>\n",
       "      <td>Café</td>\n",
       "      <td>Restaurant</td>\n",
       "    </tr>\n",
       "    <tr>\n",
       "      <th>12</th>\n",
       "      <td>Downtown Toronto</td>\n",
       "      <td>-79.400049</td>\n",
       "      <td>1</td>\n",
       "      <td>Café</td>\n",
       "      <td>Bar</td>\n",
       "      <td>Italian Restaurant</td>\n",
       "    </tr>\n",
       "    <tr>\n",
       "      <th>13</th>\n",
       "      <td>Downtown Toronto</td>\n",
       "      <td>-79.400049</td>\n",
       "      <td>1</td>\n",
       "      <td>Bar</td>\n",
       "      <td>Vietnamese Restaurant</td>\n",
       "      <td>Café</td>\n",
       "    </tr>\n",
       "    <tr>\n",
       "      <th>15</th>\n",
       "      <td>Downtown Toronto</td>\n",
       "      <td>-79.374846</td>\n",
       "      <td>1</td>\n",
       "      <td>Coffee Shop</td>\n",
       "      <td>Restaurant</td>\n",
       "      <td>Café</td>\n",
       "    </tr>\n",
       "    <tr>\n",
       "      <th>16</th>\n",
       "      <td>Downtown Toronto</td>\n",
       "      <td>-79.382280</td>\n",
       "      <td>1</td>\n",
       "      <td>Coffee Shop</td>\n",
       "      <td>Café</td>\n",
       "      <td>Restaurant</td>\n",
       "    </tr>\n",
       "    <tr>\n",
       "      <th>18</th>\n",
       "      <td>Downtown Toronto</td>\n",
       "      <td>-79.389494</td>\n",
       "      <td>1</td>\n",
       "      <td>Coffee Shop</td>\n",
       "      <td>Park</td>\n",
       "      <td>Gym</td>\n",
       "    </tr>\n",
       "  </tbody>\n",
       "</table>\n",
       "</div>"
      ],
      "text/plain": [
       "             Borough  Longitude  Cluster Labels 1st Most Common Venue  \\\n",
       "1   Downtown Toronto -79.367675               1           Coffee Shop   \n",
       "2   Downtown Toronto -79.383160               1           Coffee Shop   \n",
       "3   Downtown Toronto -79.360636               1           Coffee Shop   \n",
       "4   Downtown Toronto -79.378937               1           Coffee Shop   \n",
       "5   Downtown Toronto -79.375418               1           Coffee Shop   \n",
       "6   Downtown Toronto -79.373306               1           Coffee Shop   \n",
       "7   Downtown Toronto -79.387383               1           Coffee Shop   \n",
       "8   Downtown Toronto -79.384568               1           Coffee Shop   \n",
       "9   Downtown Toronto -79.381752               1           Coffee Shop   \n",
       "10  Downtown Toronto -79.381576               1           Coffee Shop   \n",
       "11  Downtown Toronto -79.379817               1           Coffee Shop   \n",
       "12  Downtown Toronto -79.400049               1                  Café   \n",
       "13  Downtown Toronto -79.400049               1                   Bar   \n",
       "15  Downtown Toronto -79.374846               1           Coffee Shop   \n",
       "16  Downtown Toronto -79.382280               1           Coffee Shop   \n",
       "18  Downtown Toronto -79.389494               1           Coffee Shop   \n",
       "\n",
       "    2nd Most Common Venue 3rd Most Common Venue  \n",
       "1                  Bakery           Pizza Place  \n",
       "2     Japanese Restaurant               Gay Bar  \n",
       "3                    Park                   Pub  \n",
       "4          Clothing Store                  Café  \n",
       "5                    Café            Restaurant  \n",
       "6            Cocktail Bar                  Café  \n",
       "7      Italian Restaurant        Sandwich Place  \n",
       "8                    Café                   Bar  \n",
       "9                Aquarium                  Café  \n",
       "10                   Café                 Hotel  \n",
       "11                   Café            Restaurant  \n",
       "12                    Bar    Italian Restaurant  \n",
       "13  Vietnamese Restaurant                  Café  \n",
       "15             Restaurant                  Café  \n",
       "16                   Café            Restaurant  \n",
       "18                   Park                   Gym  "
      ]
     },
     "execution_count": 41,
     "metadata": {},
     "output_type": "execute_result"
    }
   ],
   "source": [
    "downtown_merged.loc[downtown_merged['Cluster Labels'] == 1, downtown_merged.columns[[1] + list(range(4, downtown_merged.shape[1]))]]"
   ]
  },
  {
   "cell_type": "markdown",
   "metadata": {},
   "source": [
    "#### Description\n",
    "The group 2 seems belong to the purple group around downtown. The top 3 common venues are related to dining. Coffee shop is the most popular one, followed by cafe and restaurnt. In order to increase visibility of your store, I suggest to invest in food services."
   ]
  },
  {
   "cell_type": "markdown",
   "metadata": {},
   "source": [
    "### Cluster 3"
   ]
  },
  {
   "cell_type": "code",
   "execution_count": 42,
   "metadata": {
    "scrolled": false
   },
   "outputs": [
    {
     "data": {
      "text/html": [
       "<div>\n",
       "<style scoped>\n",
       "    .dataframe tbody tr th:only-of-type {\n",
       "        vertical-align: middle;\n",
       "    }\n",
       "\n",
       "    .dataframe tbody tr th {\n",
       "        vertical-align: top;\n",
       "    }\n",
       "\n",
       "    .dataframe thead th {\n",
       "        text-align: right;\n",
       "    }\n",
       "</style>\n",
       "<table border=\"1\" class=\"dataframe\">\n",
       "  <thead>\n",
       "    <tr style=\"text-align: right;\">\n",
       "      <th></th>\n",
       "      <th>Borough</th>\n",
       "      <th>Longitude</th>\n",
       "      <th>Cluster Labels</th>\n",
       "      <th>1st Most Common Venue</th>\n",
       "      <th>2nd Most Common Venue</th>\n",
       "      <th>3rd Most Common Venue</th>\n",
       "    </tr>\n",
       "  </thead>\n",
       "  <tbody>\n",
       "    <tr>\n",
       "      <th>17</th>\n",
       "      <td>Downtown Toronto</td>\n",
       "      <td>-79.422564</td>\n",
       "      <td>2</td>\n",
       "      <td>Grocery Store</td>\n",
       "      <td>Café</td>\n",
       "      <td>Park</td>\n",
       "    </tr>\n",
       "  </tbody>\n",
       "</table>\n",
       "</div>"
      ],
      "text/plain": [
       "             Borough  Longitude  Cluster Labels 1st Most Common Venue  \\\n",
       "17  Downtown Toronto -79.422564               2         Grocery Store   \n",
       "\n",
       "   2nd Most Common Venue 3rd Most Common Venue  \n",
       "17                  Café                  Park  "
      ]
     },
     "execution_count": 42,
     "metadata": {},
     "output_type": "execute_result"
    }
   ],
   "source": [
    "downtown_merged.loc[downtown_merged['Cluster Labels'] == 2, downtown_merged.columns[[1] + list(range(4, downtown_merged.shape[1]))]]"
   ]
  },
  {
   "cell_type": "markdown",
   "metadata": {},
   "source": [
    "#### Description\n",
    "The group 3 seems belong to the red group west downtown. The top 3 common venues are more diversified. Grocery store is the number. This cluster looks like a residential area. Might suitable for real estate services.  "
   ]
  },
  {
   "cell_type": "markdown",
   "metadata": {},
   "source": [
    "### Cluster 4"
   ]
  },
  {
   "cell_type": "code",
   "execution_count": 43,
   "metadata": {
    "scrolled": false
   },
   "outputs": [
    {
     "data": {
      "text/html": [
       "<div>\n",
       "<style scoped>\n",
       "    .dataframe tbody tr th:only-of-type {\n",
       "        vertical-align: middle;\n",
       "    }\n",
       "\n",
       "    .dataframe tbody tr th {\n",
       "        vertical-align: top;\n",
       "    }\n",
       "\n",
       "    .dataframe thead th {\n",
       "        text-align: right;\n",
       "    }\n",
       "</style>\n",
       "<table border=\"1\" class=\"dataframe\">\n",
       "  <thead>\n",
       "    <tr style=\"text-align: right;\">\n",
       "      <th></th>\n",
       "      <th>Borough</th>\n",
       "      <th>Longitude</th>\n",
       "      <th>Cluster Labels</th>\n",
       "      <th>1st Most Common Venue</th>\n",
       "      <th>2nd Most Common Venue</th>\n",
       "      <th>3rd Most Common Venue</th>\n",
       "    </tr>\n",
       "  </thead>\n",
       "  <tbody>\n",
       "    <tr>\n",
       "      <th>0</th>\n",
       "      <td>Downtown Toronto</td>\n",
       "      <td>-79.377529</td>\n",
       "      <td>3</td>\n",
       "      <td>Park</td>\n",
       "      <td>Playground</td>\n",
       "      <td>Trail</td>\n",
       "    </tr>\n",
       "  </tbody>\n",
       "</table>\n",
       "</div>"
      ],
      "text/plain": [
       "            Borough  Longitude  Cluster Labels 1st Most Common Venue  \\\n",
       "0  Downtown Toronto -79.377529               3                  Park   \n",
       "\n",
       "  2nd Most Common Venue 3rd Most Common Venue  \n",
       "0            Playground                 Trail  "
      ]
     },
     "execution_count": 43,
     "metadata": {},
     "output_type": "execute_result"
    }
   ],
   "source": [
    "downtown_merged.loc[downtown_merged['Cluster Labels'] == 3, downtown_merged.columns[[1] + list(range(4, downtown_merged.shape[1]))]]"
   ]
  },
  {
   "cell_type": "markdown",
   "metadata": {},
   "source": [
    "#### Description\n",
    "The group 4 seems belong to the yellow group east downtown. The top 3 common venues are related to outdoor activity. This cluster looks like a suburbs. Might not suitable for open any store."
   ]
  },
  {
   "cell_type": "markdown",
   "metadata": {},
   "source": [
    "## Part 6 - Recap Result and Discussion\n",
    "### Mean Frequency Test in category\n",
    "Most common venues are coffee shops which are occupied 16 out of 19 neighbourhood and cafe is the second and followed by restaurant\n",
    "<br/>\n",
    "<br>\n",
    "In those 16 neighbourhoods of common venue of coffee shop, the top 3 are\n",
    "    <br>1. Queen's Park --------> 0.22\n",
    "    <br>2. Harbourfront --> 0.17\n",
    "    <br>3. Central Bay Street ----------> 0.16\n",
    "<br/>\n",
    "<br>CN Tower, Bathurst Quay, Island airport, Harbourfront West, King and Spadina, Railway Lands, South Niagara. Those places provides mostly airplor services.\n",
    "<br/>\n",
    "<br>Rosedale is a suburbs area. It is not ideal for open any store.\n",
    "<br/>\n",
    "<br>Christie is a residential area. It has highest frequency of grocery stores.\n",
    "\n",
    "### Elbow method in K - mean and Clustering\n",
    "Using elbow method, the optimal K is 4. \n",
    "Four cluster groups: purple, red, yellow, and green.\n",
    "<br/>\n",
    "<br>Purple --> Center of Downtown Toronto. (high coffe shop/cafe/restaurant)\n",
    "<br/>\n",
    "<br>Red --> South of Downtown Toronto (airport)\n",
    "<br/>\n",
    "<br>Yellow --> East of Downtown Toronto (suburbs area)\n",
    "<br/>\n",
    "<br>Green --> West of Downtown Toronto (high grocery stores)"
   ]
  },
  {
   "cell_type": "markdown",
   "metadata": {},
   "source": [
    "## Part 7 - Conclusion\n",
    "Although the analysis is general, it provides some inside of downtown Toronto area for the outsider who wants to invest here. It seems the government has good civil planning for the area. From the k-mean clustering method, I can see clearly that the area is divided by its own functionality. It turns out that all the commerce activity is concentrated in the center of Toronto. On west part, there are residential area. On east part, there are suburbs area for outdoor activity. Finally, the south part is the traveling area. If you want to open a store, certainly, you want to head to downtown to do so for maximizing your store visibility. If you want to invest for airport services, the south is probably your best bet. If you want to buy or do real estate, you might want to head west. Finally, if you want to invest in extreme outdoor activity, you might want to do it in east.  "
   ]
  }
 ],
 "metadata": {
  "kernelspec": {
   "display_name": "Python 3",
   "language": "python",
   "name": "python3"
  },
  "language_info": {
   "codemirror_mode": {
    "name": "ipython",
    "version": 3
   },
   "file_extension": ".py",
   "mimetype": "text/x-python",
   "name": "python",
   "nbconvert_exporter": "python",
   "pygments_lexer": "ipython3",
   "version": "3.8.1"
  }
 },
 "nbformat": 4,
 "nbformat_minor": 4
}
